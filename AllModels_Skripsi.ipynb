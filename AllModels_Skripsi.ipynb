{
  "nbformat": 4,
  "nbformat_minor": 0,
  "metadata": {
    "colab": {
      "provenance": [],
      "authorship_tag": "ABX9TyMovcUxBj1GXRFbFXa1PdLM",
      "include_colab_link": true
    },
    "kernelspec": {
      "name": "python3",
      "display_name": "Python 3"
    },
    "language_info": {
      "name": "python"
    }
  },
  "cells": [
    {
      "cell_type": "markdown",
      "metadata": {
        "id": "view-in-github",
        "colab_type": "text"
      },
      "source": [
        "<a href=\"https://colab.research.google.com/github/Jiiahhhh/SKRIPSI/blob/master/AllModels_Skripsi.ipynb\" target=\"_parent\"><img src=\"https://colab.research.google.com/assets/colab-badge.svg\" alt=\"Open In Colab\"/></a>"
      ]
    },
    {
      "cell_type": "code",
      "source": [
        "from sklearn.model_selection import train_test_split\n",
        "from sklearn.metrics import mean_squared_error, r2_score\n",
        "import pandas as pd\n",
        "import numpy as np"
      ],
      "metadata": {
        "id": "XoEf30AvOX67"
      },
      "execution_count": 79,
      "outputs": []
    },
    {
      "cell_type": "code",
      "execution_count": 73,
      "metadata": {
        "id": "fJvXcHKZOVFb"
      },
      "outputs": [],
      "source": [
        "df = pd.read_csv(\"newDataset.csv\", header=0)"
      ]
    },
    {
      "cell_type": "code",
      "source": [
        "dt = pd.read_csv('newDataTest.csv', header=0)"
      ],
      "metadata": {
        "id": "yWwanpc1Ofoz"
      },
      "execution_count": 74,
      "outputs": []
    },
    {
      "cell_type": "code",
      "source": [
        "X_train = df[['Lebar_px', 'Tinggi_px', 'luas']]\n",
        "X_test = dt[['Lebar_px', 'Tinggi_px', 'luas']]\n",
        "y_train = df['Berat']\n",
        "y_test = dt['Berat']"
      ],
      "metadata": {
        "id": "M66gT8_ibCBO"
      },
      "execution_count": 75,
      "outputs": []
    },
    {
      "cell_type": "markdown",
      "source": [
        "##Random Forest Regression\n",
        "* Mean Squared Error: 120.81383325421321\n",
        "* RMSE: 10.991534617796244\n",
        "* R-squared: -0.1611411447099953"
      ],
      "metadata": {
        "id": "wIO1zz5HOYKo"
      }
    },
    {
      "cell_type": "code",
      "source": [
        "from sklearn.ensemble import RandomForestRegressor"
      ],
      "metadata": {
        "id": "wSyuDEP2bDQX"
      },
      "execution_count": 76,
      "outputs": []
    },
    {
      "cell_type": "code",
      "source": [
        "random_model = RandomForestRegressor(n_estimators=100, random_state=42)\n",
        "\n",
        "random_model.fit(X_train, y_train)"
      ],
      "metadata": {
        "colab": {
          "base_uri": "https://localhost:8080/",
          "height": 74
        },
        "id": "yrDcy1peOhXI",
        "outputId": "0b008dac-d5a1-4e95-fc48-4435e3fc1fd0"
      },
      "execution_count": 77,
      "outputs": [
        {
          "output_type": "execute_result",
          "data": {
            "text/plain": [
              "RandomForestRegressor(random_state=42)"
            ],
            "text/html": [
              "<style>#sk-container-id-11 {color: black;background-color: white;}#sk-container-id-11 pre{padding: 0;}#sk-container-id-11 div.sk-toggleable {background-color: white;}#sk-container-id-11 label.sk-toggleable__label {cursor: pointer;display: block;width: 100%;margin-bottom: 0;padding: 0.3em;box-sizing: border-box;text-align: center;}#sk-container-id-11 label.sk-toggleable__label-arrow:before {content: \"▸\";float: left;margin-right: 0.25em;color: #696969;}#sk-container-id-11 label.sk-toggleable__label-arrow:hover:before {color: black;}#sk-container-id-11 div.sk-estimator:hover label.sk-toggleable__label-arrow:before {color: black;}#sk-container-id-11 div.sk-toggleable__content {max-height: 0;max-width: 0;overflow: hidden;text-align: left;background-color: #f0f8ff;}#sk-container-id-11 div.sk-toggleable__content pre {margin: 0.2em;color: black;border-radius: 0.25em;background-color: #f0f8ff;}#sk-container-id-11 input.sk-toggleable__control:checked~div.sk-toggleable__content {max-height: 200px;max-width: 100%;overflow: auto;}#sk-container-id-11 input.sk-toggleable__control:checked~label.sk-toggleable__label-arrow:before {content: \"▾\";}#sk-container-id-11 div.sk-estimator input.sk-toggleable__control:checked~label.sk-toggleable__label {background-color: #d4ebff;}#sk-container-id-11 div.sk-label input.sk-toggleable__control:checked~label.sk-toggleable__label {background-color: #d4ebff;}#sk-container-id-11 input.sk-hidden--visually {border: 0;clip: rect(1px 1px 1px 1px);clip: rect(1px, 1px, 1px, 1px);height: 1px;margin: -1px;overflow: hidden;padding: 0;position: absolute;width: 1px;}#sk-container-id-11 div.sk-estimator {font-family: monospace;background-color: #f0f8ff;border: 1px dotted black;border-radius: 0.25em;box-sizing: border-box;margin-bottom: 0.5em;}#sk-container-id-11 div.sk-estimator:hover {background-color: #d4ebff;}#sk-container-id-11 div.sk-parallel-item::after {content: \"\";width: 100%;border-bottom: 1px solid gray;flex-grow: 1;}#sk-container-id-11 div.sk-label:hover label.sk-toggleable__label {background-color: #d4ebff;}#sk-container-id-11 div.sk-serial::before {content: \"\";position: absolute;border-left: 1px solid gray;box-sizing: border-box;top: 0;bottom: 0;left: 50%;z-index: 0;}#sk-container-id-11 div.sk-serial {display: flex;flex-direction: column;align-items: center;background-color: white;padding-right: 0.2em;padding-left: 0.2em;position: relative;}#sk-container-id-11 div.sk-item {position: relative;z-index: 1;}#sk-container-id-11 div.sk-parallel {display: flex;align-items: stretch;justify-content: center;background-color: white;position: relative;}#sk-container-id-11 div.sk-item::before, #sk-container-id-11 div.sk-parallel-item::before {content: \"\";position: absolute;border-left: 1px solid gray;box-sizing: border-box;top: 0;bottom: 0;left: 50%;z-index: -1;}#sk-container-id-11 div.sk-parallel-item {display: flex;flex-direction: column;z-index: 1;position: relative;background-color: white;}#sk-container-id-11 div.sk-parallel-item:first-child::after {align-self: flex-end;width: 50%;}#sk-container-id-11 div.sk-parallel-item:last-child::after {align-self: flex-start;width: 50%;}#sk-container-id-11 div.sk-parallel-item:only-child::after {width: 0;}#sk-container-id-11 div.sk-dashed-wrapped {border: 1px dashed gray;margin: 0 0.4em 0.5em 0.4em;box-sizing: border-box;padding-bottom: 0.4em;background-color: white;}#sk-container-id-11 div.sk-label label {font-family: monospace;font-weight: bold;display: inline-block;line-height: 1.2em;}#sk-container-id-11 div.sk-label-container {text-align: center;}#sk-container-id-11 div.sk-container {/* jupyter's `normalize.less` sets `[hidden] { display: none; }` but bootstrap.min.css set `[hidden] { display: none !important; }` so we also need the `!important` here to be able to override the default hidden behavior on the sphinx rendered scikit-learn.org. See: https://github.com/scikit-learn/scikit-learn/issues/21755 */display: inline-block !important;position: relative;}#sk-container-id-11 div.sk-text-repr-fallback {display: none;}</style><div id=\"sk-container-id-11\" class=\"sk-top-container\"><div class=\"sk-text-repr-fallback\"><pre>RandomForestRegressor(random_state=42)</pre><b>In a Jupyter environment, please rerun this cell to show the HTML representation or trust the notebook. <br />On GitHub, the HTML representation is unable to render, please try loading this page with nbviewer.org.</b></div><div class=\"sk-container\" hidden><div class=\"sk-item\"><div class=\"sk-estimator sk-toggleable\"><input class=\"sk-toggleable__control sk-hidden--visually\" id=\"sk-estimator-id-11\" type=\"checkbox\" checked><label for=\"sk-estimator-id-11\" class=\"sk-toggleable__label sk-toggleable__label-arrow\">RandomForestRegressor</label><div class=\"sk-toggleable__content\"><pre>RandomForestRegressor(random_state=42)</pre></div></div></div></div></div>"
            ]
          },
          "metadata": {},
          "execution_count": 77
        }
      ]
    },
    {
      "cell_type": "code",
      "source": [
        "y_pred = random_model.predict(X_test)"
      ],
      "metadata": {
        "id": "C4rciQ6OOixq"
      },
      "execution_count": 78,
      "outputs": []
    },
    {
      "cell_type": "code",
      "source": [
        "mse = mean_squared_error(y_test, y_pred)\n",
        "r2 = r2_score(y_test, y_pred)\n",
        "rmse = np.sqrt(mse)\n",
        "\n",
        "print(\"Mean Squared Error:\", mse)\n",
        "print(\"RMSE:\", rmse)\n",
        "print(\"R-squared:\", r2)"
      ],
      "metadata": {
        "colab": {
          "base_uri": "https://localhost:8080/"
        },
        "id": "PVHyNmxsOkED",
        "outputId": "53bcff1a-15a6-4492-9502-661490ef1e19"
      },
      "execution_count": 80,
      "outputs": [
        {
          "output_type": "stream",
          "name": "stdout",
          "text": [
            "Mean Squared Error: 120.81383325421321\n",
            "RMSE: 10.991534617796244\n",
            "R-squared: -0.1611411447099953\n"
          ]
        }
      ]
    },
    {
      "cell_type": "code",
      "source": [
        "import joblib\n",
        "\n",
        "# Simpan model ke file\n",
        "joblib.dump(random_model, 'randomForestRegression.joblib')"
      ],
      "metadata": {
        "colab": {
          "base_uri": "https://localhost:8080/"
        },
        "id": "noCGnc4lOlDE",
        "outputId": "8d8fbd38-8ad6-45d3-9f81-cac678726ff0"
      },
      "execution_count": 81,
      "outputs": [
        {
          "output_type": "execute_result",
          "data": {
            "text/plain": [
              "['randomForestRegression.joblib']"
            ]
          },
          "metadata": {},
          "execution_count": 81
        }
      ]
    },
    {
      "cell_type": "code",
      "source": [
        "for actual, predicted in zip(np.array(y_test)[:100], y_pred[:100]):\n",
        "    print(f'Actual: {actual}, Predicted: {predicted:.2f}')"
      ],
      "metadata": {
        "colab": {
          "base_uri": "https://localhost:8080/"
        },
        "id": "AX0PtcgUa6eJ",
        "outputId": "9ea604ea-ad51-46e8-e11f-361dd25de7e8"
      },
      "execution_count": 82,
      "outputs": [
        {
          "output_type": "stream",
          "name": "stdout",
          "text": [
            "Actual: 35.5, Predicted: 25.41\n",
            "Actual: 35.5, Predicted: 23.85\n",
            "Actual: 35.5, Predicted: 23.17\n",
            "Actual: 35.5, Predicted: 21.17\n",
            "Actual: 35.5, Predicted: 23.84\n",
            "Actual: 35.5, Predicted: 21.17\n",
            "Actual: 35.5, Predicted: 21.58\n",
            "Actual: 35.5, Predicted: 25.82\n",
            "Actual: 35.5, Predicted: 18.91\n",
            "Actual: 35.5, Predicted: 25.41\n",
            "Actual: 35.5, Predicted: 25.71\n",
            "Actual: 35.5, Predicted: 25.96\n",
            "Actual: 35.5, Predicted: 24.51\n",
            "Actual: 35.5, Predicted: 24.14\n",
            "Actual: 35.5, Predicted: 24.36\n",
            "Actual: 35.5, Predicted: 24.84\n",
            "Actual: 35.5, Predicted: 23.40\n",
            "Actual: 35.5, Predicted: 24.94\n",
            "Actual: 35.5, Predicted: 21.17\n",
            "Actual: 35.5, Predicted: 23.54\n",
            "Actual: 11.0, Predicted: 18.21\n",
            "Actual: 11.0, Predicted: 17.57\n",
            "Actual: 11.0, Predicted: 30.70\n",
            "Actual: 11.0, Predicted: 16.79\n",
            "Actual: 11.0, Predicted: 31.00\n",
            "Actual: 11.0, Predicted: 19.97\n",
            "Actual: 11.0, Predicted: 14.06\n",
            "Actual: 11.0, Predicted: 13.67\n",
            "Actual: 11.0, Predicted: 15.05\n",
            "Actual: 11.0, Predicted: 13.17\n",
            "Actual: 11.0, Predicted: 16.77\n",
            "Actual: 11.0, Predicted: 17.95\n",
            "Actual: 11.0, Predicted: 17.88\n",
            "Actual: 11.0, Predicted: 20.50\n",
            "Actual: 11.0, Predicted: 17.47\n",
            "Actual: 11.0, Predicted: 16.65\n",
            "Actual: 11.0, Predicted: 15.49\n",
            "Actual: 11.0, Predicted: 19.02\n",
            "Actual: 11.0, Predicted: 31.00\n",
            "Actual: 11.0, Predicted: 17.95\n",
            "Actual: 24.0, Predicted: 22.73\n",
            "Actual: 24.0, Predicted: 16.51\n",
            "Actual: 24.0, Predicted: 17.10\n",
            "Actual: 24.0, Predicted: 16.79\n",
            "Actual: 24.0, Predicted: 16.14\n",
            "Actual: 24.0, Predicted: 16.46\n",
            "Actual: 24.0, Predicted: 28.93\n",
            "Actual: 24.0, Predicted: 21.97\n",
            "Actual: 24.0, Predicted: 16.43\n",
            "Actual: 24.0, Predicted: 16.51\n",
            "Actual: 24.0, Predicted: 16.52\n",
            "Actual: 24.0, Predicted: 16.51\n",
            "Actual: 24.0, Predicted: 16.51\n",
            "Actual: 24.0, Predicted: 24.61\n",
            "Actual: 24.0, Predicted: 16.51\n",
            "Actual: 24.0, Predicted: 16.36\n",
            "Actual: 24.0, Predicted: 29.38\n",
            "Actual: 24.0, Predicted: 16.51\n",
            "Actual: 24.0, Predicted: 16.47\n",
            "Actual: 24.0, Predicted: 16.51\n",
            "Actual: 19.0, Predicted: 25.23\n",
            "Actual: 19.0, Predicted: 28.43\n",
            "Actual: 19.0, Predicted: 24.74\n",
            "Actual: 19.0, Predicted: 29.02\n",
            "Actual: 19.0, Predicted: 29.16\n",
            "Actual: 19.0, Predicted: 25.30\n",
            "Actual: 19.0, Predicted: 29.02\n",
            "Actual: 19.0, Predicted: 22.12\n",
            "Actual: 19.0, Predicted: 27.30\n",
            "Actual: 19.0, Predicted: 28.61\n",
            "Actual: 19.0, Predicted: 29.44\n",
            "Actual: 19.0, Predicted: 24.82\n",
            "Actual: 19.0, Predicted: 22.48\n",
            "Actual: 19.0, Predicted: 28.70\n",
            "Actual: 19.0, Predicted: 25.30\n",
            "Actual: 19.0, Predicted: 27.33\n",
            "Actual: 19.0, Predicted: 29.16\n",
            "Actual: 19.0, Predicted: 27.64\n",
            "Actual: 19.0, Predicted: 25.65\n",
            "Actual: 19.0, Predicted: 25.44\n",
            "Actual: 37.0, Predicted: 29.04\n",
            "Actual: 37.0, Predicted: 28.02\n",
            "Actual: 37.0, Predicted: 28.59\n",
            "Actual: 37.0, Predicted: 27.50\n",
            "Actual: 37.0, Predicted: 27.95\n",
            "Actual: 37.0, Predicted: 28.23\n",
            "Actual: 37.0, Predicted: 29.02\n",
            "Actual: 37.0, Predicted: 28.23\n",
            "Actual: 37.0, Predicted: 28.74\n",
            "Actual: 37.0, Predicted: 29.23\n",
            "Actual: 37.0, Predicted: 29.23\n",
            "Actual: 37.0, Predicted: 27.43\n",
            "Actual: 37.0, Predicted: 28.57\n",
            "Actual: 37.0, Predicted: 27.50\n",
            "Actual: 37.0, Predicted: 27.50\n",
            "Actual: 37.0, Predicted: 29.52\n",
            "Actual: 37.0, Predicted: 29.23\n",
            "Actual: 37.0, Predicted: 41.70\n",
            "Actual: 37.0, Predicted: 27.43\n",
            "Actual: 37.0, Predicted: 41.41\n"
          ]
        }
      ]
    },
    {
      "cell_type": "markdown",
      "source": [
        "##Linear Regression\n",
        "* Mean Squared Error: 81.97312580990949\n",
        "* RMSE: 9.053901137626227\n",
        "* R-squared: 0.21215669948908433"
      ],
      "metadata": {
        "id": "UHpNeqTcPAWH"
      }
    },
    {
      "cell_type": "code",
      "source": [
        "from sklearn.linear_model import LinearRegression"
      ],
      "metadata": {
        "id": "rp9k6uOeOn6Z"
      },
      "execution_count": 8,
      "outputs": []
    },
    {
      "cell_type": "code",
      "source": [
        "linear_model = LinearRegression()\n",
        "\n",
        "linear_model.fit(X_train, y_train)"
      ],
      "metadata": {
        "colab": {
          "base_uri": "https://localhost:8080/",
          "height": 74
        },
        "id": "ZG61f3VlPDuO",
        "outputId": "39d7ed5d-a3b1-4674-a18a-acb44d7b054d"
      },
      "execution_count": 10,
      "outputs": [
        {
          "output_type": "execute_result",
          "data": {
            "text/plain": [
              "LinearRegression()"
            ],
            "text/html": [
              "<style>#sk-container-id-2 {color: black;background-color: white;}#sk-container-id-2 pre{padding: 0;}#sk-container-id-2 div.sk-toggleable {background-color: white;}#sk-container-id-2 label.sk-toggleable__label {cursor: pointer;display: block;width: 100%;margin-bottom: 0;padding: 0.3em;box-sizing: border-box;text-align: center;}#sk-container-id-2 label.sk-toggleable__label-arrow:before {content: \"▸\";float: left;margin-right: 0.25em;color: #696969;}#sk-container-id-2 label.sk-toggleable__label-arrow:hover:before {color: black;}#sk-container-id-2 div.sk-estimator:hover label.sk-toggleable__label-arrow:before {color: black;}#sk-container-id-2 div.sk-toggleable__content {max-height: 0;max-width: 0;overflow: hidden;text-align: left;background-color: #f0f8ff;}#sk-container-id-2 div.sk-toggleable__content pre {margin: 0.2em;color: black;border-radius: 0.25em;background-color: #f0f8ff;}#sk-container-id-2 input.sk-toggleable__control:checked~div.sk-toggleable__content {max-height: 200px;max-width: 100%;overflow: auto;}#sk-container-id-2 input.sk-toggleable__control:checked~label.sk-toggleable__label-arrow:before {content: \"▾\";}#sk-container-id-2 div.sk-estimator input.sk-toggleable__control:checked~label.sk-toggleable__label {background-color: #d4ebff;}#sk-container-id-2 div.sk-label input.sk-toggleable__control:checked~label.sk-toggleable__label {background-color: #d4ebff;}#sk-container-id-2 input.sk-hidden--visually {border: 0;clip: rect(1px 1px 1px 1px);clip: rect(1px, 1px, 1px, 1px);height: 1px;margin: -1px;overflow: hidden;padding: 0;position: absolute;width: 1px;}#sk-container-id-2 div.sk-estimator {font-family: monospace;background-color: #f0f8ff;border: 1px dotted black;border-radius: 0.25em;box-sizing: border-box;margin-bottom: 0.5em;}#sk-container-id-2 div.sk-estimator:hover {background-color: #d4ebff;}#sk-container-id-2 div.sk-parallel-item::after {content: \"\";width: 100%;border-bottom: 1px solid gray;flex-grow: 1;}#sk-container-id-2 div.sk-label:hover label.sk-toggleable__label {background-color: #d4ebff;}#sk-container-id-2 div.sk-serial::before {content: \"\";position: absolute;border-left: 1px solid gray;box-sizing: border-box;top: 0;bottom: 0;left: 50%;z-index: 0;}#sk-container-id-2 div.sk-serial {display: flex;flex-direction: column;align-items: center;background-color: white;padding-right: 0.2em;padding-left: 0.2em;position: relative;}#sk-container-id-2 div.sk-item {position: relative;z-index: 1;}#sk-container-id-2 div.sk-parallel {display: flex;align-items: stretch;justify-content: center;background-color: white;position: relative;}#sk-container-id-2 div.sk-item::before, #sk-container-id-2 div.sk-parallel-item::before {content: \"\";position: absolute;border-left: 1px solid gray;box-sizing: border-box;top: 0;bottom: 0;left: 50%;z-index: -1;}#sk-container-id-2 div.sk-parallel-item {display: flex;flex-direction: column;z-index: 1;position: relative;background-color: white;}#sk-container-id-2 div.sk-parallel-item:first-child::after {align-self: flex-end;width: 50%;}#sk-container-id-2 div.sk-parallel-item:last-child::after {align-self: flex-start;width: 50%;}#sk-container-id-2 div.sk-parallel-item:only-child::after {width: 0;}#sk-container-id-2 div.sk-dashed-wrapped {border: 1px dashed gray;margin: 0 0.4em 0.5em 0.4em;box-sizing: border-box;padding-bottom: 0.4em;background-color: white;}#sk-container-id-2 div.sk-label label {font-family: monospace;font-weight: bold;display: inline-block;line-height: 1.2em;}#sk-container-id-2 div.sk-label-container {text-align: center;}#sk-container-id-2 div.sk-container {/* jupyter's `normalize.less` sets `[hidden] { display: none; }` but bootstrap.min.css set `[hidden] { display: none !important; }` so we also need the `!important` here to be able to override the default hidden behavior on the sphinx rendered scikit-learn.org. See: https://github.com/scikit-learn/scikit-learn/issues/21755 */display: inline-block !important;position: relative;}#sk-container-id-2 div.sk-text-repr-fallback {display: none;}</style><div id=\"sk-container-id-2\" class=\"sk-top-container\"><div class=\"sk-text-repr-fallback\"><pre>LinearRegression()</pre><b>In a Jupyter environment, please rerun this cell to show the HTML representation or trust the notebook. <br />On GitHub, the HTML representation is unable to render, please try loading this page with nbviewer.org.</b></div><div class=\"sk-container\" hidden><div class=\"sk-item\"><div class=\"sk-estimator sk-toggleable\"><input class=\"sk-toggleable__control sk-hidden--visually\" id=\"sk-estimator-id-2\" type=\"checkbox\" checked><label for=\"sk-estimator-id-2\" class=\"sk-toggleable__label sk-toggleable__label-arrow\">LinearRegression</label><div class=\"sk-toggleable__content\"><pre>LinearRegression()</pre></div></div></div></div></div>"
            ]
          },
          "metadata": {},
          "execution_count": 10
        }
      ]
    },
    {
      "cell_type": "code",
      "source": [
        "y_pred_linear = linear_model.predict(X_test)"
      ],
      "metadata": {
        "id": "L1Y5_ySLPFvl"
      },
      "execution_count": 11,
      "outputs": []
    },
    {
      "cell_type": "code",
      "source": [
        "mse_linear = mean_squared_error(y_test, y_pred_linear)\n",
        "rmse_linear = np.sqrt(mse_linear)\n",
        "r2_linear = r2_score(y_test, y_pred_linear)\n",
        "\n",
        "print(\"Mean Squared Error:\", mse_linear)\n",
        "print(\"RMSE:\", rmse_linear)\n",
        "print(\"R-squared:\", r2_linear)"
      ],
      "metadata": {
        "colab": {
          "base_uri": "https://localhost:8080/"
        },
        "id": "oN07Adk_PLQO",
        "outputId": "7d3d823b-f855-4da6-f28a-a22b336e512e"
      },
      "execution_count": 12,
      "outputs": [
        {
          "output_type": "stream",
          "name": "stdout",
          "text": [
            "Mean Squared Error: 81.97312580990949\n",
            "RMSE: 9.053901137626227\n",
            "R-squared: 0.21215669948908433\n"
          ]
        }
      ]
    },
    {
      "cell_type": "code",
      "source": [
        "import joblib\n",
        "\n",
        "# Simpan model ke file\n",
        "joblib.dump(linear_model, 'linearRegression.joblib')"
      ],
      "metadata": {
        "colab": {
          "base_uri": "https://localhost:8080/"
        },
        "id": "IY9Rb_8gPXXG",
        "outputId": "2d52acf5-10ab-4a5c-8ce7-7896eaa4462e"
      },
      "execution_count": 137,
      "outputs": [
        {
          "output_type": "execute_result",
          "data": {
            "text/plain": [
              "['linearRegression.joblib']"
            ]
          },
          "metadata": {},
          "execution_count": 137
        }
      ]
    },
    {
      "cell_type": "code",
      "source": [
        "for actual, predicted in zip(np.array(y_test)[:100], y_pred_linear[:100]):\n",
        "    print(f'Actual: {actual}, Predicted: {predicted:.2f}')"
      ],
      "metadata": {
        "colab": {
          "base_uri": "https://localhost:8080/"
        },
        "id": "FzDPcVwBbZFn",
        "outputId": "903ff338-2118-4d24-ac7a-765ac010f1f6"
      },
      "execution_count": 83,
      "outputs": [
        {
          "output_type": "stream",
          "name": "stdout",
          "text": [
            "Actual: 35.5, Predicted: 21.85\n",
            "Actual: 35.5, Predicted: 22.60\n",
            "Actual: 35.5, Predicted: 22.62\n",
            "Actual: 35.5, Predicted: 21.92\n",
            "Actual: 35.5, Predicted: 21.78\n",
            "Actual: 35.5, Predicted: 21.92\n",
            "Actual: 35.5, Predicted: 22.08\n",
            "Actual: 35.5, Predicted: 22.04\n",
            "Actual: 35.5, Predicted: 21.74\n",
            "Actual: 35.5, Predicted: 21.85\n",
            "Actual: 35.5, Predicted: 21.65\n",
            "Actual: 35.5, Predicted: 21.67\n",
            "Actual: 35.5, Predicted: 21.97\n",
            "Actual: 35.5, Predicted: 22.13\n",
            "Actual: 35.5, Predicted: 21.90\n",
            "Actual: 35.5, Predicted: 22.15\n",
            "Actual: 35.5, Predicted: 22.10\n",
            "Actual: 35.5, Predicted: 21.81\n",
            "Actual: 35.5, Predicted: 21.92\n",
            "Actual: 35.5, Predicted: 21.94\n",
            "Actual: 11.0, Predicted: 20.35\n",
            "Actual: 11.0, Predicted: 19.85\n",
            "Actual: 11.0, Predicted: 19.86\n",
            "Actual: 11.0, Predicted: 19.51\n",
            "Actual: 11.0, Predicted: 20.07\n",
            "Actual: 11.0, Predicted: 19.45\n",
            "Actual: 11.0, Predicted: 18.40\n",
            "Actual: 11.0, Predicted: 18.94\n",
            "Actual: 11.0, Predicted: 18.44\n",
            "Actual: 11.0, Predicted: 18.93\n",
            "Actual: 11.0, Predicted: 19.66\n",
            "Actual: 11.0, Predicted: 20.11\n",
            "Actual: 11.0, Predicted: 19.92\n",
            "Actual: 11.0, Predicted: 19.38\n",
            "Actual: 11.0, Predicted: 19.71\n",
            "Actual: 11.0, Predicted: 19.19\n",
            "Actual: 11.0, Predicted: 19.01\n",
            "Actual: 11.0, Predicted: 19.20\n",
            "Actual: 11.0, Predicted: 19.87\n",
            "Actual: 11.0, Predicted: 20.11\n",
            "Actual: 24.0, Predicted: 26.00\n",
            "Actual: 24.0, Predicted: 25.05\n",
            "Actual: 24.0, Predicted: 25.78\n",
            "Actual: 24.0, Predicted: 25.89\n",
            "Actual: 24.0, Predicted: 25.13\n",
            "Actual: 24.0, Predicted: 25.20\n",
            "Actual: 24.0, Predicted: 27.11\n",
            "Actual: 24.0, Predicted: 26.15\n",
            "Actual: 24.0, Predicted: 25.17\n",
            "Actual: 24.0, Predicted: 25.60\n",
            "Actual: 24.0, Predicted: 25.64\n",
            "Actual: 24.0, Predicted: 24.84\n",
            "Actual: 24.0, Predicted: 25.05\n",
            "Actual: 24.0, Predicted: 26.88\n",
            "Actual: 24.0, Predicted: 25.60\n",
            "Actual: 24.0, Predicted: 25.53\n",
            "Actual: 24.0, Predicted: 27.06\n",
            "Actual: 24.0, Predicted: 25.02\n",
            "Actual: 24.0, Predicted: 25.42\n",
            "Actual: 24.0, Predicted: 25.60\n",
            "Actual: 19.0, Predicted: 22.21\n",
            "Actual: 19.0, Predicted: 22.38\n",
            "Actual: 19.0, Predicted: 22.18\n",
            "Actual: 19.0, Predicted: 22.07\n",
            "Actual: 19.0, Predicted: 22.11\n",
            "Actual: 19.0, Predicted: 21.89\n",
            "Actual: 19.0, Predicted: 22.09\n",
            "Actual: 19.0, Predicted: 21.97\n",
            "Actual: 19.0, Predicted: 22.48\n",
            "Actual: 19.0, Predicted: 22.55\n",
            "Actual: 19.0, Predicted: 22.53\n",
            "Actual: 19.0, Predicted: 22.08\n",
            "Actual: 19.0, Predicted: 21.95\n",
            "Actual: 19.0, Predicted: 22.29\n",
            "Actual: 19.0, Predicted: 21.89\n",
            "Actual: 19.0, Predicted: 22.46\n",
            "Actual: 19.0, Predicted: 22.21\n",
            "Actual: 19.0, Predicted: 22.70\n",
            "Actual: 19.0, Predicted: 22.18\n",
            "Actual: 19.0, Predicted: 21.91\n",
            "Actual: 37.0, Predicted: 28.30\n",
            "Actual: 37.0, Predicted: 28.14\n",
            "Actual: 37.0, Predicted: 27.42\n",
            "Actual: 37.0, Predicted: 28.45\n",
            "Actual: 37.0, Predicted: 28.18\n",
            "Actual: 37.0, Predicted: 28.82\n",
            "Actual: 37.0, Predicted: 28.02\n",
            "Actual: 37.0, Predicted: 28.62\n",
            "Actual: 37.0, Predicted: 28.22\n",
            "Actual: 37.0, Predicted: 28.21\n",
            "Actual: 37.0, Predicted: 28.21\n",
            "Actual: 37.0, Predicted: 28.58\n",
            "Actual: 37.0, Predicted: 28.09\n",
            "Actual: 37.0, Predicted: 28.49\n",
            "Actual: 37.0, Predicted: 28.53\n",
            "Actual: 37.0, Predicted: 27.97\n",
            "Actual: 37.0, Predicted: 27.38\n",
            "Actual: 37.0, Predicted: 30.14\n",
            "Actual: 37.0, Predicted: 28.38\n",
            "Actual: 37.0, Predicted: 31.20\n"
          ]
        }
      ]
    },
    {
      "cell_type": "markdown",
      "source": [
        "##Ridge Regression\n",
        "* Mean Squared Error: 81.97309839705159\n",
        "* RMSE: 9.053899623756141\n",
        "* R-squared: 0.21215696295392394"
      ],
      "metadata": {
        "id": "COiLUjo9P1oX"
      }
    },
    {
      "cell_type": "code",
      "source": [
        "from sklearn.linear_model import Ridge"
      ],
      "metadata": {
        "id": "8M4R1jmnP5EP"
      },
      "execution_count": 21,
      "outputs": []
    },
    {
      "cell_type": "code",
      "source": [
        "ridge_model = Ridge (alpha=1.0)\n",
        "\n",
        "ridge_model.fit(X_train, y_train)"
      ],
      "metadata": {
        "colab": {
          "base_uri": "https://localhost:8080/",
          "height": 74
        },
        "id": "GWWVR71FP-tW",
        "outputId": "7471adb8-bd84-4bba-efff-8f785d557284"
      },
      "execution_count": 22,
      "outputs": [
        {
          "output_type": "execute_result",
          "data": {
            "text/plain": [
              "Ridge()"
            ],
            "text/html": [
              "<style>#sk-container-id-5 {color: black;background-color: white;}#sk-container-id-5 pre{padding: 0;}#sk-container-id-5 div.sk-toggleable {background-color: white;}#sk-container-id-5 label.sk-toggleable__label {cursor: pointer;display: block;width: 100%;margin-bottom: 0;padding: 0.3em;box-sizing: border-box;text-align: center;}#sk-container-id-5 label.sk-toggleable__label-arrow:before {content: \"▸\";float: left;margin-right: 0.25em;color: #696969;}#sk-container-id-5 label.sk-toggleable__label-arrow:hover:before {color: black;}#sk-container-id-5 div.sk-estimator:hover label.sk-toggleable__label-arrow:before {color: black;}#sk-container-id-5 div.sk-toggleable__content {max-height: 0;max-width: 0;overflow: hidden;text-align: left;background-color: #f0f8ff;}#sk-container-id-5 div.sk-toggleable__content pre {margin: 0.2em;color: black;border-radius: 0.25em;background-color: #f0f8ff;}#sk-container-id-5 input.sk-toggleable__control:checked~div.sk-toggleable__content {max-height: 200px;max-width: 100%;overflow: auto;}#sk-container-id-5 input.sk-toggleable__control:checked~label.sk-toggleable__label-arrow:before {content: \"▾\";}#sk-container-id-5 div.sk-estimator input.sk-toggleable__control:checked~label.sk-toggleable__label {background-color: #d4ebff;}#sk-container-id-5 div.sk-label input.sk-toggleable__control:checked~label.sk-toggleable__label {background-color: #d4ebff;}#sk-container-id-5 input.sk-hidden--visually {border: 0;clip: rect(1px 1px 1px 1px);clip: rect(1px, 1px, 1px, 1px);height: 1px;margin: -1px;overflow: hidden;padding: 0;position: absolute;width: 1px;}#sk-container-id-5 div.sk-estimator {font-family: monospace;background-color: #f0f8ff;border: 1px dotted black;border-radius: 0.25em;box-sizing: border-box;margin-bottom: 0.5em;}#sk-container-id-5 div.sk-estimator:hover {background-color: #d4ebff;}#sk-container-id-5 div.sk-parallel-item::after {content: \"\";width: 100%;border-bottom: 1px solid gray;flex-grow: 1;}#sk-container-id-5 div.sk-label:hover label.sk-toggleable__label {background-color: #d4ebff;}#sk-container-id-5 div.sk-serial::before {content: \"\";position: absolute;border-left: 1px solid gray;box-sizing: border-box;top: 0;bottom: 0;left: 50%;z-index: 0;}#sk-container-id-5 div.sk-serial {display: flex;flex-direction: column;align-items: center;background-color: white;padding-right: 0.2em;padding-left: 0.2em;position: relative;}#sk-container-id-5 div.sk-item {position: relative;z-index: 1;}#sk-container-id-5 div.sk-parallel {display: flex;align-items: stretch;justify-content: center;background-color: white;position: relative;}#sk-container-id-5 div.sk-item::before, #sk-container-id-5 div.sk-parallel-item::before {content: \"\";position: absolute;border-left: 1px solid gray;box-sizing: border-box;top: 0;bottom: 0;left: 50%;z-index: -1;}#sk-container-id-5 div.sk-parallel-item {display: flex;flex-direction: column;z-index: 1;position: relative;background-color: white;}#sk-container-id-5 div.sk-parallel-item:first-child::after {align-self: flex-end;width: 50%;}#sk-container-id-5 div.sk-parallel-item:last-child::after {align-self: flex-start;width: 50%;}#sk-container-id-5 div.sk-parallel-item:only-child::after {width: 0;}#sk-container-id-5 div.sk-dashed-wrapped {border: 1px dashed gray;margin: 0 0.4em 0.5em 0.4em;box-sizing: border-box;padding-bottom: 0.4em;background-color: white;}#sk-container-id-5 div.sk-label label {font-family: monospace;font-weight: bold;display: inline-block;line-height: 1.2em;}#sk-container-id-5 div.sk-label-container {text-align: center;}#sk-container-id-5 div.sk-container {/* jupyter's `normalize.less` sets `[hidden] { display: none; }` but bootstrap.min.css set `[hidden] { display: none !important; }` so we also need the `!important` here to be able to override the default hidden behavior on the sphinx rendered scikit-learn.org. See: https://github.com/scikit-learn/scikit-learn/issues/21755 */display: inline-block !important;position: relative;}#sk-container-id-5 div.sk-text-repr-fallback {display: none;}</style><div id=\"sk-container-id-5\" class=\"sk-top-container\"><div class=\"sk-text-repr-fallback\"><pre>Ridge()</pre><b>In a Jupyter environment, please rerun this cell to show the HTML representation or trust the notebook. <br />On GitHub, the HTML representation is unable to render, please try loading this page with nbviewer.org.</b></div><div class=\"sk-container\" hidden><div class=\"sk-item\"><div class=\"sk-estimator sk-toggleable\"><input class=\"sk-toggleable__control sk-hidden--visually\" id=\"sk-estimator-id-5\" type=\"checkbox\" checked><label for=\"sk-estimator-id-5\" class=\"sk-toggleable__label sk-toggleable__label-arrow\">Ridge</label><div class=\"sk-toggleable__content\"><pre>Ridge()</pre></div></div></div></div></div>"
            ]
          },
          "metadata": {},
          "execution_count": 22
        }
      ]
    },
    {
      "cell_type": "code",
      "source": [
        "y_pred_ridge = ridge_model.predict(X_test)"
      ],
      "metadata": {
        "id": "zq7aX3zSQDGI"
      },
      "execution_count": 23,
      "outputs": []
    },
    {
      "cell_type": "code",
      "source": [
        "mse_ridge = mean_squared_error(y_test, y_pred_ridge)\n",
        "rmse_ridge = np.sqrt(mse_ridge)\n",
        "r2_ridge = r2_score(y_test, y_pred_ridge)\n",
        "\n",
        "print(\"Mean Squared Error:\", mse_ridge)\n",
        "print(\"RMSE:\", rmse_ridge)\n",
        "print(\"R-squared:\", r2_ridge)"
      ],
      "metadata": {
        "colab": {
          "base_uri": "https://localhost:8080/"
        },
        "id": "Nd2Yz6KnQFc3",
        "outputId": "9227d846-d72f-49a4-b45e-1e64fc56964c"
      },
      "execution_count": 24,
      "outputs": [
        {
          "output_type": "stream",
          "name": "stdout",
          "text": [
            "Mean Squared Error: 81.97309839705159\n",
            "RMSE: 9.053899623756141\n",
            "R-squared: 0.21215696295392394\n"
          ]
        }
      ]
    },
    {
      "cell_type": "code",
      "source": [
        "# Simpan model ke file\n",
        "joblib.dump(ridge_model, 'ridgeRegression.joblib')"
      ],
      "metadata": {
        "colab": {
          "base_uri": "https://localhost:8080/"
        },
        "id": "wdqg7VAGQsuP",
        "outputId": "d8fc0c26-a2b3-4489-f360-7a7c30a7c0c8"
      },
      "execution_count": 25,
      "outputs": [
        {
          "output_type": "execute_result",
          "data": {
            "text/plain": [
              "['ridgeRegression.joblib']"
            ]
          },
          "metadata": {},
          "execution_count": 25
        }
      ]
    },
    {
      "cell_type": "code",
      "source": [
        "for actual, predicted in zip(np.array(y_test)[:100], y_pred_ridge[:100]):\n",
        "    print(f'Actual: {actual}, Predicted: {predicted:.2f}')"
      ],
      "metadata": {
        "colab": {
          "base_uri": "https://localhost:8080/"
        },
        "id": "DsucSjscbeX5",
        "outputId": "d4c6f542-cce6-40d0-fe1c-dd39ef54e2e6"
      },
      "execution_count": 84,
      "outputs": [
        {
          "output_type": "stream",
          "name": "stdout",
          "text": [
            "Actual: 35.5, Predicted: 21.85\n",
            "Actual: 35.5, Predicted: 22.60\n",
            "Actual: 35.5, Predicted: 22.62\n",
            "Actual: 35.5, Predicted: 21.92\n",
            "Actual: 35.5, Predicted: 21.78\n",
            "Actual: 35.5, Predicted: 21.92\n",
            "Actual: 35.5, Predicted: 22.08\n",
            "Actual: 35.5, Predicted: 22.04\n",
            "Actual: 35.5, Predicted: 21.74\n",
            "Actual: 35.5, Predicted: 21.85\n",
            "Actual: 35.5, Predicted: 21.65\n",
            "Actual: 35.5, Predicted: 21.67\n",
            "Actual: 35.5, Predicted: 21.97\n",
            "Actual: 35.5, Predicted: 22.13\n",
            "Actual: 35.5, Predicted: 21.90\n",
            "Actual: 35.5, Predicted: 22.15\n",
            "Actual: 35.5, Predicted: 22.10\n",
            "Actual: 35.5, Predicted: 21.81\n",
            "Actual: 35.5, Predicted: 21.92\n",
            "Actual: 35.5, Predicted: 21.94\n",
            "Actual: 11.0, Predicted: 20.35\n",
            "Actual: 11.0, Predicted: 19.85\n",
            "Actual: 11.0, Predicted: 19.86\n",
            "Actual: 11.0, Predicted: 19.51\n",
            "Actual: 11.0, Predicted: 20.07\n",
            "Actual: 11.0, Predicted: 19.45\n",
            "Actual: 11.0, Predicted: 18.40\n",
            "Actual: 11.0, Predicted: 18.94\n",
            "Actual: 11.0, Predicted: 18.44\n",
            "Actual: 11.0, Predicted: 18.93\n",
            "Actual: 11.0, Predicted: 19.66\n",
            "Actual: 11.0, Predicted: 20.11\n",
            "Actual: 11.0, Predicted: 19.92\n",
            "Actual: 11.0, Predicted: 19.38\n",
            "Actual: 11.0, Predicted: 19.71\n",
            "Actual: 11.0, Predicted: 19.19\n",
            "Actual: 11.0, Predicted: 19.01\n",
            "Actual: 11.0, Predicted: 19.20\n",
            "Actual: 11.0, Predicted: 19.87\n",
            "Actual: 11.0, Predicted: 20.11\n",
            "Actual: 24.0, Predicted: 26.00\n",
            "Actual: 24.0, Predicted: 25.05\n",
            "Actual: 24.0, Predicted: 25.78\n",
            "Actual: 24.0, Predicted: 25.89\n",
            "Actual: 24.0, Predicted: 25.13\n",
            "Actual: 24.0, Predicted: 25.20\n",
            "Actual: 24.0, Predicted: 27.11\n",
            "Actual: 24.0, Predicted: 26.15\n",
            "Actual: 24.0, Predicted: 25.17\n",
            "Actual: 24.0, Predicted: 25.60\n",
            "Actual: 24.0, Predicted: 25.64\n",
            "Actual: 24.0, Predicted: 24.84\n",
            "Actual: 24.0, Predicted: 25.05\n",
            "Actual: 24.0, Predicted: 26.88\n",
            "Actual: 24.0, Predicted: 25.60\n",
            "Actual: 24.0, Predicted: 25.53\n",
            "Actual: 24.0, Predicted: 27.06\n",
            "Actual: 24.0, Predicted: 25.02\n",
            "Actual: 24.0, Predicted: 25.42\n",
            "Actual: 24.0, Predicted: 25.60\n",
            "Actual: 19.0, Predicted: 22.21\n",
            "Actual: 19.0, Predicted: 22.38\n",
            "Actual: 19.0, Predicted: 22.18\n",
            "Actual: 19.0, Predicted: 22.07\n",
            "Actual: 19.0, Predicted: 22.11\n",
            "Actual: 19.0, Predicted: 21.89\n",
            "Actual: 19.0, Predicted: 22.09\n",
            "Actual: 19.0, Predicted: 21.97\n",
            "Actual: 19.0, Predicted: 22.48\n",
            "Actual: 19.0, Predicted: 22.55\n",
            "Actual: 19.0, Predicted: 22.53\n",
            "Actual: 19.0, Predicted: 22.08\n",
            "Actual: 19.0, Predicted: 21.95\n",
            "Actual: 19.0, Predicted: 22.29\n",
            "Actual: 19.0, Predicted: 21.89\n",
            "Actual: 19.0, Predicted: 22.46\n",
            "Actual: 19.0, Predicted: 22.21\n",
            "Actual: 19.0, Predicted: 22.70\n",
            "Actual: 19.0, Predicted: 22.18\n",
            "Actual: 19.0, Predicted: 21.91\n",
            "Actual: 37.0, Predicted: 28.30\n",
            "Actual: 37.0, Predicted: 28.14\n",
            "Actual: 37.0, Predicted: 27.42\n",
            "Actual: 37.0, Predicted: 28.45\n",
            "Actual: 37.0, Predicted: 28.18\n",
            "Actual: 37.0, Predicted: 28.82\n",
            "Actual: 37.0, Predicted: 28.02\n",
            "Actual: 37.0, Predicted: 28.62\n",
            "Actual: 37.0, Predicted: 28.22\n",
            "Actual: 37.0, Predicted: 28.21\n",
            "Actual: 37.0, Predicted: 28.21\n",
            "Actual: 37.0, Predicted: 28.58\n",
            "Actual: 37.0, Predicted: 28.09\n",
            "Actual: 37.0, Predicted: 28.49\n",
            "Actual: 37.0, Predicted: 28.53\n",
            "Actual: 37.0, Predicted: 27.97\n",
            "Actual: 37.0, Predicted: 27.38\n",
            "Actual: 37.0, Predicted: 30.14\n",
            "Actual: 37.0, Predicted: 28.38\n",
            "Actual: 37.0, Predicted: 31.20\n"
          ]
        }
      ]
    },
    {
      "cell_type": "markdown",
      "source": [
        "##Lasso Regression\n",
        "* Mean Squared Error: 81.95607169232315\n",
        "* RMSE: 9.052959278176564\n",
        "* R-squared: 0.21232060652756513"
      ],
      "metadata": {
        "id": "0BN_no7IQcnL"
      }
    },
    {
      "cell_type": "code",
      "source": [
        "from sklearn.linear_model import Lasso"
      ],
      "metadata": {
        "id": "Zpu29-IJQK5q"
      },
      "execution_count": 18,
      "outputs": []
    },
    {
      "cell_type": "code",
      "source": [
        "lasso_model = Lasso(alpha=1.0)\n",
        "\n",
        "lasso_model.fit(X_train, y_train)"
      ],
      "metadata": {
        "colab": {
          "base_uri": "https://localhost:8080/",
          "height": 74
        },
        "id": "jjGb-uj9Qh2z",
        "outputId": "7c505e12-c4ab-485f-c720-9bd9b66c58f4"
      },
      "execution_count": 19,
      "outputs": [
        {
          "output_type": "execute_result",
          "data": {
            "text/plain": [
              "Lasso()"
            ],
            "text/html": [
              "<style>#sk-container-id-4 {color: black;background-color: white;}#sk-container-id-4 pre{padding: 0;}#sk-container-id-4 div.sk-toggleable {background-color: white;}#sk-container-id-4 label.sk-toggleable__label {cursor: pointer;display: block;width: 100%;margin-bottom: 0;padding: 0.3em;box-sizing: border-box;text-align: center;}#sk-container-id-4 label.sk-toggleable__label-arrow:before {content: \"▸\";float: left;margin-right: 0.25em;color: #696969;}#sk-container-id-4 label.sk-toggleable__label-arrow:hover:before {color: black;}#sk-container-id-4 div.sk-estimator:hover label.sk-toggleable__label-arrow:before {color: black;}#sk-container-id-4 div.sk-toggleable__content {max-height: 0;max-width: 0;overflow: hidden;text-align: left;background-color: #f0f8ff;}#sk-container-id-4 div.sk-toggleable__content pre {margin: 0.2em;color: black;border-radius: 0.25em;background-color: #f0f8ff;}#sk-container-id-4 input.sk-toggleable__control:checked~div.sk-toggleable__content {max-height: 200px;max-width: 100%;overflow: auto;}#sk-container-id-4 input.sk-toggleable__control:checked~label.sk-toggleable__label-arrow:before {content: \"▾\";}#sk-container-id-4 div.sk-estimator input.sk-toggleable__control:checked~label.sk-toggleable__label {background-color: #d4ebff;}#sk-container-id-4 div.sk-label input.sk-toggleable__control:checked~label.sk-toggleable__label {background-color: #d4ebff;}#sk-container-id-4 input.sk-hidden--visually {border: 0;clip: rect(1px 1px 1px 1px);clip: rect(1px, 1px, 1px, 1px);height: 1px;margin: -1px;overflow: hidden;padding: 0;position: absolute;width: 1px;}#sk-container-id-4 div.sk-estimator {font-family: monospace;background-color: #f0f8ff;border: 1px dotted black;border-radius: 0.25em;box-sizing: border-box;margin-bottom: 0.5em;}#sk-container-id-4 div.sk-estimator:hover {background-color: #d4ebff;}#sk-container-id-4 div.sk-parallel-item::after {content: \"\";width: 100%;border-bottom: 1px solid gray;flex-grow: 1;}#sk-container-id-4 div.sk-label:hover label.sk-toggleable__label {background-color: #d4ebff;}#sk-container-id-4 div.sk-serial::before {content: \"\";position: absolute;border-left: 1px solid gray;box-sizing: border-box;top: 0;bottom: 0;left: 50%;z-index: 0;}#sk-container-id-4 div.sk-serial {display: flex;flex-direction: column;align-items: center;background-color: white;padding-right: 0.2em;padding-left: 0.2em;position: relative;}#sk-container-id-4 div.sk-item {position: relative;z-index: 1;}#sk-container-id-4 div.sk-parallel {display: flex;align-items: stretch;justify-content: center;background-color: white;position: relative;}#sk-container-id-4 div.sk-item::before, #sk-container-id-4 div.sk-parallel-item::before {content: \"\";position: absolute;border-left: 1px solid gray;box-sizing: border-box;top: 0;bottom: 0;left: 50%;z-index: -1;}#sk-container-id-4 div.sk-parallel-item {display: flex;flex-direction: column;z-index: 1;position: relative;background-color: white;}#sk-container-id-4 div.sk-parallel-item:first-child::after {align-self: flex-end;width: 50%;}#sk-container-id-4 div.sk-parallel-item:last-child::after {align-self: flex-start;width: 50%;}#sk-container-id-4 div.sk-parallel-item:only-child::after {width: 0;}#sk-container-id-4 div.sk-dashed-wrapped {border: 1px dashed gray;margin: 0 0.4em 0.5em 0.4em;box-sizing: border-box;padding-bottom: 0.4em;background-color: white;}#sk-container-id-4 div.sk-label label {font-family: monospace;font-weight: bold;display: inline-block;line-height: 1.2em;}#sk-container-id-4 div.sk-label-container {text-align: center;}#sk-container-id-4 div.sk-container {/* jupyter's `normalize.less` sets `[hidden] { display: none; }` but bootstrap.min.css set `[hidden] { display: none !important; }` so we also need the `!important` here to be able to override the default hidden behavior on the sphinx rendered scikit-learn.org. See: https://github.com/scikit-learn/scikit-learn/issues/21755 */display: inline-block !important;position: relative;}#sk-container-id-4 div.sk-text-repr-fallback {display: none;}</style><div id=\"sk-container-id-4\" class=\"sk-top-container\"><div class=\"sk-text-repr-fallback\"><pre>Lasso()</pre><b>In a Jupyter environment, please rerun this cell to show the HTML representation or trust the notebook. <br />On GitHub, the HTML representation is unable to render, please try loading this page with nbviewer.org.</b></div><div class=\"sk-container\" hidden><div class=\"sk-item\"><div class=\"sk-estimator sk-toggleable\"><input class=\"sk-toggleable__control sk-hidden--visually\" id=\"sk-estimator-id-4\" type=\"checkbox\" checked><label for=\"sk-estimator-id-4\" class=\"sk-toggleable__label sk-toggleable__label-arrow\">Lasso</label><div class=\"sk-toggleable__content\"><pre>Lasso()</pre></div></div></div></div></div>"
            ]
          },
          "metadata": {},
          "execution_count": 19
        }
      ]
    },
    {
      "cell_type": "code",
      "source": [
        "y_pred_lasso = lasso_model.predict(X_test)"
      ],
      "metadata": {
        "id": "u47ETMliQldR"
      },
      "execution_count": 20,
      "outputs": []
    },
    {
      "cell_type": "code",
      "source": [
        "# Calculate the metrics for Lasso Regression\n",
        "mse_lasso = mean_squared_error(y_test, y_pred_lasso)\n",
        "rmse_lasso = np.sqrt(mse_lasso)\n",
        "r2_lasso = r2_score(y_test, y_pred_lasso)\n",
        "\n",
        "print(\"Mean Squared Error:\", mse_lasso)\n",
        "print(\"RMSE:\", rmse_lasso)\n",
        "print(\"R-squared:\", r2_lasso)"
      ],
      "metadata": {
        "colab": {
          "base_uri": "https://localhost:8080/"
        },
        "id": "wLsiDT9KQoD-",
        "outputId": "bd1deb53-d7e3-4417-cd6d-0509a64af232"
      },
      "execution_count": 26,
      "outputs": [
        {
          "output_type": "stream",
          "name": "stdout",
          "text": [
            "Mean Squared Error: 81.95607169232315\n",
            "RMSE: 9.052959278176564\n",
            "R-squared: 0.21232060652756513\n"
          ]
        }
      ]
    },
    {
      "cell_type": "code",
      "source": [
        "joblib.dump(lasso_model, 'lassoRegression.joblib')"
      ],
      "metadata": {
        "colab": {
          "base_uri": "https://localhost:8080/"
        },
        "id": "rj8mG64GQ7tw",
        "outputId": "65afb21c-dd5f-4d44-863a-8c64f881eda2"
      },
      "execution_count": 27,
      "outputs": [
        {
          "output_type": "execute_result",
          "data": {
            "text/plain": [
              "['lassoRegression.joblib']"
            ]
          },
          "metadata": {},
          "execution_count": 27
        }
      ]
    },
    {
      "cell_type": "code",
      "source": [
        "for actual, predicted in zip(np.array(y_test)[:100], y_pred_lasso[:100]):\n",
        "    print(f'Actual: {actual}, Predicted: {predicted:.2f}')"
      ],
      "metadata": {
        "colab": {
          "base_uri": "https://localhost:8080/"
        },
        "id": "KR6og4wybix-",
        "outputId": "4fa64687-1caf-4623-b41f-8ee32db172b3"
      },
      "execution_count": 85,
      "outputs": [
        {
          "output_type": "stream",
          "name": "stdout",
          "text": [
            "Actual: 35.5, Predicted: 21.86\n",
            "Actual: 35.5, Predicted: 22.59\n",
            "Actual: 35.5, Predicted: 22.62\n",
            "Actual: 35.5, Predicted: 21.91\n",
            "Actual: 35.5, Predicted: 21.78\n",
            "Actual: 35.5, Predicted: 21.91\n",
            "Actual: 35.5, Predicted: 22.06\n",
            "Actual: 35.5, Predicted: 22.04\n",
            "Actual: 35.5, Predicted: 21.73\n",
            "Actual: 35.5, Predicted: 21.86\n",
            "Actual: 35.5, Predicted: 21.65\n",
            "Actual: 35.5, Predicted: 21.67\n",
            "Actual: 35.5, Predicted: 21.96\n",
            "Actual: 35.5, Predicted: 22.12\n",
            "Actual: 35.5, Predicted: 21.91\n",
            "Actual: 35.5, Predicted: 22.14\n",
            "Actual: 35.5, Predicted: 22.09\n",
            "Actual: 35.5, Predicted: 21.81\n",
            "Actual: 35.5, Predicted: 21.91\n",
            "Actual: 35.5, Predicted: 21.94\n",
            "Actual: 11.0, Predicted: 20.39\n",
            "Actual: 11.0, Predicted: 19.88\n",
            "Actual: 11.0, Predicted: 19.91\n",
            "Actual: 11.0, Predicted: 19.55\n",
            "Actual: 11.0, Predicted: 20.12\n",
            "Actual: 11.0, Predicted: 19.51\n",
            "Actual: 11.0, Predicted: 18.46\n",
            "Actual: 11.0, Predicted: 18.99\n",
            "Actual: 11.0, Predicted: 18.50\n",
            "Actual: 11.0, Predicted: 18.97\n",
            "Actual: 11.0, Predicted: 19.70\n",
            "Actual: 11.0, Predicted: 20.14\n",
            "Actual: 11.0, Predicted: 19.95\n",
            "Actual: 11.0, Predicted: 19.42\n",
            "Actual: 11.0, Predicted: 19.75\n",
            "Actual: 11.0, Predicted: 19.24\n",
            "Actual: 11.0, Predicted: 19.06\n",
            "Actual: 11.0, Predicted: 19.25\n",
            "Actual: 11.0, Predicted: 19.92\n",
            "Actual: 11.0, Predicted: 20.14\n",
            "Actual: 24.0, Predicted: 25.95\n",
            "Actual: 24.0, Predicted: 25.00\n",
            "Actual: 24.0, Predicted: 25.72\n",
            "Actual: 24.0, Predicted: 25.82\n",
            "Actual: 24.0, Predicted: 25.07\n",
            "Actual: 24.0, Predicted: 25.14\n",
            "Actual: 24.0, Predicted: 27.03\n",
            "Actual: 24.0, Predicted: 26.09\n",
            "Actual: 24.0, Predicted: 25.11\n",
            "Actual: 24.0, Predicted: 25.54\n",
            "Actual: 24.0, Predicted: 25.58\n",
            "Actual: 24.0, Predicted: 24.79\n",
            "Actual: 24.0, Predicted: 25.00\n",
            "Actual: 24.0, Predicted: 26.81\n",
            "Actual: 24.0, Predicted: 25.54\n",
            "Actual: 24.0, Predicted: 25.46\n",
            "Actual: 24.0, Predicted: 26.99\n",
            "Actual: 24.0, Predicted: 24.97\n",
            "Actual: 24.0, Predicted: 25.36\n",
            "Actual: 24.0, Predicted: 25.54\n",
            "Actual: 19.0, Predicted: 22.29\n",
            "Actual: 19.0, Predicted: 22.48\n",
            "Actual: 19.0, Predicted: 22.27\n",
            "Actual: 19.0, Predicted: 22.18\n",
            "Actual: 19.0, Predicted: 22.23\n",
            "Actual: 19.0, Predicted: 21.98\n",
            "Actual: 19.0, Predicted: 22.20\n",
            "Actual: 19.0, Predicted: 22.06\n",
            "Actual: 19.0, Predicted: 22.58\n",
            "Actual: 19.0, Predicted: 22.65\n",
            "Actual: 19.0, Predicted: 22.65\n",
            "Actual: 19.0, Predicted: 22.18\n",
            "Actual: 19.0, Predicted: 22.04\n",
            "Actual: 19.0, Predicted: 22.40\n",
            "Actual: 19.0, Predicted: 21.98\n",
            "Actual: 19.0, Predicted: 22.55\n",
            "Actual: 19.0, Predicted: 22.34\n",
            "Actual: 19.0, Predicted: 22.79\n",
            "Actual: 19.0, Predicted: 22.29\n",
            "Actual: 19.0, Predicted: 22.01\n",
            "Actual: 37.0, Predicted: 28.33\n",
            "Actual: 37.0, Predicted: 28.15\n",
            "Actual: 37.0, Predicted: 27.43\n",
            "Actual: 37.0, Predicted: 28.45\n",
            "Actual: 37.0, Predicted: 28.20\n",
            "Actual: 37.0, Predicted: 28.84\n",
            "Actual: 37.0, Predicted: 28.04\n",
            "Actual: 37.0, Predicted: 28.64\n",
            "Actual: 37.0, Predicted: 28.24\n",
            "Actual: 37.0, Predicted: 28.21\n",
            "Actual: 37.0, Predicted: 28.21\n",
            "Actual: 37.0, Predicted: 28.59\n",
            "Actual: 37.0, Predicted: 28.11\n",
            "Actual: 37.0, Predicted: 28.50\n",
            "Actual: 37.0, Predicted: 28.55\n",
            "Actual: 37.0, Predicted: 27.97\n",
            "Actual: 37.0, Predicted: 27.39\n",
            "Actual: 37.0, Predicted: 30.18\n",
            "Actual: 37.0, Predicted: 28.39\n",
            "Actual: 37.0, Predicted: 31.26\n"
          ]
        }
      ]
    },
    {
      "cell_type": "markdown",
      "source": [
        "##XGBoost\n",
        "* Mean Squared Error: 88.80696252333746\n",
        "* RMSE: 9.423744612590976\n",
        "* R-squared: 0.14647672915411258"
      ],
      "metadata": {
        "id": "rapgabLIRIW_"
      }
    },
    {
      "cell_type": "code",
      "source": [
        "import xgboost as xgb\n",
        "import numpy as np"
      ],
      "metadata": {
        "id": "oYaXqqnVRJLx"
      },
      "execution_count": 28,
      "outputs": []
    },
    {
      "cell_type": "code",
      "source": [
        "xgb_model = xgb.XGBRegressor(objective='reg:squarederror', colsample_bytree=0.3, learning_rate=0.1,\n",
        "                             max_depth=5, alpha=10, n_estimators=10)\n",
        "\n",
        "xgb_model.fit(X_train, y_train)"
      ],
      "metadata": {
        "colab": {
          "base_uri": "https://localhost:8080/",
          "height": 248
        },
        "id": "HadG7h4yR0kj",
        "outputId": "cf9962e7-7231-48a0-8a50-c10b0bb5c7ba"
      },
      "execution_count": 29,
      "outputs": [
        {
          "output_type": "execute_result",
          "data": {
            "text/plain": [
              "XGBRegressor(alpha=10, base_score=None, booster=None, callbacks=None,\n",
              "             colsample_bylevel=None, colsample_bynode=None,\n",
              "             colsample_bytree=0.3, device=None, early_stopping_rounds=None,\n",
              "             enable_categorical=False, eval_metric=None, feature_types=None,\n",
              "             gamma=None, grow_policy=None, importance_type=None,\n",
              "             interaction_constraints=None, learning_rate=0.1, max_bin=None,\n",
              "             max_cat_threshold=None, max_cat_to_onehot=None,\n",
              "             max_delta_step=None, max_depth=5, max_leaves=None,\n",
              "             min_child_weight=None, missing=nan, monotone_constraints=None,\n",
              "             multi_strategy=None, n_estimators=10, n_jobs=None,\n",
              "             num_parallel_tree=None, ...)"
            ],
            "text/html": [
              "<style>#sk-container-id-6 {color: black;background-color: white;}#sk-container-id-6 pre{padding: 0;}#sk-container-id-6 div.sk-toggleable {background-color: white;}#sk-container-id-6 label.sk-toggleable__label {cursor: pointer;display: block;width: 100%;margin-bottom: 0;padding: 0.3em;box-sizing: border-box;text-align: center;}#sk-container-id-6 label.sk-toggleable__label-arrow:before {content: \"▸\";float: left;margin-right: 0.25em;color: #696969;}#sk-container-id-6 label.sk-toggleable__label-arrow:hover:before {color: black;}#sk-container-id-6 div.sk-estimator:hover label.sk-toggleable__label-arrow:before {color: black;}#sk-container-id-6 div.sk-toggleable__content {max-height: 0;max-width: 0;overflow: hidden;text-align: left;background-color: #f0f8ff;}#sk-container-id-6 div.sk-toggleable__content pre {margin: 0.2em;color: black;border-radius: 0.25em;background-color: #f0f8ff;}#sk-container-id-6 input.sk-toggleable__control:checked~div.sk-toggleable__content {max-height: 200px;max-width: 100%;overflow: auto;}#sk-container-id-6 input.sk-toggleable__control:checked~label.sk-toggleable__label-arrow:before {content: \"▾\";}#sk-container-id-6 div.sk-estimator input.sk-toggleable__control:checked~label.sk-toggleable__label {background-color: #d4ebff;}#sk-container-id-6 div.sk-label input.sk-toggleable__control:checked~label.sk-toggleable__label {background-color: #d4ebff;}#sk-container-id-6 input.sk-hidden--visually {border: 0;clip: rect(1px 1px 1px 1px);clip: rect(1px, 1px, 1px, 1px);height: 1px;margin: -1px;overflow: hidden;padding: 0;position: absolute;width: 1px;}#sk-container-id-6 div.sk-estimator {font-family: monospace;background-color: #f0f8ff;border: 1px dotted black;border-radius: 0.25em;box-sizing: border-box;margin-bottom: 0.5em;}#sk-container-id-6 div.sk-estimator:hover {background-color: #d4ebff;}#sk-container-id-6 div.sk-parallel-item::after {content: \"\";width: 100%;border-bottom: 1px solid gray;flex-grow: 1;}#sk-container-id-6 div.sk-label:hover label.sk-toggleable__label {background-color: #d4ebff;}#sk-container-id-6 div.sk-serial::before {content: \"\";position: absolute;border-left: 1px solid gray;box-sizing: border-box;top: 0;bottom: 0;left: 50%;z-index: 0;}#sk-container-id-6 div.sk-serial {display: flex;flex-direction: column;align-items: center;background-color: white;padding-right: 0.2em;padding-left: 0.2em;position: relative;}#sk-container-id-6 div.sk-item {position: relative;z-index: 1;}#sk-container-id-6 div.sk-parallel {display: flex;align-items: stretch;justify-content: center;background-color: white;position: relative;}#sk-container-id-6 div.sk-item::before, #sk-container-id-6 div.sk-parallel-item::before {content: \"\";position: absolute;border-left: 1px solid gray;box-sizing: border-box;top: 0;bottom: 0;left: 50%;z-index: -1;}#sk-container-id-6 div.sk-parallel-item {display: flex;flex-direction: column;z-index: 1;position: relative;background-color: white;}#sk-container-id-6 div.sk-parallel-item:first-child::after {align-self: flex-end;width: 50%;}#sk-container-id-6 div.sk-parallel-item:last-child::after {align-self: flex-start;width: 50%;}#sk-container-id-6 div.sk-parallel-item:only-child::after {width: 0;}#sk-container-id-6 div.sk-dashed-wrapped {border: 1px dashed gray;margin: 0 0.4em 0.5em 0.4em;box-sizing: border-box;padding-bottom: 0.4em;background-color: white;}#sk-container-id-6 div.sk-label label {font-family: monospace;font-weight: bold;display: inline-block;line-height: 1.2em;}#sk-container-id-6 div.sk-label-container {text-align: center;}#sk-container-id-6 div.sk-container {/* jupyter's `normalize.less` sets `[hidden] { display: none; }` but bootstrap.min.css set `[hidden] { display: none !important; }` so we also need the `!important` here to be able to override the default hidden behavior on the sphinx rendered scikit-learn.org. See: https://github.com/scikit-learn/scikit-learn/issues/21755 */display: inline-block !important;position: relative;}#sk-container-id-6 div.sk-text-repr-fallback {display: none;}</style><div id=\"sk-container-id-6\" class=\"sk-top-container\"><div class=\"sk-text-repr-fallback\"><pre>XGBRegressor(alpha=10, base_score=None, booster=None, callbacks=None,\n",
              "             colsample_bylevel=None, colsample_bynode=None,\n",
              "             colsample_bytree=0.3, device=None, early_stopping_rounds=None,\n",
              "             enable_categorical=False, eval_metric=None, feature_types=None,\n",
              "             gamma=None, grow_policy=None, importance_type=None,\n",
              "             interaction_constraints=None, learning_rate=0.1, max_bin=None,\n",
              "             max_cat_threshold=None, max_cat_to_onehot=None,\n",
              "             max_delta_step=None, max_depth=5, max_leaves=None,\n",
              "             min_child_weight=None, missing=nan, monotone_constraints=None,\n",
              "             multi_strategy=None, n_estimators=10, n_jobs=None,\n",
              "             num_parallel_tree=None, ...)</pre><b>In a Jupyter environment, please rerun this cell to show the HTML representation or trust the notebook. <br />On GitHub, the HTML representation is unable to render, please try loading this page with nbviewer.org.</b></div><div class=\"sk-container\" hidden><div class=\"sk-item\"><div class=\"sk-estimator sk-toggleable\"><input class=\"sk-toggleable__control sk-hidden--visually\" id=\"sk-estimator-id-6\" type=\"checkbox\" checked><label for=\"sk-estimator-id-6\" class=\"sk-toggleable__label sk-toggleable__label-arrow\">XGBRegressor</label><div class=\"sk-toggleable__content\"><pre>XGBRegressor(alpha=10, base_score=None, booster=None, callbacks=None,\n",
              "             colsample_bylevel=None, colsample_bynode=None,\n",
              "             colsample_bytree=0.3, device=None, early_stopping_rounds=None,\n",
              "             enable_categorical=False, eval_metric=None, feature_types=None,\n",
              "             gamma=None, grow_policy=None, importance_type=None,\n",
              "             interaction_constraints=None, learning_rate=0.1, max_bin=None,\n",
              "             max_cat_threshold=None, max_cat_to_onehot=None,\n",
              "             max_delta_step=None, max_depth=5, max_leaves=None,\n",
              "             min_child_weight=None, missing=nan, monotone_constraints=None,\n",
              "             multi_strategy=None, n_estimators=10, n_jobs=None,\n",
              "             num_parallel_tree=None, ...)</pre></div></div></div></div></div>"
            ]
          },
          "metadata": {},
          "execution_count": 29
        }
      ]
    },
    {
      "cell_type": "code",
      "source": [
        "y_pred_xgb = xgb_model.predict(X_test)"
      ],
      "metadata": {
        "id": "ErjeR5XySC39"
      },
      "execution_count": 30,
      "outputs": []
    },
    {
      "cell_type": "code",
      "source": [
        "mse_xgb = mean_squared_error(y_test, y_pred_xgb)\n",
        "rmse_xgb = np.sqrt(mse_xgb)\n",
        "r2_xgb = r2_score(y_test, y_pred_xgb)\n",
        "\n",
        "print(\"Mean Squared Error:\", mse_xgb)\n",
        "print(\"RMSE:\", rmse_xgb)\n",
        "print(\"R-squared:\", r2_xgb)"
      ],
      "metadata": {
        "colab": {
          "base_uri": "https://localhost:8080/"
        },
        "id": "6J9jqzBGSGdb",
        "outputId": "2b4311d1-0d4f-44bf-da63-d91dd6a40352"
      },
      "execution_count": 31,
      "outputs": [
        {
          "output_type": "stream",
          "name": "stdout",
          "text": [
            "Mean Squared Error: 88.80696252333746\n",
            "RMSE: 9.423744612590976\n",
            "R-squared: 0.14647672915411258\n"
          ]
        }
      ]
    },
    {
      "cell_type": "code",
      "source": [
        "joblib.dump(xgb_model, 'XGBoostRegression.joblib')"
      ],
      "metadata": {
        "colab": {
          "base_uri": "https://localhost:8080/"
        },
        "id": "vjvBrJXESbtX",
        "outputId": "baf6ea71-2072-4523-a2b7-6ac6cd61e0db"
      },
      "execution_count": 32,
      "outputs": [
        {
          "output_type": "execute_result",
          "data": {
            "text/plain": [
              "['XGBoostRegression.joblib']"
            ]
          },
          "metadata": {},
          "execution_count": 32
        }
      ]
    },
    {
      "cell_type": "code",
      "source": [
        "for actual, predicted in zip(np.array(y_test)[:100], y_pred_xgb[:100]):\n",
        "    print(f'Actual: {actual}, Predicted: {predicted:.2f}')"
      ],
      "metadata": {
        "colab": {
          "base_uri": "https://localhost:8080/"
        },
        "id": "brwvb1qxbniQ",
        "outputId": "eb5b3dce-67cf-4904-ac8d-39f0e3b2ce6c"
      },
      "execution_count": 86,
      "outputs": [
        {
          "output_type": "stream",
          "name": "stdout",
          "text": [
            "Actual: 35.5, Predicted: 22.35\n",
            "Actual: 35.5, Predicted: 22.35\n",
            "Actual: 35.5, Predicted: 22.35\n",
            "Actual: 35.5, Predicted: 22.35\n",
            "Actual: 35.5, Predicted: 22.35\n",
            "Actual: 35.5, Predicted: 22.35\n",
            "Actual: 35.5, Predicted: 22.64\n",
            "Actual: 35.5, Predicted: 22.35\n",
            "Actual: 35.5, Predicted: 22.35\n",
            "Actual: 35.5, Predicted: 22.35\n",
            "Actual: 35.5, Predicted: 22.17\n",
            "Actual: 35.5, Predicted: 22.17\n",
            "Actual: 35.5, Predicted: 22.35\n",
            "Actual: 35.5, Predicted: 22.35\n",
            "Actual: 35.5, Predicted: 22.35\n",
            "Actual: 35.5, Predicted: 22.35\n",
            "Actual: 35.5, Predicted: 22.35\n",
            "Actual: 35.5, Predicted: 22.35\n",
            "Actual: 35.5, Predicted: 22.35\n",
            "Actual: 35.5, Predicted: 22.35\n",
            "Actual: 11.0, Predicted: 21.62\n",
            "Actual: 11.0, Predicted: 20.41\n",
            "Actual: 11.0, Predicted: 23.50\n",
            "Actual: 11.0, Predicted: 20.68\n",
            "Actual: 11.0, Predicted: 23.39\n",
            "Actual: 11.0, Predicted: 22.52\n",
            "Actual: 11.0, Predicted: 19.85\n",
            "Actual: 11.0, Predicted: 19.85\n",
            "Actual: 11.0, Predicted: 19.85\n",
            "Actual: 11.0, Predicted: 19.85\n",
            "Actual: 11.0, Predicted: 20.53\n",
            "Actual: 11.0, Predicted: 21.62\n",
            "Actual: 11.0, Predicted: 20.57\n",
            "Actual: 11.0, Predicted: 20.98\n",
            "Actual: 11.0, Predicted: 20.68\n",
            "Actual: 11.0, Predicted: 20.98\n",
            "Actual: 11.0, Predicted: 19.85\n",
            "Actual: 11.0, Predicted: 20.98\n",
            "Actual: 11.0, Predicted: 23.50\n",
            "Actual: 11.0, Predicted: 21.62\n",
            "Actual: 24.0, Predicted: 22.63\n",
            "Actual: 24.0, Predicted: 19.87\n",
            "Actual: 24.0, Predicted: 21.32\n",
            "Actual: 24.0, Predicted: 21.61\n",
            "Actual: 24.0, Predicted: 22.02\n",
            "Actual: 24.0, Predicted: 21.73\n",
            "Actual: 24.0, Predicted: 24.14\n",
            "Actual: 24.0, Predicted: 22.63\n",
            "Actual: 24.0, Predicted: 22.02\n",
            "Actual: 24.0, Predicted: 21.32\n",
            "Actual: 24.0, Predicted: 21.32\n",
            "Actual: 24.0, Predicted: 19.87\n",
            "Actual: 24.0, Predicted: 19.87\n",
            "Actual: 24.0, Predicted: 24.39\n",
            "Actual: 24.0, Predicted: 21.32\n",
            "Actual: 24.0, Predicted: 21.61\n",
            "Actual: 24.0, Predicted: 24.39\n",
            "Actual: 24.0, Predicted: 19.87\n",
            "Actual: 24.0, Predicted: 20.90\n",
            "Actual: 24.0, Predicted: 21.32\n",
            "Actual: 19.0, Predicted: 21.52\n",
            "Actual: 19.0, Predicted: 22.81\n",
            "Actual: 19.0, Predicted: 21.52\n",
            "Actual: 19.0, Predicted: 24.75\n",
            "Actual: 19.0, Predicted: 24.75\n",
            "Actual: 19.0, Predicted: 20.67\n",
            "Actual: 19.0, Predicted: 24.75\n",
            "Actual: 19.0, Predicted: 21.04\n",
            "Actual: 19.0, Predicted: 22.81\n",
            "Actual: 19.0, Predicted: 22.81\n",
            "Actual: 19.0, Predicted: 25.96\n",
            "Actual: 19.0, Predicted: 21.04\n",
            "Actual: 19.0, Predicted: 21.04\n",
            "Actual: 19.0, Predicted: 25.11\n",
            "Actual: 19.0, Predicted: 20.67\n",
            "Actual: 19.0, Predicted: 21.43\n",
            "Actual: 19.0, Predicted: 25.91\n",
            "Actual: 19.0, Predicted: 22.81\n",
            "Actual: 19.0, Predicted: 22.33\n",
            "Actual: 19.0, Predicted: 20.67\n",
            "Actual: 37.0, Predicted: 26.10\n",
            "Actual: 37.0, Predicted: 26.10\n",
            "Actual: 37.0, Predicted: 27.13\n",
            "Actual: 37.0, Predicted: 26.10\n",
            "Actual: 37.0, Predicted: 26.10\n",
            "Actual: 37.0, Predicted: 26.63\n",
            "Actual: 37.0, Predicted: 26.10\n",
            "Actual: 37.0, Predicted: 26.10\n",
            "Actual: 37.0, Predicted: 26.10\n",
            "Actual: 37.0, Predicted: 26.35\n",
            "Actual: 37.0, Predicted: 26.35\n",
            "Actual: 37.0, Predicted: 26.10\n",
            "Actual: 37.0, Predicted: 26.10\n",
            "Actual: 37.0, Predicted: 26.10\n",
            "Actual: 37.0, Predicted: 26.10\n",
            "Actual: 37.0, Predicted: 27.13\n",
            "Actual: 37.0, Predicted: 27.13\n",
            "Actual: 37.0, Predicted: 31.15\n",
            "Actual: 37.0, Predicted: 26.10\n",
            "Actual: 37.0, Predicted: 28.39\n"
          ]
        }
      ]
    },
    {
      "cell_type": "markdown",
      "source": [
        "##LightGBM\n",
        "* Mean Squared Error: 115.18387584492967\n",
        "* RMSE: 10.732375125988174\n",
        "* R-squared: -0.10703165232158107"
      ],
      "metadata": {
        "id": "4wpOG7Y3SQxp"
      }
    },
    {
      "cell_type": "code",
      "source": [
        "import lightgbm as lgb"
      ],
      "metadata": {
        "id": "3jIcAb4MSMOi"
      },
      "execution_count": 33,
      "outputs": []
    },
    {
      "cell_type": "code",
      "source": [
        "lgbm_model = lgb.LGBMRegressor(objective='regression', num_leaves=31, learning_rate=0.05, n_estimators=100)\n",
        "\n",
        "lgbm_model.fit(X_train, y_train, eval_set=[(X_test, y_test)], eval_metric='l2')"
      ],
      "metadata": {
        "colab": {
          "base_uri": "https://localhost:8080/",
          "height": 186
        },
        "id": "tRnjlz_3UJJL",
        "outputId": "3b2dfe1a-abe7-4bf4-d671-6f66e129b05d"
      },
      "execution_count": 37,
      "outputs": [
        {
          "output_type": "stream",
          "name": "stdout",
          "text": [
            "[LightGBM] [Info] Auto-choosing col-wise multi-threading, the overhead of testing was 0.001414 seconds.\n",
            "You can set `force_col_wise=true` to remove the overhead.\n",
            "[LightGBM] [Info] Total Bins 485\n",
            "[LightGBM] [Info] Number of data points in the train set: 1559, number of used features: 3\n",
            "[LightGBM] [Info] Start training from score 22.169339\n"
          ]
        },
        {
          "output_type": "execute_result",
          "data": {
            "text/plain": [
              "LGBMRegressor(learning_rate=0.05, objective='regression')"
            ],
            "text/html": [
              "<style>#sk-container-id-7 {color: black;background-color: white;}#sk-container-id-7 pre{padding: 0;}#sk-container-id-7 div.sk-toggleable {background-color: white;}#sk-container-id-7 label.sk-toggleable__label {cursor: pointer;display: block;width: 100%;margin-bottom: 0;padding: 0.3em;box-sizing: border-box;text-align: center;}#sk-container-id-7 label.sk-toggleable__label-arrow:before {content: \"▸\";float: left;margin-right: 0.25em;color: #696969;}#sk-container-id-7 label.sk-toggleable__label-arrow:hover:before {color: black;}#sk-container-id-7 div.sk-estimator:hover label.sk-toggleable__label-arrow:before {color: black;}#sk-container-id-7 div.sk-toggleable__content {max-height: 0;max-width: 0;overflow: hidden;text-align: left;background-color: #f0f8ff;}#sk-container-id-7 div.sk-toggleable__content pre {margin: 0.2em;color: black;border-radius: 0.25em;background-color: #f0f8ff;}#sk-container-id-7 input.sk-toggleable__control:checked~div.sk-toggleable__content {max-height: 200px;max-width: 100%;overflow: auto;}#sk-container-id-7 input.sk-toggleable__control:checked~label.sk-toggleable__label-arrow:before {content: \"▾\";}#sk-container-id-7 div.sk-estimator input.sk-toggleable__control:checked~label.sk-toggleable__label {background-color: #d4ebff;}#sk-container-id-7 div.sk-label input.sk-toggleable__control:checked~label.sk-toggleable__label {background-color: #d4ebff;}#sk-container-id-7 input.sk-hidden--visually {border: 0;clip: rect(1px 1px 1px 1px);clip: rect(1px, 1px, 1px, 1px);height: 1px;margin: -1px;overflow: hidden;padding: 0;position: absolute;width: 1px;}#sk-container-id-7 div.sk-estimator {font-family: monospace;background-color: #f0f8ff;border: 1px dotted black;border-radius: 0.25em;box-sizing: border-box;margin-bottom: 0.5em;}#sk-container-id-7 div.sk-estimator:hover {background-color: #d4ebff;}#sk-container-id-7 div.sk-parallel-item::after {content: \"\";width: 100%;border-bottom: 1px solid gray;flex-grow: 1;}#sk-container-id-7 div.sk-label:hover label.sk-toggleable__label {background-color: #d4ebff;}#sk-container-id-7 div.sk-serial::before {content: \"\";position: absolute;border-left: 1px solid gray;box-sizing: border-box;top: 0;bottom: 0;left: 50%;z-index: 0;}#sk-container-id-7 div.sk-serial {display: flex;flex-direction: column;align-items: center;background-color: white;padding-right: 0.2em;padding-left: 0.2em;position: relative;}#sk-container-id-7 div.sk-item {position: relative;z-index: 1;}#sk-container-id-7 div.sk-parallel {display: flex;align-items: stretch;justify-content: center;background-color: white;position: relative;}#sk-container-id-7 div.sk-item::before, #sk-container-id-7 div.sk-parallel-item::before {content: \"\";position: absolute;border-left: 1px solid gray;box-sizing: border-box;top: 0;bottom: 0;left: 50%;z-index: -1;}#sk-container-id-7 div.sk-parallel-item {display: flex;flex-direction: column;z-index: 1;position: relative;background-color: white;}#sk-container-id-7 div.sk-parallel-item:first-child::after {align-self: flex-end;width: 50%;}#sk-container-id-7 div.sk-parallel-item:last-child::after {align-self: flex-start;width: 50%;}#sk-container-id-7 div.sk-parallel-item:only-child::after {width: 0;}#sk-container-id-7 div.sk-dashed-wrapped {border: 1px dashed gray;margin: 0 0.4em 0.5em 0.4em;box-sizing: border-box;padding-bottom: 0.4em;background-color: white;}#sk-container-id-7 div.sk-label label {font-family: monospace;font-weight: bold;display: inline-block;line-height: 1.2em;}#sk-container-id-7 div.sk-label-container {text-align: center;}#sk-container-id-7 div.sk-container {/* jupyter's `normalize.less` sets `[hidden] { display: none; }` but bootstrap.min.css set `[hidden] { display: none !important; }` so we also need the `!important` here to be able to override the default hidden behavior on the sphinx rendered scikit-learn.org. See: https://github.com/scikit-learn/scikit-learn/issues/21755 */display: inline-block !important;position: relative;}#sk-container-id-7 div.sk-text-repr-fallback {display: none;}</style><div id=\"sk-container-id-7\" class=\"sk-top-container\"><div class=\"sk-text-repr-fallback\"><pre>LGBMRegressor(learning_rate=0.05, objective=&#x27;regression&#x27;)</pre><b>In a Jupyter environment, please rerun this cell to show the HTML representation or trust the notebook. <br />On GitHub, the HTML representation is unable to render, please try loading this page with nbviewer.org.</b></div><div class=\"sk-container\" hidden><div class=\"sk-item\"><div class=\"sk-estimator sk-toggleable\"><input class=\"sk-toggleable__control sk-hidden--visually\" id=\"sk-estimator-id-7\" type=\"checkbox\" checked><label for=\"sk-estimator-id-7\" class=\"sk-toggleable__label sk-toggleable__label-arrow\">LGBMRegressor</label><div class=\"sk-toggleable__content\"><pre>LGBMRegressor(learning_rate=0.05, objective=&#x27;regression&#x27;)</pre></div></div></div></div></div>"
            ]
          },
          "metadata": {},
          "execution_count": 37
        }
      ]
    },
    {
      "cell_type": "code",
      "source": [
        "y_pred_lgbm = lgbm_model.predict(X_test, num_iteration=lgbm_model.best_iteration_)"
      ],
      "metadata": {
        "id": "X_vXSiwwUdSN"
      },
      "execution_count": 38,
      "outputs": []
    },
    {
      "cell_type": "code",
      "source": [
        "mse_lgbm = mean_squared_error(y_test, y_pred_lgbm)\n",
        "rmse_lgbm = np.sqrt(mse_lgbm)\n",
        "r2_lgbm = r2_score(y_test, y_pred_lgbm)\n",
        "\n",
        "print(\"Mean Squared Error:\", mse_lgbm)\n",
        "print(\"RMSE:\", rmse_lgbm)\n",
        "print(\"R-squared:\", r2_lgbm)"
      ],
      "metadata": {
        "colab": {
          "base_uri": "https://localhost:8080/"
        },
        "id": "z3smNMSyUo7D",
        "outputId": "01eb40c8-7ee8-44ad-bac6-5f0b922e77cb"
      },
      "execution_count": 39,
      "outputs": [
        {
          "output_type": "stream",
          "name": "stdout",
          "text": [
            "Mean Squared Error: 115.18387584492967\n",
            "RMSE: 10.732375125988174\n",
            "R-squared: -0.10703165232158107\n"
          ]
        }
      ]
    },
    {
      "cell_type": "code",
      "source": [
        "joblib.dump(lgbm_model, 'LightGBMRegression.joblib')"
      ],
      "metadata": {
        "colab": {
          "base_uri": "https://localhost:8080/"
        },
        "id": "UTlbqZanUtkS",
        "outputId": "fa04cc46-96dc-44ed-a7f2-bcbf2e48b5f5"
      },
      "execution_count": 40,
      "outputs": [
        {
          "output_type": "execute_result",
          "data": {
            "text/plain": [
              "['LightGBMRegression.joblib']"
            ]
          },
          "metadata": {},
          "execution_count": 40
        }
      ]
    },
    {
      "cell_type": "code",
      "source": [
        "for actual, predicted in zip(np.array(y_test)[:100], y_pred_lgbm[:100]):\n",
        "    print(f'Actual: {actual}, Predicted: {predicted:.2f}')"
      ],
      "metadata": {
        "colab": {
          "base_uri": "https://localhost:8080/"
        },
        "id": "wCetRTDUbrvj",
        "outputId": "54655412-1b2f-4087-9cfd-92e1d2a686f7"
      },
      "execution_count": 87,
      "outputs": [
        {
          "output_type": "stream",
          "name": "stdout",
          "text": [
            "Actual: 35.5, Predicted: 23.12\n",
            "Actual: 35.5, Predicted: 25.47\n",
            "Actual: 35.5, Predicted: 24.84\n",
            "Actual: 35.5, Predicted: 22.14\n",
            "Actual: 35.5, Predicted: 22.10\n",
            "Actual: 35.5, Predicted: 22.14\n",
            "Actual: 35.5, Predicted: 23.52\n",
            "Actual: 35.5, Predicted: 24.35\n",
            "Actual: 35.5, Predicted: 20.15\n",
            "Actual: 35.5, Predicted: 23.12\n",
            "Actual: 35.5, Predicted: 21.79\n",
            "Actual: 35.5, Predicted: 22.82\n",
            "Actual: 35.5, Predicted: 24.47\n",
            "Actual: 35.5, Predicted: 24.66\n",
            "Actual: 35.5, Predicted: 22.45\n",
            "Actual: 35.5, Predicted: 24.77\n",
            "Actual: 35.5, Predicted: 23.52\n",
            "Actual: 35.5, Predicted: 23.12\n",
            "Actual: 35.5, Predicted: 22.14\n",
            "Actual: 35.5, Predicted: 23.26\n",
            "Actual: 11.0, Predicted: 19.49\n",
            "Actual: 11.0, Predicted: 16.89\n",
            "Actual: 11.0, Predicted: 28.89\n",
            "Actual: 11.0, Predicted: 16.58\n",
            "Actual: 11.0, Predicted: 30.42\n",
            "Actual: 11.0, Predicted: 23.51\n",
            "Actual: 11.0, Predicted: 14.46\n",
            "Actual: 11.0, Predicted: 14.91\n",
            "Actual: 11.0, Predicted: 14.72\n",
            "Actual: 11.0, Predicted: 14.78\n",
            "Actual: 11.0, Predicted: 16.63\n",
            "Actual: 11.0, Predicted: 17.23\n",
            "Actual: 11.0, Predicted: 17.26\n",
            "Actual: 11.0, Predicted: 16.84\n",
            "Actual: 11.0, Predicted: 16.89\n",
            "Actual: 11.0, Predicted: 16.06\n",
            "Actual: 11.0, Predicted: 15.53\n",
            "Actual: 11.0, Predicted: 16.06\n",
            "Actual: 11.0, Predicted: 30.42\n",
            "Actual: 11.0, Predicted: 17.23\n",
            "Actual: 24.0, Predicted: 22.37\n",
            "Actual: 24.0, Predicted: 16.97\n",
            "Actual: 24.0, Predicted: 17.07\n",
            "Actual: 24.0, Predicted: 16.77\n",
            "Actual: 24.0, Predicted: 16.50\n",
            "Actual: 24.0, Predicted: 16.50\n",
            "Actual: 24.0, Predicted: 27.48\n",
            "Actual: 24.0, Predicted: 21.39\n",
            "Actual: 24.0, Predicted: 16.50\n",
            "Actual: 24.0, Predicted: 16.37\n",
            "Actual: 24.0, Predicted: 17.61\n",
            "Actual: 24.0, Predicted: 17.03\n",
            "Actual: 24.0, Predicted: 16.97\n",
            "Actual: 24.0, Predicted: 26.71\n",
            "Actual: 24.0, Predicted: 16.37\n",
            "Actual: 24.0, Predicted: 16.28\n",
            "Actual: 24.0, Predicted: 27.48\n",
            "Actual: 24.0, Predicted: 16.96\n",
            "Actual: 24.0, Predicted: 16.48\n",
            "Actual: 24.0, Predicted: 16.37\n",
            "Actual: 19.0, Predicted: 29.60\n",
            "Actual: 19.0, Predicted: 27.74\n",
            "Actual: 19.0, Predicted: 29.62\n",
            "Actual: 19.0, Predicted: 24.21\n",
            "Actual: 19.0, Predicted: 24.21\n",
            "Actual: 19.0, Predicted: 23.27\n",
            "Actual: 19.0, Predicted: 24.21\n",
            "Actual: 19.0, Predicted: 24.49\n",
            "Actual: 19.0, Predicted: 28.14\n",
            "Actual: 19.0, Predicted: 28.14\n",
            "Actual: 19.0, Predicted: 28.75\n",
            "Actual: 19.0, Predicted: 23.14\n",
            "Actual: 19.0, Predicted: 24.49\n",
            "Actual: 19.0, Predicted: 24.08\n",
            "Actual: 19.0, Predicted: 23.27\n",
            "Actual: 19.0, Predicted: 28.21\n",
            "Actual: 19.0, Predicted: 23.61\n",
            "Actual: 19.0, Predicted: 28.88\n",
            "Actual: 19.0, Predicted: 23.07\n",
            "Actual: 19.0, Predicted: 23.27\n",
            "Actual: 37.0, Predicted: 29.07\n",
            "Actual: 37.0, Predicted: 28.35\n",
            "Actual: 37.0, Predicted: 29.47\n",
            "Actual: 37.0, Predicted: 28.20\n",
            "Actual: 37.0, Predicted: 28.22\n",
            "Actual: 37.0, Predicted: 30.54\n",
            "Actual: 37.0, Predicted: 28.80\n",
            "Actual: 37.0, Predicted: 28.91\n",
            "Actual: 37.0, Predicted: 28.80\n",
            "Actual: 37.0, Predicted: 29.26\n",
            "Actual: 37.0, Predicted: 29.26\n",
            "Actual: 37.0, Predicted: 28.33\n",
            "Actual: 37.0, Predicted: 28.55\n",
            "Actual: 37.0, Predicted: 28.20\n",
            "Actual: 37.0, Predicted: 28.20\n",
            "Actual: 37.0, Predicted: 29.15\n",
            "Actual: 37.0, Predicted: 29.73\n",
            "Actual: 37.0, Predicted: 39.73\n",
            "Actual: 37.0, Predicted: 28.35\n",
            "Actual: 37.0, Predicted: 39.29\n"
          ]
        }
      ]
    },
    {
      "cell_type": "markdown",
      "source": [
        "##CatBoost\n",
        "* MSE: 107.13815082065405\n",
        "* RMSE: 10.35075605067833\n",
        "* R-squared: -0.02970422951684637"
      ],
      "metadata": {
        "id": "cr7Q5kdpU1_V"
      }
    },
    {
      "cell_type": "code",
      "source": [
        "pip install catboost"
      ],
      "metadata": {
        "colab": {
          "base_uri": "https://localhost:8080/"
        },
        "id": "NinvNweDV7V_",
        "outputId": "a0c8cdce-ad16-4d2f-ae58-8b88e7a47c27"
      },
      "execution_count": 43,
      "outputs": [
        {
          "output_type": "stream",
          "name": "stdout",
          "text": [
            "Collecting catboost\n",
            "  Downloading catboost-1.2.3-cp310-cp310-manylinux2014_x86_64.whl (98.5 MB)\n",
            "\u001b[2K     \u001b[90m━━━━━━━━━━━━━━━━━━━━━━━━━━━━━━━━━━━━━━━━\u001b[0m \u001b[32m98.5/98.5 MB\u001b[0m \u001b[31m2.8 MB/s\u001b[0m eta \u001b[36m0:00:00\u001b[0m\n",
            "\u001b[?25hRequirement already satisfied: graphviz in /usr/local/lib/python3.10/dist-packages (from catboost) (0.20.1)\n",
            "Requirement already satisfied: matplotlib in /usr/local/lib/python3.10/dist-packages (from catboost) (3.7.1)\n",
            "Requirement already satisfied: numpy>=1.16.0 in /usr/local/lib/python3.10/dist-packages (from catboost) (1.25.2)\n",
            "Requirement already satisfied: pandas>=0.24 in /usr/local/lib/python3.10/dist-packages (from catboost) (1.5.3)\n",
            "Requirement already satisfied: scipy in /usr/local/lib/python3.10/dist-packages (from catboost) (1.11.4)\n",
            "Requirement already satisfied: plotly in /usr/local/lib/python3.10/dist-packages (from catboost) (5.15.0)\n",
            "Requirement already satisfied: six in /usr/local/lib/python3.10/dist-packages (from catboost) (1.16.0)\n",
            "Requirement already satisfied: python-dateutil>=2.8.1 in /usr/local/lib/python3.10/dist-packages (from pandas>=0.24->catboost) (2.8.2)\n",
            "Requirement already satisfied: pytz>=2020.1 in /usr/local/lib/python3.10/dist-packages (from pandas>=0.24->catboost) (2023.4)\n",
            "Requirement already satisfied: contourpy>=1.0.1 in /usr/local/lib/python3.10/dist-packages (from matplotlib->catboost) (1.2.0)\n",
            "Requirement already satisfied: cycler>=0.10 in /usr/local/lib/python3.10/dist-packages (from matplotlib->catboost) (0.12.1)\n",
            "Requirement already satisfied: fonttools>=4.22.0 in /usr/local/lib/python3.10/dist-packages (from matplotlib->catboost) (4.49.0)\n",
            "Requirement already satisfied: kiwisolver>=1.0.1 in /usr/local/lib/python3.10/dist-packages (from matplotlib->catboost) (1.4.5)\n",
            "Requirement already satisfied: packaging>=20.0 in /usr/local/lib/python3.10/dist-packages (from matplotlib->catboost) (23.2)\n",
            "Requirement already satisfied: pillow>=6.2.0 in /usr/local/lib/python3.10/dist-packages (from matplotlib->catboost) (9.4.0)\n",
            "Requirement already satisfied: pyparsing>=2.3.1 in /usr/local/lib/python3.10/dist-packages (from matplotlib->catboost) (3.1.1)\n",
            "Requirement already satisfied: tenacity>=6.2.0 in /usr/local/lib/python3.10/dist-packages (from plotly->catboost) (8.2.3)\n",
            "Installing collected packages: catboost\n",
            "Successfully installed catboost-1.2.3\n"
          ]
        }
      ]
    },
    {
      "cell_type": "code",
      "source": [
        "from catboost import CatBoostRegressor"
      ],
      "metadata": {
        "id": "7_YxWBStUyDC"
      },
      "execution_count": 44,
      "outputs": []
    },
    {
      "cell_type": "code",
      "source": [
        "cat_model = CatBoostRegressor(iterations=100, learning_rate=0.1, depth=3, loss_function='RMSE', verbose=False)\n",
        "\n",
        "cat_model.fit(X_train, y_train)"
      ],
      "metadata": {
        "colab": {
          "base_uri": "https://localhost:8080/"
        },
        "id": "tUU6JsdeVvBe",
        "outputId": "b5dc8c29-0d04-406e-9ea5-3695b3263ca5"
      },
      "execution_count": 45,
      "outputs": [
        {
          "output_type": "execute_result",
          "data": {
            "text/plain": [
              "<catboost.core.CatBoostRegressor at 0x7f359321a080>"
            ]
          },
          "metadata": {},
          "execution_count": 45
        }
      ]
    },
    {
      "cell_type": "code",
      "source": [
        "y_pred_cat = cat_model.predict(X_test)"
      ],
      "metadata": {
        "id": "pKoxnApSWKEQ"
      },
      "execution_count": 46,
      "outputs": []
    },
    {
      "cell_type": "code",
      "source": [
        "mse_cat = mean_squared_error(y_test, y_pred_cat)\n",
        "rmse_cat = np.sqrt(mse_cat)\n",
        "r2_cat = r2_score(y_test, y_pred_cat)\n",
        "\n",
        "print(f'MSE: {mse_cat}')\n",
        "print(f'RMSE: {rmse_cat}')\n",
        "print(f'R-squared: {r2_cat}')"
      ],
      "metadata": {
        "colab": {
          "base_uri": "https://localhost:8080/"
        },
        "id": "Z_68K-n4WM1B",
        "outputId": "87565f60-b369-4df2-dd89-be74556c94e6"
      },
      "execution_count": 47,
      "outputs": [
        {
          "output_type": "stream",
          "name": "stdout",
          "text": [
            "MSE: 107.13815082065405\n",
            "RMSE: 10.35075605067833\n",
            "R-squared: -0.02970422951684637\n"
          ]
        }
      ]
    },
    {
      "cell_type": "code",
      "source": [
        "joblib.dump(cat_model, 'catBoostRegression.joblib')"
      ],
      "metadata": {
        "colab": {
          "base_uri": "https://localhost:8080/"
        },
        "id": "X5owshzcXj3D",
        "outputId": "c2709e38-cb35-478e-9c1f-4c28d2597dc9"
      },
      "execution_count": 54,
      "outputs": [
        {
          "output_type": "execute_result",
          "data": {
            "text/plain": [
              "['catBoostRegression.joblib']"
            ]
          },
          "metadata": {},
          "execution_count": 54
        }
      ]
    },
    {
      "cell_type": "code",
      "source": [
        "for actual, predicted in zip(np.array(y_test)[:100], y_pred_cat[:100]):\n",
        "    print(f'Actual: {actual}, Predicted: {predicted:.2f}')"
      ],
      "metadata": {
        "colab": {
          "base_uri": "https://localhost:8080/"
        },
        "id": "dQfqBmrAbvyo",
        "outputId": "1731a915-38cf-417e-c3e8-2676606dd9eb"
      },
      "execution_count": 88,
      "outputs": [
        {
          "output_type": "stream",
          "name": "stdout",
          "text": [
            "Actual: 35.5, Predicted: 20.95\n",
            "Actual: 35.5, Predicted: 21.85\n",
            "Actual: 35.5, Predicted: 21.85\n",
            "Actual: 35.5, Predicted: 22.63\n",
            "Actual: 35.5, Predicted: 20.95\n",
            "Actual: 35.5, Predicted: 22.63\n",
            "Actual: 35.5, Predicted: 23.21\n",
            "Actual: 35.5, Predicted: 21.31\n",
            "Actual: 35.5, Predicted: 21.26\n",
            "Actual: 35.5, Predicted: 20.95\n",
            "Actual: 35.5, Predicted: 20.83\n",
            "Actual: 35.5, Predicted: 20.83\n",
            "Actual: 35.5, Predicted: 21.31\n",
            "Actual: 35.5, Predicted: 21.51\n",
            "Actual: 35.5, Predicted: 20.95\n",
            "Actual: 35.5, Predicted: 21.51\n",
            "Actual: 35.5, Predicted: 22.83\n",
            "Actual: 35.5, Predicted: 20.95\n",
            "Actual: 35.5, Predicted: 22.63\n",
            "Actual: 35.5, Predicted: 21.31\n",
            "Actual: 11.0, Predicted: 19.14\n",
            "Actual: 11.0, Predicted: 17.81\n",
            "Actual: 11.0, Predicted: 22.57\n",
            "Actual: 11.0, Predicted: 17.46\n",
            "Actual: 11.0, Predicted: 22.74\n",
            "Actual: 11.0, Predicted: 21.33\n",
            "Actual: 11.0, Predicted: 16.38\n",
            "Actual: 11.0, Predicted: 16.99\n",
            "Actual: 11.0, Predicted: 16.38\n",
            "Actual: 11.0, Predicted: 16.99\n",
            "Actual: 11.0, Predicted: 17.64\n",
            "Actual: 11.0, Predicted: 18.23\n",
            "Actual: 11.0, Predicted: 18.23\n",
            "Actual: 11.0, Predicted: 17.47\n",
            "Actual: 11.0, Predicted: 17.64\n",
            "Actual: 11.0, Predicted: 17.42\n",
            "Actual: 11.0, Predicted: 17.12\n",
            "Actual: 11.0, Predicted: 17.42\n",
            "Actual: 11.0, Predicted: 22.57\n",
            "Actual: 11.0, Predicted: 18.23\n",
            "Actual: 24.0, Predicted: 21.24\n",
            "Actual: 24.0, Predicted: 18.66\n",
            "Actual: 24.0, Predicted: 19.82\n",
            "Actual: 24.0, Predicted: 20.40\n",
            "Actual: 24.0, Predicted: 19.44\n",
            "Actual: 24.0, Predicted: 18.95\n",
            "Actual: 24.0, Predicted: 25.21\n",
            "Actual: 24.0, Predicted: 21.64\n",
            "Actual: 24.0, Predicted: 19.33\n",
            "Actual: 24.0, Predicted: 19.82\n",
            "Actual: 24.0, Predicted: 19.82\n",
            "Actual: 24.0, Predicted: 18.86\n",
            "Actual: 24.0, Predicted: 18.66\n",
            "Actual: 24.0, Predicted: 24.46\n",
            "Actual: 24.0, Predicted: 19.82\n",
            "Actual: 24.0, Predicted: 20.40\n",
            "Actual: 24.0, Predicted: 25.21\n",
            "Actual: 24.0, Predicted: 18.86\n",
            "Actual: 24.0, Predicted: 19.12\n",
            "Actual: 24.0, Predicted: 19.82\n",
            "Actual: 19.0, Predicted: 25.91\n",
            "Actual: 19.0, Predicted: 27.87\n",
            "Actual: 19.0, Predicted: 25.86\n",
            "Actual: 19.0, Predicted: 28.20\n",
            "Actual: 19.0, Predicted: 28.20\n",
            "Actual: 19.0, Predicted: 27.15\n",
            "Actual: 19.0, Predicted: 28.20\n",
            "Actual: 19.0, Predicted: 25.70\n",
            "Actual: 19.0, Predicted: 26.74\n",
            "Actual: 19.0, Predicted: 27.94\n",
            "Actual: 19.0, Predicted: 29.45\n",
            "Actual: 19.0, Predicted: 26.52\n",
            "Actual: 19.0, Predicted: 25.70\n",
            "Actual: 19.0, Predicted: 28.75\n",
            "Actual: 19.0, Predicted: 27.15\n",
            "Actual: 19.0, Predicted: 26.74\n",
            "Actual: 19.0, Predicted: 28.88\n",
            "Actual: 19.0, Predicted: 26.74\n",
            "Actual: 19.0, Predicted: 27.71\n",
            "Actual: 19.0, Predicted: 27.15\n",
            "Actual: 37.0, Predicted: 32.39\n",
            "Actual: 37.0, Predicted: 28.84\n",
            "Actual: 37.0, Predicted: 27.76\n",
            "Actual: 37.0, Predicted: 29.65\n",
            "Actual: 37.0, Predicted: 29.12\n",
            "Actual: 37.0, Predicted: 33.26\n",
            "Actual: 37.0, Predicted: 28.43\n",
            "Actual: 37.0, Predicted: 32.46\n",
            "Actual: 37.0, Predicted: 29.78\n",
            "Actual: 37.0, Predicted: 29.50\n",
            "Actual: 37.0, Predicted: 29.50\n",
            "Actual: 37.0, Predicted: 30.58\n",
            "Actual: 37.0, Predicted: 28.78\n",
            "Actual: 37.0, Predicted: 29.87\n",
            "Actual: 37.0, Predicted: 30.58\n",
            "Actual: 37.0, Predicted: 29.03\n",
            "Actual: 37.0, Predicted: 27.76\n",
            "Actual: 37.0, Predicted: 40.60\n",
            "Actual: 37.0, Predicted: 30.44\n",
            "Actual: 37.0, Predicted: 40.71\n"
          ]
        }
      ]
    },
    {
      "cell_type": "markdown",
      "source": [
        "##Multi-Layer Perceptron (MLP)\n",
        "* MSE: 101.53812227776503\n",
        "* RMSE: 10.076612639065026\n",
        "* R-squared: 0.024117616686945342"
      ],
      "metadata": {
        "id": "_x3H0PRsWVWe"
      }
    },
    {
      "cell_type": "code",
      "source": [
        "from sklearn.neural_network import MLPRegressor\n",
        "from sklearn.preprocessing import StandardScaler"
      ],
      "metadata": {
        "id": "1pL18y8sWsYc"
      },
      "execution_count": 48,
      "outputs": []
    },
    {
      "cell_type": "code",
      "source": [
        "scaler = StandardScaler()\n",
        "X_train_scaled = scaler.fit_transform(X_train)\n",
        "X_test_scaled = scaler.transform(X_test)"
      ],
      "metadata": {
        "id": "l38mKqp9WzFe"
      },
      "execution_count": 49,
      "outputs": []
    },
    {
      "cell_type": "code",
      "source": [
        "mlp_model = MLPRegressor(hidden_layer_sizes=(100,), activation='relu', solver='adam', alpha=0.0001,\n",
        "                         batch_size='auto', learning_rate='constant', learning_rate_init=0.001,\n",
        "                         max_iter=200, shuffle=True, random_state=None, tol=0.0001, verbose=False,\n",
        "                         warm_start=False, momentum=0.9, nesterovs_momentum=True, early_stopping=False,\n",
        "                         validation_fraction=0.1, beta_1=0.9, beta_2=0.999, epsilon=1e-08)\n",
        "\n",
        "mlp_model.fit(X_train_scaled, y_train)"
      ],
      "metadata": {
        "colab": {
          "base_uri": "https://localhost:8080/",
          "height": 131
        },
        "id": "HI5MapRsW7Xi",
        "outputId": "a26ca54f-3241-4974-ffa9-dafaca26cc40"
      },
      "execution_count": 51,
      "outputs": [
        {
          "output_type": "stream",
          "name": "stderr",
          "text": [
            "/usr/local/lib/python3.10/dist-packages/sklearn/neural_network/_multilayer_perceptron.py:686: ConvergenceWarning: Stochastic Optimizer: Maximum iterations (200) reached and the optimization hasn't converged yet.\n",
            "  warnings.warn(\n"
          ]
        },
        {
          "output_type": "execute_result",
          "data": {
            "text/plain": [
              "MLPRegressor()"
            ],
            "text/html": [
              "<style>#sk-container-id-8 {color: black;background-color: white;}#sk-container-id-8 pre{padding: 0;}#sk-container-id-8 div.sk-toggleable {background-color: white;}#sk-container-id-8 label.sk-toggleable__label {cursor: pointer;display: block;width: 100%;margin-bottom: 0;padding: 0.3em;box-sizing: border-box;text-align: center;}#sk-container-id-8 label.sk-toggleable__label-arrow:before {content: \"▸\";float: left;margin-right: 0.25em;color: #696969;}#sk-container-id-8 label.sk-toggleable__label-arrow:hover:before {color: black;}#sk-container-id-8 div.sk-estimator:hover label.sk-toggleable__label-arrow:before {color: black;}#sk-container-id-8 div.sk-toggleable__content {max-height: 0;max-width: 0;overflow: hidden;text-align: left;background-color: #f0f8ff;}#sk-container-id-8 div.sk-toggleable__content pre {margin: 0.2em;color: black;border-radius: 0.25em;background-color: #f0f8ff;}#sk-container-id-8 input.sk-toggleable__control:checked~div.sk-toggleable__content {max-height: 200px;max-width: 100%;overflow: auto;}#sk-container-id-8 input.sk-toggleable__control:checked~label.sk-toggleable__label-arrow:before {content: \"▾\";}#sk-container-id-8 div.sk-estimator input.sk-toggleable__control:checked~label.sk-toggleable__label {background-color: #d4ebff;}#sk-container-id-8 div.sk-label input.sk-toggleable__control:checked~label.sk-toggleable__label {background-color: #d4ebff;}#sk-container-id-8 input.sk-hidden--visually {border: 0;clip: rect(1px 1px 1px 1px);clip: rect(1px, 1px, 1px, 1px);height: 1px;margin: -1px;overflow: hidden;padding: 0;position: absolute;width: 1px;}#sk-container-id-8 div.sk-estimator {font-family: monospace;background-color: #f0f8ff;border: 1px dotted black;border-radius: 0.25em;box-sizing: border-box;margin-bottom: 0.5em;}#sk-container-id-8 div.sk-estimator:hover {background-color: #d4ebff;}#sk-container-id-8 div.sk-parallel-item::after {content: \"\";width: 100%;border-bottom: 1px solid gray;flex-grow: 1;}#sk-container-id-8 div.sk-label:hover label.sk-toggleable__label {background-color: #d4ebff;}#sk-container-id-8 div.sk-serial::before {content: \"\";position: absolute;border-left: 1px solid gray;box-sizing: border-box;top: 0;bottom: 0;left: 50%;z-index: 0;}#sk-container-id-8 div.sk-serial {display: flex;flex-direction: column;align-items: center;background-color: white;padding-right: 0.2em;padding-left: 0.2em;position: relative;}#sk-container-id-8 div.sk-item {position: relative;z-index: 1;}#sk-container-id-8 div.sk-parallel {display: flex;align-items: stretch;justify-content: center;background-color: white;position: relative;}#sk-container-id-8 div.sk-item::before, #sk-container-id-8 div.sk-parallel-item::before {content: \"\";position: absolute;border-left: 1px solid gray;box-sizing: border-box;top: 0;bottom: 0;left: 50%;z-index: -1;}#sk-container-id-8 div.sk-parallel-item {display: flex;flex-direction: column;z-index: 1;position: relative;background-color: white;}#sk-container-id-8 div.sk-parallel-item:first-child::after {align-self: flex-end;width: 50%;}#sk-container-id-8 div.sk-parallel-item:last-child::after {align-self: flex-start;width: 50%;}#sk-container-id-8 div.sk-parallel-item:only-child::after {width: 0;}#sk-container-id-8 div.sk-dashed-wrapped {border: 1px dashed gray;margin: 0 0.4em 0.5em 0.4em;box-sizing: border-box;padding-bottom: 0.4em;background-color: white;}#sk-container-id-8 div.sk-label label {font-family: monospace;font-weight: bold;display: inline-block;line-height: 1.2em;}#sk-container-id-8 div.sk-label-container {text-align: center;}#sk-container-id-8 div.sk-container {/* jupyter's `normalize.less` sets `[hidden] { display: none; }` but bootstrap.min.css set `[hidden] { display: none !important; }` so we also need the `!important` here to be able to override the default hidden behavior on the sphinx rendered scikit-learn.org. See: https://github.com/scikit-learn/scikit-learn/issues/21755 */display: inline-block !important;position: relative;}#sk-container-id-8 div.sk-text-repr-fallback {display: none;}</style><div id=\"sk-container-id-8\" class=\"sk-top-container\"><div class=\"sk-text-repr-fallback\"><pre>MLPRegressor()</pre><b>In a Jupyter environment, please rerun this cell to show the HTML representation or trust the notebook. <br />On GitHub, the HTML representation is unable to render, please try loading this page with nbviewer.org.</b></div><div class=\"sk-container\" hidden><div class=\"sk-item\"><div class=\"sk-estimator sk-toggleable\"><input class=\"sk-toggleable__control sk-hidden--visually\" id=\"sk-estimator-id-8\" type=\"checkbox\" checked><label for=\"sk-estimator-id-8\" class=\"sk-toggleable__label sk-toggleable__label-arrow\">MLPRegressor</label><div class=\"sk-toggleable__content\"><pre>MLPRegressor()</pre></div></div></div></div></div>"
            ]
          },
          "metadata": {},
          "execution_count": 51
        }
      ]
    },
    {
      "cell_type": "code",
      "source": [
        "y_pred_mlp = mlp_model.predict(X_test_scaled)"
      ],
      "metadata": {
        "id": "7RQHhUpJXULW"
      },
      "execution_count": 52,
      "outputs": []
    },
    {
      "cell_type": "code",
      "source": [
        "mse_mlp = mean_squared_error(y_test, y_pred_mlp)\n",
        "rmse_mlp = np.sqrt(mse_mlp)\n",
        "r2_mlp = r2_score(y_test, y_pred_mlp)\n",
        "\n",
        "print(f'MSE: {mse_mlp}')\n",
        "print(f'RMSE: {rmse_mlp}')\n",
        "print(f'R-squared: {r2_mlp}')"
      ],
      "metadata": {
        "colab": {
          "base_uri": "https://localhost:8080/"
        },
        "id": "JQPjx-HxXcdp",
        "outputId": "744af3b0-e002-4d3d-87ab-b7f5bfdf08b9"
      },
      "execution_count": 53,
      "outputs": [
        {
          "output_type": "stream",
          "name": "stdout",
          "text": [
            "MSE: 101.53812227776503\n",
            "RMSE: 10.076612639065026\n",
            "R-squared: 0.024117616686945342\n"
          ]
        }
      ]
    },
    {
      "cell_type": "code",
      "source": [
        "joblib.dump(mlp_model, 'MLP.joblib')"
      ],
      "metadata": {
        "colab": {
          "base_uri": "https://localhost:8080/"
        },
        "id": "oOtfwMFqXeGS",
        "outputId": "d06369b7-1ce3-4da7-d108-83bb9e6da5f6"
      },
      "execution_count": 55,
      "outputs": [
        {
          "output_type": "execute_result",
          "data": {
            "text/plain": [
              "['MLP.joblib']"
            ]
          },
          "metadata": {},
          "execution_count": 55
        }
      ]
    },
    {
      "cell_type": "code",
      "source": [
        "for actual, predicted in zip(np.array(y_test)[:100], y_pred_mlp[:100]):\n",
        "    print(f'Actual: {actual}, Predicted: {predicted:.2f}')"
      ],
      "metadata": {
        "colab": {
          "base_uri": "https://localhost:8080/"
        },
        "id": "HJ1Ls4fNbz-_",
        "outputId": "58be9dcd-ed15-477b-b16c-c5e04bf2e640"
      },
      "execution_count": 89,
      "outputs": [
        {
          "output_type": "stream",
          "name": "stdout",
          "text": [
            "Actual: 35.5, Predicted: 20.39\n",
            "Actual: 35.5, Predicted: 20.96\n",
            "Actual: 35.5, Predicted: 20.86\n",
            "Actual: 35.5, Predicted: 21.01\n",
            "Actual: 35.5, Predicted: 20.67\n",
            "Actual: 35.5, Predicted: 21.01\n",
            "Actual: 35.5, Predicted: 21.26\n",
            "Actual: 35.5, Predicted: 20.54\n",
            "Actual: 35.5, Predicted: 20.84\n",
            "Actual: 35.5, Predicted: 20.39\n",
            "Actual: 35.5, Predicted: 20.33\n",
            "Actual: 35.5, Predicted: 20.24\n",
            "Actual: 35.5, Predicted: 20.83\n",
            "Actual: 35.5, Predicted: 21.08\n",
            "Actual: 35.5, Predicted: 20.19\n",
            "Actual: 35.5, Predicted: 20.98\n",
            "Actual: 35.5, Predicted: 21.17\n",
            "Actual: 35.5, Predicted: 20.58\n",
            "Actual: 35.5, Predicted: 21.01\n",
            "Actual: 35.5, Predicted: 20.92\n",
            "Actual: 11.0, Predicted: 19.01\n",
            "Actual: 11.0, Predicted: 18.30\n",
            "Actual: 11.0, Predicted: 19.09\n",
            "Actual: 11.0, Predicted: 18.09\n",
            "Actual: 11.0, Predicted: 19.25\n",
            "Actual: 11.0, Predicted: 18.73\n",
            "Actual: 11.0, Predicted: 17.28\n",
            "Actual: 11.0, Predicted: 17.63\n",
            "Actual: 11.0, Predicted: 17.64\n",
            "Actual: 11.0, Predicted: 17.56\n",
            "Actual: 11.0, Predicted: 18.14\n",
            "Actual: 11.0, Predicted: 18.63\n",
            "Actual: 11.0, Predicted: 18.51\n",
            "Actual: 11.0, Predicted: 18.31\n",
            "Actual: 11.0, Predicted: 18.31\n",
            "Actual: 11.0, Predicted: 18.15\n",
            "Actual: 11.0, Predicted: 18.10\n",
            "Actual: 11.0, Predicted: 18.26\n",
            "Actual: 11.0, Predicted: 19.16\n",
            "Actual: 11.0, Predicted: 18.63\n",
            "Actual: 24.0, Predicted: 24.22\n",
            "Actual: 24.0, Predicted: 23.37\n",
            "Actual: 24.0, Predicted: 24.09\n",
            "Actual: 24.0, Predicted: 24.42\n",
            "Actual: 24.0, Predicted: 23.84\n",
            "Actual: 24.0, Predicted: 23.62\n",
            "Actual: 24.0, Predicted: 25.47\n",
            "Actual: 24.0, Predicted: 24.49\n",
            "Actual: 24.0, Predicted: 23.73\n",
            "Actual: 24.0, Predicted: 23.88\n",
            "Actual: 24.0, Predicted: 23.82\n",
            "Actual: 24.0, Predicted: 23.33\n",
            "Actual: 24.0, Predicted: 23.37\n",
            "Actual: 24.0, Predicted: 25.32\n",
            "Actual: 24.0, Predicted: 23.88\n",
            "Actual: 24.0, Predicted: 24.04\n",
            "Actual: 24.0, Predicted: 25.53\n",
            "Actual: 24.0, Predicted: 23.47\n",
            "Actual: 24.0, Predicted: 23.69\n",
            "Actual: 24.0, Predicted: 23.88\n",
            "Actual: 19.0, Predicted: 24.04\n",
            "Actual: 19.0, Predicted: 25.63\n",
            "Actual: 19.0, Predicted: 23.85\n",
            "Actual: 19.0, Predicted: 26.55\n",
            "Actual: 19.0, Predicted: 26.96\n",
            "Actual: 19.0, Predicted: 24.74\n",
            "Actual: 19.0, Predicted: 26.75\n",
            "Actual: 19.0, Predicted: 23.71\n",
            "Actual: 19.0, Predicted: 24.78\n",
            "Actual: 19.0, Predicted: 25.37\n",
            "Actual: 19.0, Predicted: 27.07\n",
            "Actual: 19.0, Predicted: 24.69\n",
            "Actual: 19.0, Predicted: 23.53\n",
            "Actual: 19.0, Predicted: 26.71\n",
            "Actual: 19.0, Predicted: 24.74\n",
            "Actual: 19.0, Predicted: 24.58\n",
            "Actual: 19.0, Predicted: 28.02\n",
            "Actual: 19.0, Predicted: 24.92\n",
            "Actual: 19.0, Predicted: 25.69\n",
            "Actual: 19.0, Predicted: 24.94\n",
            "Actual: 37.0, Predicted: 27.37\n",
            "Actual: 37.0, Predicted: 26.97\n",
            "Actual: 37.0, Predicted: 25.90\n",
            "Actual: 37.0, Predicted: 27.28\n",
            "Actual: 37.0, Predicted: 27.07\n",
            "Actual: 37.0, Predicted: 27.94\n",
            "Actual: 37.0, Predicted: 26.91\n",
            "Actual: 37.0, Predicted: 27.68\n",
            "Actual: 37.0, Predicted: 27.17\n",
            "Actual: 37.0, Predicted: 26.92\n",
            "Actual: 37.0, Predicted: 26.92\n",
            "Actual: 37.0, Predicted: 27.58\n",
            "Actual: 37.0, Predicted: 26.86\n",
            "Actual: 37.0, Predicted: 27.38\n",
            "Actual: 37.0, Predicted: 27.48\n",
            "Actual: 37.0, Predicted: 26.56\n",
            "Actual: 37.0, Predicted: 25.80\n",
            "Actual: 37.0, Predicted: 29.95\n",
            "Actual: 37.0, Predicted: 27.32\n",
            "Actual: 37.0, Predicted: 31.50\n"
          ]
        }
      ]
    },
    {
      "cell_type": "markdown",
      "source": [
        "##Convolutional Neural Network\n",
        "* Mean Squared Error: 100.70785442824756\n",
        "* RMSE: 10.991534617796244\n",
        "* R-squared: 0.03209731681926453"
      ],
      "metadata": {
        "id": "cjp0DveMXxjN"
      }
    },
    {
      "cell_type": "code",
      "source": [
        "from tensorflow.keras.models import Sequential\n",
        "from tensorflow.keras.layers import Dense, Conv1D, Flatten, Dropout\n",
        "from tensorflow.keras.optimizers import Adam"
      ],
      "metadata": {
        "id": "aAG8yfDfYXcB"
      },
      "execution_count": 58,
      "outputs": []
    },
    {
      "cell_type": "code",
      "source": [
        "X_train_reshaped = np.expand_dims(X_train_scaled, axis=2)\n",
        "X_test_reshaped = np.expand_dims(X_test_scaled, axis=2)"
      ],
      "metadata": {
        "id": "NPt0v_jgYFa5"
      },
      "execution_count": 59,
      "outputs": []
    },
    {
      "cell_type": "code",
      "source": [
        "# Define the CNN model\n",
        "model = Sequential([\n",
        "    Conv1D(filters=64, kernel_size=2, activation='relu', input_shape=(X_train_reshaped.shape[1], 1)),\n",
        "    Flatten(),\n",
        "    Dense(50, activation='relu'),\n",
        "    Dropout(0.2),\n",
        "    Dense(1)\n",
        "])"
      ],
      "metadata": {
        "id": "VfZfkeeQYTfD"
      },
      "execution_count": 60,
      "outputs": []
    },
    {
      "cell_type": "code",
      "source": [
        "model.compile(optimizer=Adam(learning_rate=0.001), loss='mean_squared_error')"
      ],
      "metadata": {
        "id": "OBVLrYB6YVSd"
      },
      "execution_count": 61,
      "outputs": []
    },
    {
      "cell_type": "code",
      "source": [
        "model.fit(X_train_reshaped, y_train, epochs=100, batch_size=32, validation_split=0.2, verbose=1)"
      ],
      "metadata": {
        "colab": {
          "base_uri": "https://localhost:8080/"
        },
        "id": "MaH0PysvYcge",
        "outputId": "cfc983ac-9c86-4f2f-aa58-50d5596584e6"
      },
      "execution_count": 62,
      "outputs": [
        {
          "output_type": "stream",
          "name": "stdout",
          "text": [
            "Epoch 1/100\n",
            "39/39 [==============================] - 3s 27ms/step - loss: 434.9526 - val_loss: 855.0047\n",
            "Epoch 2/100\n",
            "39/39 [==============================] - 1s 13ms/step - loss: 304.0660 - val_loss: 477.6784\n",
            "Epoch 3/100\n",
            "39/39 [==============================] - 0s 12ms/step - loss: 121.4583 - val_loss: 146.8259\n",
            "Epoch 4/100\n",
            "39/39 [==============================] - 0s 11ms/step - loss: 70.6005 - val_loss: 114.8961\n",
            "Epoch 5/100\n",
            "39/39 [==============================] - 0s 6ms/step - loss: 55.0041 - val_loss: 105.5696\n",
            "Epoch 6/100\n",
            "39/39 [==============================] - 0s 8ms/step - loss: 42.8561 - val_loss: 95.4368\n",
            "Epoch 7/100\n",
            "39/39 [==============================] - 0s 8ms/step - loss: 43.2351 - val_loss: 102.5319\n",
            "Epoch 8/100\n",
            "39/39 [==============================] - 0s 6ms/step - loss: 40.2927 - val_loss: 110.8317\n",
            "Epoch 9/100\n",
            "39/39 [==============================] - 0s 5ms/step - loss: 38.6185 - val_loss: 101.7503\n",
            "Epoch 10/100\n",
            "39/39 [==============================] - 0s 6ms/step - loss: 39.1094 - val_loss: 103.5003\n",
            "Epoch 11/100\n",
            "39/39 [==============================] - 0s 3ms/step - loss: 36.2711 - val_loss: 108.9470\n",
            "Epoch 12/100\n",
            "39/39 [==============================] - 0s 3ms/step - loss: 35.9486 - val_loss: 118.3087\n",
            "Epoch 13/100\n",
            "39/39 [==============================] - 0s 3ms/step - loss: 36.5148 - val_loss: 113.8381\n",
            "Epoch 14/100\n",
            "39/39 [==============================] - 0s 3ms/step - loss: 34.3315 - val_loss: 111.4689\n",
            "Epoch 15/100\n",
            "39/39 [==============================] - 0s 3ms/step - loss: 36.5075 - val_loss: 108.0595\n",
            "Epoch 16/100\n",
            "39/39 [==============================] - 0s 3ms/step - loss: 35.7345 - val_loss: 112.0966\n",
            "Epoch 17/100\n",
            "39/39 [==============================] - 0s 3ms/step - loss: 35.7951 - val_loss: 119.8896\n",
            "Epoch 18/100\n",
            "39/39 [==============================] - 0s 3ms/step - loss: 35.5118 - val_loss: 126.1111\n",
            "Epoch 19/100\n",
            "39/39 [==============================] - 0s 3ms/step - loss: 33.5287 - val_loss: 117.8010\n",
            "Epoch 20/100\n",
            "39/39 [==============================] - 0s 3ms/step - loss: 35.9179 - val_loss: 115.2686\n",
            "Epoch 21/100\n",
            "39/39 [==============================] - 0s 3ms/step - loss: 36.1148 - val_loss: 113.5553\n",
            "Epoch 22/100\n",
            "39/39 [==============================] - 0s 3ms/step - loss: 34.4077 - val_loss: 112.1216\n",
            "Epoch 23/100\n",
            "39/39 [==============================] - 0s 3ms/step - loss: 35.6514 - val_loss: 112.1573\n",
            "Epoch 24/100\n",
            "39/39 [==============================] - 0s 3ms/step - loss: 34.7303 - val_loss: 120.1344\n",
            "Epoch 25/100\n",
            "39/39 [==============================] - 0s 3ms/step - loss: 34.2072 - val_loss: 116.2091\n",
            "Epoch 26/100\n",
            "39/39 [==============================] - 0s 3ms/step - loss: 35.7832 - val_loss: 116.1292\n",
            "Epoch 27/100\n",
            "39/39 [==============================] - 0s 3ms/step - loss: 34.7239 - val_loss: 129.2265\n",
            "Epoch 28/100\n",
            "39/39 [==============================] - 0s 3ms/step - loss: 34.3398 - val_loss: 104.3291\n",
            "Epoch 29/100\n",
            "39/39 [==============================] - 0s 3ms/step - loss: 35.5213 - val_loss: 112.6394\n",
            "Epoch 30/100\n",
            "39/39 [==============================] - 0s 3ms/step - loss: 34.5993 - val_loss: 115.1912\n",
            "Epoch 31/100\n",
            "39/39 [==============================] - 0s 3ms/step - loss: 36.3317 - val_loss: 120.6668\n",
            "Epoch 32/100\n",
            "39/39 [==============================] - 0s 3ms/step - loss: 34.1284 - val_loss: 119.5292\n",
            "Epoch 33/100\n",
            "39/39 [==============================] - 0s 3ms/step - loss: 35.7987 - val_loss: 120.5896\n",
            "Epoch 34/100\n",
            "39/39 [==============================] - 0s 3ms/step - loss: 35.2786 - val_loss: 109.7096\n",
            "Epoch 35/100\n",
            "39/39 [==============================] - 0s 3ms/step - loss: 34.2649 - val_loss: 113.4961\n",
            "Epoch 36/100\n",
            "39/39 [==============================] - 0s 3ms/step - loss: 35.4987 - val_loss: 115.6842\n",
            "Epoch 37/100\n",
            "39/39 [==============================] - 0s 3ms/step - loss: 33.0712 - val_loss: 105.1160\n",
            "Epoch 38/100\n",
            "39/39 [==============================] - 0s 3ms/step - loss: 33.8728 - val_loss: 116.1708\n",
            "Epoch 39/100\n",
            "39/39 [==============================] - 0s 3ms/step - loss: 34.1126 - val_loss: 112.2598\n",
            "Epoch 40/100\n",
            "39/39 [==============================] - 0s 3ms/step - loss: 33.8688 - val_loss: 120.8441\n",
            "Epoch 41/100\n",
            "39/39 [==============================] - 0s 3ms/step - loss: 35.1301 - val_loss: 107.4257\n",
            "Epoch 42/100\n",
            "39/39 [==============================] - 0s 3ms/step - loss: 33.7760 - val_loss: 98.0660\n",
            "Epoch 43/100\n",
            "39/39 [==============================] - 0s 3ms/step - loss: 35.0604 - val_loss: 109.5976\n",
            "Epoch 44/100\n",
            "39/39 [==============================] - 0s 3ms/step - loss: 35.2149 - val_loss: 109.2853\n",
            "Epoch 45/100\n",
            "39/39 [==============================] - 0s 3ms/step - loss: 34.1687 - val_loss: 114.3336\n",
            "Epoch 46/100\n",
            "39/39 [==============================] - 0s 3ms/step - loss: 34.3612 - val_loss: 105.9768\n",
            "Epoch 47/100\n",
            "39/39 [==============================] - 0s 3ms/step - loss: 34.2793 - val_loss: 122.0934\n",
            "Epoch 48/100\n",
            "39/39 [==============================] - 0s 3ms/step - loss: 33.7986 - val_loss: 116.0608\n",
            "Epoch 49/100\n",
            "39/39 [==============================] - 0s 3ms/step - loss: 34.8074 - val_loss: 114.5406\n",
            "Epoch 50/100\n",
            "39/39 [==============================] - 0s 3ms/step - loss: 35.1251 - val_loss: 117.0833\n",
            "Epoch 51/100\n",
            "39/39 [==============================] - 0s 3ms/step - loss: 33.6793 - val_loss: 114.0429\n",
            "Epoch 52/100\n",
            "39/39 [==============================] - 0s 3ms/step - loss: 33.3228 - val_loss: 125.8991\n",
            "Epoch 53/100\n",
            "39/39 [==============================] - 0s 3ms/step - loss: 34.0462 - val_loss: 125.8246\n",
            "Epoch 54/100\n",
            "39/39 [==============================] - 0s 3ms/step - loss: 34.8940 - val_loss: 110.8878\n",
            "Epoch 55/100\n",
            "39/39 [==============================] - 0s 3ms/step - loss: 34.7658 - val_loss: 117.2024\n",
            "Epoch 56/100\n",
            "39/39 [==============================] - 0s 3ms/step - loss: 33.3260 - val_loss: 123.2867\n",
            "Epoch 57/100\n",
            "39/39 [==============================] - 0s 3ms/step - loss: 34.8602 - val_loss: 132.9854\n",
            "Epoch 58/100\n",
            "39/39 [==============================] - 0s 3ms/step - loss: 33.5785 - val_loss: 117.9294\n",
            "Epoch 59/100\n",
            "39/39 [==============================] - 0s 3ms/step - loss: 34.2564 - val_loss: 112.8284\n",
            "Epoch 60/100\n",
            "39/39 [==============================] - 0s 3ms/step - loss: 34.2307 - val_loss: 112.0130\n",
            "Epoch 61/100\n",
            "39/39 [==============================] - 0s 3ms/step - loss: 33.9536 - val_loss: 112.6343\n",
            "Epoch 62/100\n",
            "39/39 [==============================] - 0s 3ms/step - loss: 33.9353 - val_loss: 117.8017\n",
            "Epoch 63/100\n",
            "39/39 [==============================] - 0s 3ms/step - loss: 33.6859 - val_loss: 120.4030\n",
            "Epoch 64/100\n",
            "39/39 [==============================] - 0s 3ms/step - loss: 33.0029 - val_loss: 112.0240\n",
            "Epoch 65/100\n",
            "39/39 [==============================] - 0s 3ms/step - loss: 34.5746 - val_loss: 116.1374\n",
            "Epoch 66/100\n",
            "39/39 [==============================] - 0s 3ms/step - loss: 33.4759 - val_loss: 131.6709\n",
            "Epoch 67/100\n",
            "39/39 [==============================] - 0s 3ms/step - loss: 33.9659 - val_loss: 117.4229\n",
            "Epoch 68/100\n",
            "39/39 [==============================] - 0s 3ms/step - loss: 33.0791 - val_loss: 112.4428\n",
            "Epoch 69/100\n",
            "39/39 [==============================] - 0s 3ms/step - loss: 33.7528 - val_loss: 114.4332\n",
            "Epoch 70/100\n",
            "39/39 [==============================] - 0s 3ms/step - loss: 34.4320 - val_loss: 123.7997\n",
            "Epoch 71/100\n",
            "39/39 [==============================] - 0s 3ms/step - loss: 32.6137 - val_loss: 105.2643\n",
            "Epoch 72/100\n",
            "39/39 [==============================] - 0s 3ms/step - loss: 33.7787 - val_loss: 126.7139\n",
            "Epoch 73/100\n",
            "39/39 [==============================] - 0s 3ms/step - loss: 33.5252 - val_loss: 112.3290\n",
            "Epoch 74/100\n",
            "39/39 [==============================] - 0s 3ms/step - loss: 33.9904 - val_loss: 129.7506\n",
            "Epoch 75/100\n",
            "39/39 [==============================] - 0s 3ms/step - loss: 34.1741 - val_loss: 118.0013\n",
            "Epoch 76/100\n",
            "39/39 [==============================] - 0s 5ms/step - loss: 32.0859 - val_loss: 113.4577\n",
            "Epoch 77/100\n",
            "39/39 [==============================] - 0s 4ms/step - loss: 33.3731 - val_loss: 117.1826\n",
            "Epoch 78/100\n",
            "39/39 [==============================] - 0s 4ms/step - loss: 33.0395 - val_loss: 122.4407\n",
            "Epoch 79/100\n",
            "39/39 [==============================] - 0s 4ms/step - loss: 32.6995 - val_loss: 118.5053\n",
            "Epoch 80/100\n",
            "39/39 [==============================] - 0s 4ms/step - loss: 33.0423 - val_loss: 116.8033\n",
            "Epoch 81/100\n",
            "39/39 [==============================] - 0s 4ms/step - loss: 33.4366 - val_loss: 123.8549\n",
            "Epoch 82/100\n",
            "39/39 [==============================] - 0s 5ms/step - loss: 32.9629 - val_loss: 132.7411\n",
            "Epoch 83/100\n",
            "39/39 [==============================] - 0s 4ms/step - loss: 32.7588 - val_loss: 115.6120\n",
            "Epoch 84/100\n",
            "39/39 [==============================] - 0s 5ms/step - loss: 34.3489 - val_loss: 109.8534\n",
            "Epoch 85/100\n",
            "39/39 [==============================] - 0s 4ms/step - loss: 32.3959 - val_loss: 125.1047\n",
            "Epoch 86/100\n",
            "39/39 [==============================] - 0s 4ms/step - loss: 33.0440 - val_loss: 127.2191\n",
            "Epoch 87/100\n",
            "39/39 [==============================] - 0s 4ms/step - loss: 34.0501 - val_loss: 130.3707\n",
            "Epoch 88/100\n",
            "39/39 [==============================] - 0s 4ms/step - loss: 32.8680 - val_loss: 124.5108\n",
            "Epoch 89/100\n",
            "39/39 [==============================] - 0s 5ms/step - loss: 32.6869 - val_loss: 130.6241\n",
            "Epoch 90/100\n",
            "39/39 [==============================] - 0s 4ms/step - loss: 31.9920 - val_loss: 116.9206\n",
            "Epoch 91/100\n",
            "39/39 [==============================] - 0s 3ms/step - loss: 31.8439 - val_loss: 113.7752\n",
            "Epoch 92/100\n",
            "39/39 [==============================] - 0s 3ms/step - loss: 31.8089 - val_loss: 125.0521\n",
            "Epoch 93/100\n",
            "39/39 [==============================] - 0s 3ms/step - loss: 31.4991 - val_loss: 117.7617\n",
            "Epoch 94/100\n",
            "39/39 [==============================] - 0s 3ms/step - loss: 31.2636 - val_loss: 120.1789\n",
            "Epoch 95/100\n",
            "39/39 [==============================] - 0s 3ms/step - loss: 32.3320 - val_loss: 111.8011\n",
            "Epoch 96/100\n",
            "39/39 [==============================] - 0s 3ms/step - loss: 31.2109 - val_loss: 111.1428\n",
            "Epoch 97/100\n",
            "39/39 [==============================] - 0s 3ms/step - loss: 31.0331 - val_loss: 120.6728\n",
            "Epoch 98/100\n",
            "39/39 [==============================] - 0s 3ms/step - loss: 31.5181 - val_loss: 102.1677\n",
            "Epoch 99/100\n",
            "39/39 [==============================] - 0s 3ms/step - loss: 31.8263 - val_loss: 119.1987\n",
            "Epoch 100/100\n",
            "39/39 [==============================] - 0s 3ms/step - loss: 29.9884 - val_loss: 116.9747\n"
          ]
        },
        {
          "output_type": "execute_result",
          "data": {
            "text/plain": [
              "<keras.src.callbacks.History at 0x7f3524221ed0>"
            ]
          },
          "metadata": {},
          "execution_count": 62
        }
      ]
    },
    {
      "cell_type": "code",
      "source": [
        "y_pred = model.predict(X_test_reshaped)"
      ],
      "metadata": {
        "colab": {
          "base_uri": "https://localhost:8080/"
        },
        "id": "k9JCbY47Ydf_",
        "outputId": "44dafabf-38b0-4128-c495-407626fa522b"
      },
      "execution_count": 91,
      "outputs": [
        {
          "output_type": "stream",
          "name": "stdout",
          "text": [
            "13/13 [==============================] - 0s 7ms/step\n"
          ]
        }
      ]
    },
    {
      "cell_type": "code",
      "source": [
        "mse_cnn = mean_squared_error(y_test, y_pred)\n",
        "rmse_cnn = np.sqrt(mse)\n",
        "r2_cnn = r2_score(y_test, y_pred)\n",
        "\n",
        "print(\"Mean Squared Error:\", mse_cnn)\n",
        "print(\"RMSE:\", rmse_cnn)\n",
        "print(\"R-squared:\", r2_cnn)"
      ],
      "metadata": {
        "colab": {
          "base_uri": "https://localhost:8080/"
        },
        "id": "myUoKUApYk8E",
        "outputId": "27356e4f-4321-454e-f71d-c93a97f56a61"
      },
      "execution_count": 64,
      "outputs": [
        {
          "output_type": "stream",
          "name": "stdout",
          "text": [
            "Mean Squared Error: 100.70785442824756\n",
            "RMSE: 10.991534617796244\n",
            "R-squared: 0.03209731681926453\n"
          ]
        }
      ]
    },
    {
      "cell_type": "code",
      "source": [
        "joblib.dump(model, 'CNN.joblib')"
      ],
      "metadata": {
        "colab": {
          "base_uri": "https://localhost:8080/"
        },
        "id": "vfZxSaRXYsyX",
        "outputId": "378abf76-6ca5-438c-e170-74791c2fd06d"
      },
      "execution_count": 65,
      "outputs": [
        {
          "output_type": "execute_result",
          "data": {
            "text/plain": [
              "['CNN.joblib']"
            ]
          },
          "metadata": {},
          "execution_count": 65
        }
      ]
    },
    {
      "cell_type": "code",
      "source": [
        "for actual, predicted in zip(np.array(y_test)[:100], y_pred[:100]):\n",
        "    print(f'Actual: {actual}, Predicted: {predicted:}')"
      ],
      "metadata": {
        "colab": {
          "base_uri": "https://localhost:8080/"
        },
        "id": "ovHU1Dnib3iX",
        "outputId": "39b76434-ba11-439a-f2af-46b63bad2a38"
      },
      "execution_count": 93,
      "outputs": [
        {
          "output_type": "stream",
          "name": "stdout",
          "text": [
            "Actual: 35.5, Predicted: [18.808203]\n",
            "Actual: 35.5, Predicted: [19.372696]\n",
            "Actual: 35.5, Predicted: [19.331846]\n",
            "Actual: 35.5, Predicted: [19.141727]\n",
            "Actual: 35.5, Predicted: [18.887035]\n",
            "Actual: 35.5, Predicted: [19.141727]\n",
            "Actual: 35.5, Predicted: [19.365479]\n",
            "Actual: 35.5, Predicted: [18.940926]\n",
            "Actual: 35.5, Predicted: [18.975016]\n",
            "Actual: 35.5, Predicted: [18.808203]\n",
            "Actual: 35.5, Predicted: [18.67843]\n",
            "Actual: 35.5, Predicted: [18.662628]\n",
            "Actual: 35.5, Predicted: [19.052689]\n",
            "Actual: 35.5, Predicted: [19.260912]\n",
            "Actual: 35.5, Predicted: [18.770037]\n",
            "Actual: 35.5, Predicted: [19.208063]\n",
            "Actual: 35.5, Predicted: [19.313757]\n",
            "Actual: 35.5, Predicted: [18.854612]\n",
            "Actual: 35.5, Predicted: [19.141727]\n",
            "Actual: 35.5, Predicted: [19.097208]\n",
            "Actual: 11.0, Predicted: [18.287588]\n",
            "Actual: 11.0, Predicted: [17.44054]\n",
            "Actual: 11.0, Predicted: [18.72457]\n",
            "Actual: 11.0, Predicted: [17.500292]\n",
            "Actual: 11.0, Predicted: [18.857946]\n",
            "Actual: 11.0, Predicted: [18.398275]\n",
            "Actual: 11.0, Predicted: [16.591225]\n",
            "Actual: 11.0, Predicted: [16.950716]\n",
            "Actual: 11.0, Predicted: [16.94749]\n",
            "Actual: 11.0, Predicted: [16.832304]\n",
            "Actual: 11.0, Predicted: [17.370241]\n",
            "Actual: 11.0, Predicted: [17.928839]\n",
            "Actual: 11.0, Predicted: [17.884356]\n",
            "Actual: 11.0, Predicted: [17.821447]\n",
            "Actual: 11.0, Predicted: [17.720787]\n",
            "Actual: 11.0, Predicted: [17.622904]\n",
            "Actual: 11.0, Predicted: [17.542776]\n",
            "Actual: 11.0, Predicted: [17.741201]\n",
            "Actual: 11.0, Predicted: [18.8305]\n",
            "Actual: 11.0, Predicted: [17.928839]\n",
            "Actual: 24.0, Predicted: [22.915394]\n",
            "Actual: 24.0, Predicted: [22.016573]\n",
            "Actual: 24.0, Predicted: [22.776525]\n",
            "Actual: 24.0, Predicted: [23.092487]\n",
            "Actual: 24.0, Predicted: [22.404814]\n",
            "Actual: 24.0, Predicted: [22.269197]\n",
            "Actual: 24.0, Predicted: [24.100422]\n",
            "Actual: 24.0, Predicted: [23.168852]\n",
            "Actual: 24.0, Predicted: [22.336891]\n",
            "Actual: 24.0, Predicted: [22.582962]\n",
            "Actual: 24.0, Predicted: [22.52292]\n",
            "Actual: 24.0, Predicted: [21.899998]\n",
            "Actual: 24.0, Predicted: [22.016573]\n",
            "Actual: 24.0, Predicted: [23.95803]\n",
            "Actual: 24.0, Predicted: [22.582962]\n",
            "Actual: 24.0, Predicted: [22.712671]\n",
            "Actual: 24.0, Predicted: [24.155724]\n",
            "Actual: 24.0, Predicted: [22.08405]\n",
            "Actual: 24.0, Predicted: [22.392796]\n",
            "Actual: 24.0, Predicted: [22.582962]\n",
            "Actual: 19.0, Predicted: [22.065159]\n",
            "Actual: 19.0, Predicted: [23.128433]\n",
            "Actual: 19.0, Predicted: [21.934591]\n",
            "Actual: 19.0, Predicted: [24.022345]\n",
            "Actual: 19.0, Predicted: [24.32348]\n",
            "Actual: 19.0, Predicted: [22.727703]\n",
            "Actual: 19.0, Predicted: [24.172913]\n",
            "Actual: 19.0, Predicted: [21.932167]\n",
            "Actual: 19.0, Predicted: [22.458076]\n",
            "Actual: 19.0, Predicted: [22.851906]\n",
            "Actual: 19.0, Predicted: [24.12112]\n",
            "Actual: 19.0, Predicted: [22.588722]\n",
            "Actual: 19.0, Predicted: [21.802074]\n",
            "Actual: 19.0, Predicted: [23.99591]\n",
            "Actual: 19.0, Predicted: [22.727703]\n",
            "Actual: 19.0, Predicted: [22.327816]\n",
            "Actual: 19.0, Predicted: [25.076323]\n",
            "Actual: 19.0, Predicted: [22.45931]\n",
            "Actual: 19.0, Predicted: [23.27445]\n",
            "Actual: 19.0, Predicted: [22.866377]\n",
            "Actual: 37.0, Predicted: [22.659485]\n",
            "Actual: 37.0, Predicted: [22.775835]\n",
            "Actual: 37.0, Predicted: [22.350735]\n",
            "Actual: 37.0, Predicted: [23.232327]\n",
            "Actual: 37.0, Predicted: [22.744453]\n",
            "Actual: 37.0, Predicted: [23.235094]\n",
            "Actual: 37.0, Predicted: [22.545918]\n",
            "Actual: 37.0, Predicted: [23.056896]\n",
            "Actual: 37.0, Predicted: [22.715464]\n",
            "Actual: 37.0, Predicted: [23.092468]\n",
            "Actual: 37.0, Predicted: [23.092468]\n",
            "Actual: 37.0, Predicted: [23.095072]\n",
            "Actual: 37.0, Predicted: [22.813587]\n",
            "Actual: 37.0, Predicted: [23.18423]\n",
            "Actual: 37.0, Predicted: [23.136133]\n",
            "Actual: 37.0, Predicted: [22.952188]\n",
            "Actual: 37.0, Predicted: [22.387772]\n",
            "Actual: 37.0, Predicted: [23.863323]\n",
            "Actual: 37.0, Predicted: [22.916574]\n",
            "Actual: 37.0, Predicted: [24.377775]\n"
          ]
        }
      ]
    },
    {
      "cell_type": "markdown",
      "source": [
        "##Decision Tree\n",
        "* Mean Squared Error: 133.1459722222222\n",
        "* RMSE: 11.538889557588382\n",
        "* R-squared: -0.2796652704026743"
      ],
      "metadata": {
        "id": "LBiAwQTbY9rl"
      }
    },
    {
      "cell_type": "code",
      "source": [
        "from sklearn.tree import DecisionTreeRegressor"
      ],
      "metadata": {
        "id": "FFRfJGs_Y_gI"
      },
      "execution_count": 66,
      "outputs": []
    },
    {
      "cell_type": "code",
      "source": [
        "dt_model = DecisionTreeRegressor(random_state=42)\n",
        "\n",
        "dt_model.fit(X_train, y_train)"
      ],
      "metadata": {
        "colab": {
          "base_uri": "https://localhost:8080/",
          "height": 74
        },
        "id": "dbcUZusraVq0",
        "outputId": "524a425d-4988-4295-e67f-12026e8ad7ed"
      },
      "execution_count": 67,
      "outputs": [
        {
          "output_type": "execute_result",
          "data": {
            "text/plain": [
              "DecisionTreeRegressor(random_state=42)"
            ],
            "text/html": [
              "<style>#sk-container-id-9 {color: black;background-color: white;}#sk-container-id-9 pre{padding: 0;}#sk-container-id-9 div.sk-toggleable {background-color: white;}#sk-container-id-9 label.sk-toggleable__label {cursor: pointer;display: block;width: 100%;margin-bottom: 0;padding: 0.3em;box-sizing: border-box;text-align: center;}#sk-container-id-9 label.sk-toggleable__label-arrow:before {content: \"▸\";float: left;margin-right: 0.25em;color: #696969;}#sk-container-id-9 label.sk-toggleable__label-arrow:hover:before {color: black;}#sk-container-id-9 div.sk-estimator:hover label.sk-toggleable__label-arrow:before {color: black;}#sk-container-id-9 div.sk-toggleable__content {max-height: 0;max-width: 0;overflow: hidden;text-align: left;background-color: #f0f8ff;}#sk-container-id-9 div.sk-toggleable__content pre {margin: 0.2em;color: black;border-radius: 0.25em;background-color: #f0f8ff;}#sk-container-id-9 input.sk-toggleable__control:checked~div.sk-toggleable__content {max-height: 200px;max-width: 100%;overflow: auto;}#sk-container-id-9 input.sk-toggleable__control:checked~label.sk-toggleable__label-arrow:before {content: \"▾\";}#sk-container-id-9 div.sk-estimator input.sk-toggleable__control:checked~label.sk-toggleable__label {background-color: #d4ebff;}#sk-container-id-9 div.sk-label input.sk-toggleable__control:checked~label.sk-toggleable__label {background-color: #d4ebff;}#sk-container-id-9 input.sk-hidden--visually {border: 0;clip: rect(1px 1px 1px 1px);clip: rect(1px, 1px, 1px, 1px);height: 1px;margin: -1px;overflow: hidden;padding: 0;position: absolute;width: 1px;}#sk-container-id-9 div.sk-estimator {font-family: monospace;background-color: #f0f8ff;border: 1px dotted black;border-radius: 0.25em;box-sizing: border-box;margin-bottom: 0.5em;}#sk-container-id-9 div.sk-estimator:hover {background-color: #d4ebff;}#sk-container-id-9 div.sk-parallel-item::after {content: \"\";width: 100%;border-bottom: 1px solid gray;flex-grow: 1;}#sk-container-id-9 div.sk-label:hover label.sk-toggleable__label {background-color: #d4ebff;}#sk-container-id-9 div.sk-serial::before {content: \"\";position: absolute;border-left: 1px solid gray;box-sizing: border-box;top: 0;bottom: 0;left: 50%;z-index: 0;}#sk-container-id-9 div.sk-serial {display: flex;flex-direction: column;align-items: center;background-color: white;padding-right: 0.2em;padding-left: 0.2em;position: relative;}#sk-container-id-9 div.sk-item {position: relative;z-index: 1;}#sk-container-id-9 div.sk-parallel {display: flex;align-items: stretch;justify-content: center;background-color: white;position: relative;}#sk-container-id-9 div.sk-item::before, #sk-container-id-9 div.sk-parallel-item::before {content: \"\";position: absolute;border-left: 1px solid gray;box-sizing: border-box;top: 0;bottom: 0;left: 50%;z-index: -1;}#sk-container-id-9 div.sk-parallel-item {display: flex;flex-direction: column;z-index: 1;position: relative;background-color: white;}#sk-container-id-9 div.sk-parallel-item:first-child::after {align-self: flex-end;width: 50%;}#sk-container-id-9 div.sk-parallel-item:last-child::after {align-self: flex-start;width: 50%;}#sk-container-id-9 div.sk-parallel-item:only-child::after {width: 0;}#sk-container-id-9 div.sk-dashed-wrapped {border: 1px dashed gray;margin: 0 0.4em 0.5em 0.4em;box-sizing: border-box;padding-bottom: 0.4em;background-color: white;}#sk-container-id-9 div.sk-label label {font-family: monospace;font-weight: bold;display: inline-block;line-height: 1.2em;}#sk-container-id-9 div.sk-label-container {text-align: center;}#sk-container-id-9 div.sk-container {/* jupyter's `normalize.less` sets `[hidden] { display: none; }` but bootstrap.min.css set `[hidden] { display: none !important; }` so we also need the `!important` here to be able to override the default hidden behavior on the sphinx rendered scikit-learn.org. See: https://github.com/scikit-learn/scikit-learn/issues/21755 */display: inline-block !important;position: relative;}#sk-container-id-9 div.sk-text-repr-fallback {display: none;}</style><div id=\"sk-container-id-9\" class=\"sk-top-container\"><div class=\"sk-text-repr-fallback\"><pre>DecisionTreeRegressor(random_state=42)</pre><b>In a Jupyter environment, please rerun this cell to show the HTML representation or trust the notebook. <br />On GitHub, the HTML representation is unable to render, please try loading this page with nbviewer.org.</b></div><div class=\"sk-container\" hidden><div class=\"sk-item\"><div class=\"sk-estimator sk-toggleable\"><input class=\"sk-toggleable__control sk-hidden--visually\" id=\"sk-estimator-id-9\" type=\"checkbox\" checked><label for=\"sk-estimator-id-9\" class=\"sk-toggleable__label sk-toggleable__label-arrow\">DecisionTreeRegressor</label><div class=\"sk-toggleable__content\"><pre>DecisionTreeRegressor(random_state=42)</pre></div></div></div></div></div>"
            ]
          },
          "metadata": {},
          "execution_count": 67
        }
      ]
    },
    {
      "cell_type": "code",
      "source": [
        "y_pred_dt = dt_model.predict(X_test)"
      ],
      "metadata": {
        "id": "GE6VeypCaWEo"
      },
      "execution_count": 68,
      "outputs": []
    },
    {
      "cell_type": "code",
      "source": [
        "mse_dt = mean_squared_error(y_test, y_pred_dt)\n",
        "rmse_dt = np.sqrt(mse_dt)\n",
        "r2_dt = r2_score(y_test, y_pred_dt)\n",
        "\n",
        "print(\"Mean Squared Error:\", mse_dt)\n",
        "print(\"RMSE:\", rmse_dt)\n",
        "print(\"R-squared:\", r2_dt)"
      ],
      "metadata": {
        "colab": {
          "base_uri": "https://localhost:8080/"
        },
        "id": "M0kxBP1JaW-j",
        "outputId": "629de88f-c848-447f-d7c2-584e37946edb"
      },
      "execution_count": 69,
      "outputs": [
        {
          "output_type": "stream",
          "name": "stdout",
          "text": [
            "Mean Squared Error: 133.1459722222222\n",
            "RMSE: 11.538889557588382\n",
            "R-squared: -0.2796652704026743\n"
          ]
        }
      ]
    },
    {
      "cell_type": "code",
      "source": [
        "joblib.dump(linear_model, 'decisionTree.joblib')"
      ],
      "metadata": {
        "colab": {
          "base_uri": "https://localhost:8080/"
        },
        "id": "OM8VBpL9aa9B",
        "outputId": "256a5889-f546-4f93-aed6-9d1350291fe0"
      },
      "execution_count": 70,
      "outputs": [
        {
          "output_type": "execute_result",
          "data": {
            "text/plain": [
              "['decisionTree.joblib']"
            ]
          },
          "metadata": {},
          "execution_count": 70
        }
      ]
    },
    {
      "cell_type": "code",
      "source": [
        "for actual, predicted in zip(np.array(y_test)[:100], y_pred_dt[:100]):\n",
        "    print(f'Actual: {actual}, Predicted: {predicted:.2f}')"
      ],
      "metadata": {
        "colab": {
          "base_uri": "https://localhost:8080/"
        },
        "id": "A5G9QmvScD7q",
        "outputId": "25064a0a-12d3-4694-a2f2-3e455e52c5c4"
      },
      "execution_count": 94,
      "outputs": [
        {
          "output_type": "stream",
          "name": "stdout",
          "text": [
            "Actual: 35.5, Predicted: 26.00\n",
            "Actual: 35.5, Predicted: 26.00\n",
            "Actual: 35.5, Predicted: 26.00\n",
            "Actual: 35.5, Predicted: 18.00\n",
            "Actual: 35.5, Predicted: 18.00\n",
            "Actual: 35.5, Predicted: 18.00\n",
            "Actual: 35.5, Predicted: 14.00\n",
            "Actual: 35.5, Predicted: 26.00\n",
            "Actual: 35.5, Predicted: 18.00\n",
            "Actual: 35.5, Predicted: 26.00\n",
            "Actual: 35.5, Predicted: 26.00\n",
            "Actual: 35.5, Predicted: 26.00\n",
            "Actual: 35.5, Predicted: 18.00\n",
            "Actual: 35.5, Predicted: 18.00\n",
            "Actual: 35.5, Predicted: 26.00\n",
            "Actual: 35.5, Predicted: 18.00\n",
            "Actual: 35.5, Predicted: 18.00\n",
            "Actual: 35.5, Predicted: 26.00\n",
            "Actual: 35.5, Predicted: 18.00\n",
            "Actual: 35.5, Predicted: 18.00\n",
            "Actual: 11.0, Predicted: 18.00\n",
            "Actual: 11.0, Predicted: 18.00\n",
            "Actual: 11.0, Predicted: 31.00\n",
            "Actual: 11.0, Predicted: 17.00\n",
            "Actual: 11.0, Predicted: 31.00\n",
            "Actual: 11.0, Predicted: 15.50\n",
            "Actual: 11.0, Predicted: 15.00\n",
            "Actual: 11.0, Predicted: 13.00\n",
            "Actual: 11.0, Predicted: 15.00\n",
            "Actual: 11.0, Predicted: 13.00\n",
            "Actual: 11.0, Predicted: 17.00\n",
            "Actual: 11.0, Predicted: 18.00\n",
            "Actual: 11.0, Predicted: 18.00\n",
            "Actual: 11.0, Predicted: 15.50\n",
            "Actual: 11.0, Predicted: 15.50\n",
            "Actual: 11.0, Predicted: 15.50\n",
            "Actual: 11.0, Predicted: 15.50\n",
            "Actual: 11.0, Predicted: 15.50\n",
            "Actual: 11.0, Predicted: 31.00\n",
            "Actual: 11.0, Predicted: 18.00\n",
            "Actual: 24.0, Predicted: 24.00\n",
            "Actual: 24.0, Predicted: 16.50\n",
            "Actual: 24.0, Predicted: 16.50\n",
            "Actual: 24.0, Predicted: 16.50\n",
            "Actual: 24.0, Predicted: 16.00\n",
            "Actual: 24.0, Predicted: 16.50\n",
            "Actual: 24.0, Predicted: 30.00\n",
            "Actual: 24.0, Predicted: 24.00\n",
            "Actual: 24.0, Predicted: 16.50\n",
            "Actual: 24.0, Predicted: 16.50\n",
            "Actual: 24.0, Predicted: 16.50\n",
            "Actual: 24.0, Predicted: 16.50\n",
            "Actual: 24.0, Predicted: 16.50\n",
            "Actual: 24.0, Predicted: 16.00\n",
            "Actual: 24.0, Predicted: 16.50\n",
            "Actual: 24.0, Predicted: 16.50\n",
            "Actual: 24.0, Predicted: 30.00\n",
            "Actual: 24.0, Predicted: 16.50\n",
            "Actual: 24.0, Predicted: 16.50\n",
            "Actual: 24.0, Predicted: 16.50\n",
            "Actual: 19.0, Predicted: 18.00\n",
            "Actual: 19.0, Predicted: 18.00\n",
            "Actual: 19.0, Predicted: 18.00\n",
            "Actual: 19.0, Predicted: 29.00\n",
            "Actual: 19.0, Predicted: 29.00\n",
            "Actual: 19.0, Predicted: 18.00\n",
            "Actual: 19.0, Predicted: 29.00\n",
            "Actual: 19.0, Predicted: 18.00\n",
            "Actual: 19.0, Predicted: 32.00\n",
            "Actual: 19.0, Predicted: 32.00\n",
            "Actual: 19.0, Predicted: 18.00\n",
            "Actual: 19.0, Predicted: 18.00\n",
            "Actual: 19.0, Predicted: 18.00\n",
            "Actual: 19.0, Predicted: 29.00\n",
            "Actual: 19.0, Predicted: 18.00\n",
            "Actual: 19.0, Predicted: 32.00\n",
            "Actual: 19.0, Predicted: 29.00\n",
            "Actual: 19.0, Predicted: 32.00\n",
            "Actual: 19.0, Predicted: 18.00\n",
            "Actual: 19.0, Predicted: 18.00\n",
            "Actual: 37.0, Predicted: 27.50\n",
            "Actual: 37.0, Predicted: 27.50\n",
            "Actual: 37.0, Predicted: 27.50\n",
            "Actual: 37.0, Predicted: 27.50\n",
            "Actual: 37.0, Predicted: 27.50\n",
            "Actual: 37.0, Predicted: 27.50\n",
            "Actual: 37.0, Predicted: 27.50\n",
            "Actual: 37.0, Predicted: 27.50\n",
            "Actual: 37.0, Predicted: 27.50\n",
            "Actual: 37.0, Predicted: 27.50\n",
            "Actual: 37.0, Predicted: 27.50\n",
            "Actual: 37.0, Predicted: 27.50\n",
            "Actual: 37.0, Predicted: 27.50\n",
            "Actual: 37.0, Predicted: 27.50\n",
            "Actual: 37.0, Predicted: 27.50\n",
            "Actual: 37.0, Predicted: 27.50\n",
            "Actual: 37.0, Predicted: 27.50\n",
            "Actual: 37.0, Predicted: 42.00\n",
            "Actual: 37.0, Predicted: 27.50\n",
            "Actual: 37.0, Predicted: 41.00\n"
          ]
        }
      ]
    },
    {
      "cell_type": "markdown",
      "source": [
        "##Bagging Regressor\n",
        "* Mean Squared Error: 122.08077627306739\n",
        "* RMSE: 11.049016982205584\n",
        "* R-squared: -0.1733177277019382"
      ],
      "metadata": {
        "id": "o6dEiy3SanNi"
      }
    },
    {
      "cell_type": "code",
      "source": [
        "from sklearn.ensemble import BaggingRegressor"
      ],
      "metadata": {
        "id": "bRafdSdyafC_"
      },
      "execution_count": 95,
      "outputs": []
    },
    {
      "cell_type": "code",
      "source": [
        "bagging_model = BaggingRegressor(base_estimator=DecisionTreeRegressor(), n_estimators=100, random_state=42)\n"
      ],
      "metadata": {
        "id": "nirMDm3qcKZ2"
      },
      "execution_count": 96,
      "outputs": []
    },
    {
      "cell_type": "code",
      "source": [
        "bagging_model.fit(X_train, y_train)"
      ],
      "metadata": {
        "colab": {
          "base_uri": "https://localhost:8080/",
          "height": 174
        },
        "id": "6_Bc77g1cLxk",
        "outputId": "8909d909-960c-449a-88e6-4e8bd77a0cea"
      },
      "execution_count": 97,
      "outputs": [
        {
          "output_type": "stream",
          "name": "stderr",
          "text": [
            "/usr/local/lib/python3.10/dist-packages/sklearn/ensemble/_base.py:166: FutureWarning: `base_estimator` was renamed to `estimator` in version 1.2 and will be removed in 1.4.\n",
            "  warnings.warn(\n"
          ]
        },
        {
          "output_type": "execute_result",
          "data": {
            "text/plain": [
              "BaggingRegressor(base_estimator=DecisionTreeRegressor(), n_estimators=100,\n",
              "                 random_state=42)"
            ],
            "text/html": [
              "<style>#sk-container-id-12 {color: black;background-color: white;}#sk-container-id-12 pre{padding: 0;}#sk-container-id-12 div.sk-toggleable {background-color: white;}#sk-container-id-12 label.sk-toggleable__label {cursor: pointer;display: block;width: 100%;margin-bottom: 0;padding: 0.3em;box-sizing: border-box;text-align: center;}#sk-container-id-12 label.sk-toggleable__label-arrow:before {content: \"▸\";float: left;margin-right: 0.25em;color: #696969;}#sk-container-id-12 label.sk-toggleable__label-arrow:hover:before {color: black;}#sk-container-id-12 div.sk-estimator:hover label.sk-toggleable__label-arrow:before {color: black;}#sk-container-id-12 div.sk-toggleable__content {max-height: 0;max-width: 0;overflow: hidden;text-align: left;background-color: #f0f8ff;}#sk-container-id-12 div.sk-toggleable__content pre {margin: 0.2em;color: black;border-radius: 0.25em;background-color: #f0f8ff;}#sk-container-id-12 input.sk-toggleable__control:checked~div.sk-toggleable__content {max-height: 200px;max-width: 100%;overflow: auto;}#sk-container-id-12 input.sk-toggleable__control:checked~label.sk-toggleable__label-arrow:before {content: \"▾\";}#sk-container-id-12 div.sk-estimator input.sk-toggleable__control:checked~label.sk-toggleable__label {background-color: #d4ebff;}#sk-container-id-12 div.sk-label input.sk-toggleable__control:checked~label.sk-toggleable__label {background-color: #d4ebff;}#sk-container-id-12 input.sk-hidden--visually {border: 0;clip: rect(1px 1px 1px 1px);clip: rect(1px, 1px, 1px, 1px);height: 1px;margin: -1px;overflow: hidden;padding: 0;position: absolute;width: 1px;}#sk-container-id-12 div.sk-estimator {font-family: monospace;background-color: #f0f8ff;border: 1px dotted black;border-radius: 0.25em;box-sizing: border-box;margin-bottom: 0.5em;}#sk-container-id-12 div.sk-estimator:hover {background-color: #d4ebff;}#sk-container-id-12 div.sk-parallel-item::after {content: \"\";width: 100%;border-bottom: 1px solid gray;flex-grow: 1;}#sk-container-id-12 div.sk-label:hover label.sk-toggleable__label {background-color: #d4ebff;}#sk-container-id-12 div.sk-serial::before {content: \"\";position: absolute;border-left: 1px solid gray;box-sizing: border-box;top: 0;bottom: 0;left: 50%;z-index: 0;}#sk-container-id-12 div.sk-serial {display: flex;flex-direction: column;align-items: center;background-color: white;padding-right: 0.2em;padding-left: 0.2em;position: relative;}#sk-container-id-12 div.sk-item {position: relative;z-index: 1;}#sk-container-id-12 div.sk-parallel {display: flex;align-items: stretch;justify-content: center;background-color: white;position: relative;}#sk-container-id-12 div.sk-item::before, #sk-container-id-12 div.sk-parallel-item::before {content: \"\";position: absolute;border-left: 1px solid gray;box-sizing: border-box;top: 0;bottom: 0;left: 50%;z-index: -1;}#sk-container-id-12 div.sk-parallel-item {display: flex;flex-direction: column;z-index: 1;position: relative;background-color: white;}#sk-container-id-12 div.sk-parallel-item:first-child::after {align-self: flex-end;width: 50%;}#sk-container-id-12 div.sk-parallel-item:last-child::after {align-self: flex-start;width: 50%;}#sk-container-id-12 div.sk-parallel-item:only-child::after {width: 0;}#sk-container-id-12 div.sk-dashed-wrapped {border: 1px dashed gray;margin: 0 0.4em 0.5em 0.4em;box-sizing: border-box;padding-bottom: 0.4em;background-color: white;}#sk-container-id-12 div.sk-label label {font-family: monospace;font-weight: bold;display: inline-block;line-height: 1.2em;}#sk-container-id-12 div.sk-label-container {text-align: center;}#sk-container-id-12 div.sk-container {/* jupyter's `normalize.less` sets `[hidden] { display: none; }` but bootstrap.min.css set `[hidden] { display: none !important; }` so we also need the `!important` here to be able to override the default hidden behavior on the sphinx rendered scikit-learn.org. See: https://github.com/scikit-learn/scikit-learn/issues/21755 */display: inline-block !important;position: relative;}#sk-container-id-12 div.sk-text-repr-fallback {display: none;}</style><div id=\"sk-container-id-12\" class=\"sk-top-container\"><div class=\"sk-text-repr-fallback\"><pre>BaggingRegressor(base_estimator=DecisionTreeRegressor(), n_estimators=100,\n",
              "                 random_state=42)</pre><b>In a Jupyter environment, please rerun this cell to show the HTML representation or trust the notebook. <br />On GitHub, the HTML representation is unable to render, please try loading this page with nbviewer.org.</b></div><div class=\"sk-container\" hidden><div class=\"sk-item sk-dashed-wrapped\"><div class=\"sk-label-container\"><div class=\"sk-label sk-toggleable\"><input class=\"sk-toggleable__control sk-hidden--visually\" id=\"sk-estimator-id-12\" type=\"checkbox\" ><label for=\"sk-estimator-id-12\" class=\"sk-toggleable__label sk-toggleable__label-arrow\">BaggingRegressor</label><div class=\"sk-toggleable__content\"><pre>BaggingRegressor(base_estimator=DecisionTreeRegressor(), n_estimators=100,\n",
              "                 random_state=42)</pre></div></div></div><div class=\"sk-parallel\"><div class=\"sk-parallel-item\"><div class=\"sk-item\"><div class=\"sk-label-container\"><div class=\"sk-label sk-toggleable\"><input class=\"sk-toggleable__control sk-hidden--visually\" id=\"sk-estimator-id-13\" type=\"checkbox\" ><label for=\"sk-estimator-id-13\" class=\"sk-toggleable__label sk-toggleable__label-arrow\">base_estimator: DecisionTreeRegressor</label><div class=\"sk-toggleable__content\"><pre>DecisionTreeRegressor()</pre></div></div></div><div class=\"sk-serial\"><div class=\"sk-item\"><div class=\"sk-estimator sk-toggleable\"><input class=\"sk-toggleable__control sk-hidden--visually\" id=\"sk-estimator-id-14\" type=\"checkbox\" ><label for=\"sk-estimator-id-14\" class=\"sk-toggleable__label sk-toggleable__label-arrow\">DecisionTreeRegressor</label><div class=\"sk-toggleable__content\"><pre>DecisionTreeRegressor()</pre></div></div></div></div></div></div></div></div></div></div>"
            ]
          },
          "metadata": {},
          "execution_count": 97
        }
      ]
    },
    {
      "cell_type": "code",
      "source": [
        "y_pred_bagging = bagging_model.predict(X_test)\n"
      ],
      "metadata": {
        "id": "tdVCUFGHcNVB"
      },
      "execution_count": 98,
      "outputs": []
    },
    {
      "cell_type": "code",
      "source": [
        "mse_bagging = mean_squared_error(y_test, y_pred_bagging)\n",
        "rmse_bagging = np.sqrt(mse_bagging)\n",
        "r2_bagging = r2_score(y_test, y_pred_bagging)\n",
        "\n",
        "print(\"Mean Squared Error:\", mse_bagging)\n",
        "print(\"RMSE:\", rmse_bagging)\n",
        "print(\"R-squared:\", r2_bagging)"
      ],
      "metadata": {
        "colab": {
          "base_uri": "https://localhost:8080/"
        },
        "id": "RfV0XJypcOu9",
        "outputId": "782586b8-1bb2-4157-f26c-c17e2f9bb406"
      },
      "execution_count": 99,
      "outputs": [
        {
          "output_type": "stream",
          "name": "stdout",
          "text": [
            "Mean Squared Error: 122.08077627306739\n",
            "RMSE: 11.049016982205584\n",
            "R-squared: -0.1733177277019382\n"
          ]
        }
      ]
    },
    {
      "cell_type": "code",
      "source": [
        "joblib.dump(bagging_model, 'baggingRegressor.joblib')"
      ],
      "metadata": {
        "colab": {
          "base_uri": "https://localhost:8080/"
        },
        "id": "86StnSCkc-ZO",
        "outputId": "87d1a31f-89c2-4354-a3bb-4e43debec54b"
      },
      "execution_count": 106,
      "outputs": [
        {
          "output_type": "execute_result",
          "data": {
            "text/plain": [
              "['baggingRegressor.joblib']"
            ]
          },
          "metadata": {},
          "execution_count": 106
        }
      ]
    },
    {
      "cell_type": "code",
      "source": [
        "for actual, predicted in zip(np.array(y_test)[:100], y_pred_bagging[:100]):\n",
        "    print(f'Actual: {actual}, Predicted: {predicted:.2f}')"
      ],
      "metadata": {
        "colab": {
          "base_uri": "https://localhost:8080/"
        },
        "id": "ve076WcAcnEY",
        "outputId": "bc113b12-6d9c-4899-9e5d-7c73238f8d98"
      },
      "execution_count": 100,
      "outputs": [
        {
          "output_type": "stream",
          "name": "stdout",
          "text": [
            "Actual: 35.5, Predicted: 25.32\n",
            "Actual: 35.5, Predicted: 23.61\n",
            "Actual: 35.5, Predicted: 23.22\n",
            "Actual: 35.5, Predicted: 21.91\n",
            "Actual: 35.5, Predicted: 23.53\n",
            "Actual: 35.5, Predicted: 21.91\n",
            "Actual: 35.5, Predicted: 22.29\n",
            "Actual: 35.5, Predicted: 25.82\n",
            "Actual: 35.5, Predicted: 19.57\n",
            "Actual: 35.5, Predicted: 25.32\n",
            "Actual: 35.5, Predicted: 25.66\n",
            "Actual: 35.5, Predicted: 25.91\n",
            "Actual: 35.5, Predicted: 24.29\n",
            "Actual: 35.5, Predicted: 24.54\n",
            "Actual: 35.5, Predicted: 24.43\n",
            "Actual: 35.5, Predicted: 24.72\n",
            "Actual: 35.5, Predicted: 24.13\n",
            "Actual: 35.5, Predicted: 24.67\n",
            "Actual: 35.5, Predicted: 21.91\n",
            "Actual: 35.5, Predicted: 23.80\n",
            "Actual: 11.0, Predicted: 18.22\n",
            "Actual: 11.0, Predicted: 17.61\n",
            "Actual: 11.0, Predicted: 30.65\n",
            "Actual: 11.0, Predicted: 16.86\n",
            "Actual: 11.0, Predicted: 31.00\n",
            "Actual: 11.0, Predicted: 19.89\n",
            "Actual: 11.0, Predicted: 14.03\n",
            "Actual: 11.0, Predicted: 13.55\n",
            "Actual: 11.0, Predicted: 14.98\n",
            "Actual: 11.0, Predicted: 13.12\n",
            "Actual: 11.0, Predicted: 16.76\n",
            "Actual: 11.0, Predicted: 17.95\n",
            "Actual: 11.0, Predicted: 17.90\n",
            "Actual: 11.0, Predicted: 19.91\n",
            "Actual: 11.0, Predicted: 17.45\n",
            "Actual: 11.0, Predicted: 16.76\n",
            "Actual: 11.0, Predicted: 15.49\n",
            "Actual: 11.0, Predicted: 19.17\n",
            "Actual: 11.0, Predicted: 31.00\n",
            "Actual: 11.0, Predicted: 17.95\n",
            "Actual: 24.0, Predicted: 22.59\n",
            "Actual: 24.0, Predicted: 16.51\n",
            "Actual: 24.0, Predicted: 17.04\n",
            "Actual: 24.0, Predicted: 16.64\n",
            "Actual: 24.0, Predicted: 16.14\n",
            "Actual: 24.0, Predicted: 16.46\n",
            "Actual: 24.0, Predicted: 28.89\n",
            "Actual: 24.0, Predicted: 21.91\n",
            "Actual: 24.0, Predicted: 16.43\n",
            "Actual: 24.0, Predicted: 16.53\n",
            "Actual: 24.0, Predicted: 16.54\n",
            "Actual: 24.0, Predicted: 16.52\n",
            "Actual: 24.0, Predicted: 16.51\n",
            "Actual: 24.0, Predicted: 25.29\n",
            "Actual: 24.0, Predicted: 16.53\n",
            "Actual: 24.0, Predicted: 16.37\n",
            "Actual: 24.0, Predicted: 29.38\n",
            "Actual: 24.0, Predicted: 16.51\n",
            "Actual: 24.0, Predicted: 16.48\n",
            "Actual: 24.0, Predicted: 16.53\n",
            "Actual: 19.0, Predicted: 26.46\n",
            "Actual: 19.0, Predicted: 29.03\n",
            "Actual: 19.0, Predicted: 25.75\n",
            "Actual: 19.0, Predicted: 28.21\n",
            "Actual: 19.0, Predicted: 28.73\n",
            "Actual: 19.0, Predicted: 24.64\n",
            "Actual: 19.0, Predicted: 28.34\n",
            "Actual: 19.0, Predicted: 22.52\n",
            "Actual: 19.0, Predicted: 28.43\n",
            "Actual: 19.0, Predicted: 29.14\n",
            "Actual: 19.0, Predicted: 29.70\n",
            "Actual: 19.0, Predicted: 25.98\n",
            "Actual: 19.0, Predicted: 22.65\n",
            "Actual: 19.0, Predicted: 29.24\n",
            "Actual: 19.0, Predicted: 24.64\n",
            "Actual: 19.0, Predicted: 28.43\n",
            "Actual: 19.0, Predicted: 28.73\n",
            "Actual: 19.0, Predicted: 28.79\n",
            "Actual: 19.0, Predicted: 26.56\n",
            "Actual: 19.0, Predicted: 24.78\n",
            "Actual: 37.0, Predicted: 28.96\n",
            "Actual: 37.0, Predicted: 27.97\n",
            "Actual: 37.0, Predicted: 28.51\n",
            "Actual: 37.0, Predicted: 27.50\n",
            "Actual: 37.0, Predicted: 27.90\n",
            "Actual: 37.0, Predicted: 28.25\n",
            "Actual: 37.0, Predicted: 28.95\n",
            "Actual: 37.0, Predicted: 28.25\n",
            "Actual: 37.0, Predicted: 28.71\n",
            "Actual: 37.0, Predicted: 29.20\n",
            "Actual: 37.0, Predicted: 29.20\n",
            "Actual: 37.0, Predicted: 27.43\n",
            "Actual: 37.0, Predicted: 28.40\n",
            "Actual: 37.0, Predicted: 27.50\n",
            "Actual: 37.0, Predicted: 27.50\n",
            "Actual: 37.0, Predicted: 29.58\n",
            "Actual: 37.0, Predicted: 29.15\n",
            "Actual: 37.0, Predicted: 41.73\n",
            "Actual: 37.0, Predicted: 27.43\n",
            "Actual: 37.0, Predicted: 41.02\n"
          ]
        }
      ]
    },
    {
      "cell_type": "markdown",
      "source": [
        "##AdaBoost\n",
        "* Mean Squared Error: 116.54951986241173\n",
        "* RMSE: 10.795810292072186\n",
        "* R-squared: -0.12015685011568511"
      ],
      "metadata": {
        "id": "lREszemScZUQ"
      }
    },
    {
      "cell_type": "code",
      "source": [
        "from sklearn.ensemble import AdaBoostRegressor"
      ],
      "metadata": {
        "id": "dr50MgwBcTNK"
      },
      "execution_count": 101,
      "outputs": []
    },
    {
      "cell_type": "code",
      "source": [
        "adaboost_model = AdaBoostRegressor(base_estimator=DecisionTreeRegressor(), n_estimators=100, random_state=42)\n",
        "\n",
        "adaboost_model.fit(X_train, y_train)\n"
      ],
      "metadata": {
        "colab": {
          "base_uri": "https://localhost:8080/",
          "height": 174
        },
        "id": "tiD1IMmLcuE2",
        "outputId": "3b69af38-7e96-4cb4-f27c-57209c6c7d30"
      },
      "execution_count": 102,
      "outputs": [
        {
          "output_type": "stream",
          "name": "stderr",
          "text": [
            "/usr/local/lib/python3.10/dist-packages/sklearn/ensemble/_base.py:166: FutureWarning: `base_estimator` was renamed to `estimator` in version 1.2 and will be removed in 1.4.\n",
            "  warnings.warn(\n"
          ]
        },
        {
          "output_type": "execute_result",
          "data": {
            "text/plain": [
              "AdaBoostRegressor(base_estimator=DecisionTreeRegressor(), n_estimators=100,\n",
              "                  random_state=42)"
            ],
            "text/html": [
              "<style>#sk-container-id-13 {color: black;background-color: white;}#sk-container-id-13 pre{padding: 0;}#sk-container-id-13 div.sk-toggleable {background-color: white;}#sk-container-id-13 label.sk-toggleable__label {cursor: pointer;display: block;width: 100%;margin-bottom: 0;padding: 0.3em;box-sizing: border-box;text-align: center;}#sk-container-id-13 label.sk-toggleable__label-arrow:before {content: \"▸\";float: left;margin-right: 0.25em;color: #696969;}#sk-container-id-13 label.sk-toggleable__label-arrow:hover:before {color: black;}#sk-container-id-13 div.sk-estimator:hover label.sk-toggleable__label-arrow:before {color: black;}#sk-container-id-13 div.sk-toggleable__content {max-height: 0;max-width: 0;overflow: hidden;text-align: left;background-color: #f0f8ff;}#sk-container-id-13 div.sk-toggleable__content pre {margin: 0.2em;color: black;border-radius: 0.25em;background-color: #f0f8ff;}#sk-container-id-13 input.sk-toggleable__control:checked~div.sk-toggleable__content {max-height: 200px;max-width: 100%;overflow: auto;}#sk-container-id-13 input.sk-toggleable__control:checked~label.sk-toggleable__label-arrow:before {content: \"▾\";}#sk-container-id-13 div.sk-estimator input.sk-toggleable__control:checked~label.sk-toggleable__label {background-color: #d4ebff;}#sk-container-id-13 div.sk-label input.sk-toggleable__control:checked~label.sk-toggleable__label {background-color: #d4ebff;}#sk-container-id-13 input.sk-hidden--visually {border: 0;clip: rect(1px 1px 1px 1px);clip: rect(1px, 1px, 1px, 1px);height: 1px;margin: -1px;overflow: hidden;padding: 0;position: absolute;width: 1px;}#sk-container-id-13 div.sk-estimator {font-family: monospace;background-color: #f0f8ff;border: 1px dotted black;border-radius: 0.25em;box-sizing: border-box;margin-bottom: 0.5em;}#sk-container-id-13 div.sk-estimator:hover {background-color: #d4ebff;}#sk-container-id-13 div.sk-parallel-item::after {content: \"\";width: 100%;border-bottom: 1px solid gray;flex-grow: 1;}#sk-container-id-13 div.sk-label:hover label.sk-toggleable__label {background-color: #d4ebff;}#sk-container-id-13 div.sk-serial::before {content: \"\";position: absolute;border-left: 1px solid gray;box-sizing: border-box;top: 0;bottom: 0;left: 50%;z-index: 0;}#sk-container-id-13 div.sk-serial {display: flex;flex-direction: column;align-items: center;background-color: white;padding-right: 0.2em;padding-left: 0.2em;position: relative;}#sk-container-id-13 div.sk-item {position: relative;z-index: 1;}#sk-container-id-13 div.sk-parallel {display: flex;align-items: stretch;justify-content: center;background-color: white;position: relative;}#sk-container-id-13 div.sk-item::before, #sk-container-id-13 div.sk-parallel-item::before {content: \"\";position: absolute;border-left: 1px solid gray;box-sizing: border-box;top: 0;bottom: 0;left: 50%;z-index: -1;}#sk-container-id-13 div.sk-parallel-item {display: flex;flex-direction: column;z-index: 1;position: relative;background-color: white;}#sk-container-id-13 div.sk-parallel-item:first-child::after {align-self: flex-end;width: 50%;}#sk-container-id-13 div.sk-parallel-item:last-child::after {align-self: flex-start;width: 50%;}#sk-container-id-13 div.sk-parallel-item:only-child::after {width: 0;}#sk-container-id-13 div.sk-dashed-wrapped {border: 1px dashed gray;margin: 0 0.4em 0.5em 0.4em;box-sizing: border-box;padding-bottom: 0.4em;background-color: white;}#sk-container-id-13 div.sk-label label {font-family: monospace;font-weight: bold;display: inline-block;line-height: 1.2em;}#sk-container-id-13 div.sk-label-container {text-align: center;}#sk-container-id-13 div.sk-container {/* jupyter's `normalize.less` sets `[hidden] { display: none; }` but bootstrap.min.css set `[hidden] { display: none !important; }` so we also need the `!important` here to be able to override the default hidden behavior on the sphinx rendered scikit-learn.org. See: https://github.com/scikit-learn/scikit-learn/issues/21755 */display: inline-block !important;position: relative;}#sk-container-id-13 div.sk-text-repr-fallback {display: none;}</style><div id=\"sk-container-id-13\" class=\"sk-top-container\"><div class=\"sk-text-repr-fallback\"><pre>AdaBoostRegressor(base_estimator=DecisionTreeRegressor(), n_estimators=100,\n",
              "                  random_state=42)</pre><b>In a Jupyter environment, please rerun this cell to show the HTML representation or trust the notebook. <br />On GitHub, the HTML representation is unable to render, please try loading this page with nbviewer.org.</b></div><div class=\"sk-container\" hidden><div class=\"sk-item sk-dashed-wrapped\"><div class=\"sk-label-container\"><div class=\"sk-label sk-toggleable\"><input class=\"sk-toggleable__control sk-hidden--visually\" id=\"sk-estimator-id-15\" type=\"checkbox\" ><label for=\"sk-estimator-id-15\" class=\"sk-toggleable__label sk-toggleable__label-arrow\">AdaBoostRegressor</label><div class=\"sk-toggleable__content\"><pre>AdaBoostRegressor(base_estimator=DecisionTreeRegressor(), n_estimators=100,\n",
              "                  random_state=42)</pre></div></div></div><div class=\"sk-parallel\"><div class=\"sk-parallel-item\"><div class=\"sk-item\"><div class=\"sk-label-container\"><div class=\"sk-label sk-toggleable\"><input class=\"sk-toggleable__control sk-hidden--visually\" id=\"sk-estimator-id-16\" type=\"checkbox\" ><label for=\"sk-estimator-id-16\" class=\"sk-toggleable__label sk-toggleable__label-arrow\">base_estimator: DecisionTreeRegressor</label><div class=\"sk-toggleable__content\"><pre>DecisionTreeRegressor()</pre></div></div></div><div class=\"sk-serial\"><div class=\"sk-item\"><div class=\"sk-estimator sk-toggleable\"><input class=\"sk-toggleable__control sk-hidden--visually\" id=\"sk-estimator-id-17\" type=\"checkbox\" ><label for=\"sk-estimator-id-17\" class=\"sk-toggleable__label sk-toggleable__label-arrow\">DecisionTreeRegressor</label><div class=\"sk-toggleable__content\"><pre>DecisionTreeRegressor()</pre></div></div></div></div></div></div></div></div></div></div>"
            ]
          },
          "metadata": {},
          "execution_count": 102
        }
      ]
    },
    {
      "cell_type": "code",
      "source": [
        "y_pred_adaboost = adaboost_model.predict(X_test)\n"
      ],
      "metadata": {
        "id": "lHBC8_Jecwlz"
      },
      "execution_count": 103,
      "outputs": []
    },
    {
      "cell_type": "code",
      "source": [
        "mse_adaboost = mean_squared_error(y_test, y_pred_adaboost)\n",
        "rmse_adaboost = np.sqrt(mse_adaboost)\n",
        "r2_adaboost = r2_score(y_test, y_pred_adaboost)\n",
        "\n",
        "print(\"Mean Squared Error:\", mse_adaboost)\n",
        "print(\"RMSE:\", rmse_adaboost)\n",
        "print(\"R-squared:\", r2_adaboost)"
      ],
      "metadata": {
        "colab": {
          "base_uri": "https://localhost:8080/"
        },
        "id": "kVCms0n_cxiu",
        "outputId": "605c2de3-6fde-4524-bb97-a85e0b09ff0d"
      },
      "execution_count": 104,
      "outputs": [
        {
          "output_type": "stream",
          "name": "stdout",
          "text": [
            "Mean Squared Error: 116.54951986241173\n",
            "RMSE: 10.795810292072186\n",
            "R-squared: -0.12015685011568511\n"
          ]
        }
      ]
    },
    {
      "cell_type": "code",
      "source": [
        "joblib.dump(adaboost_model, 'adaBoost.joblib')"
      ],
      "metadata": {
        "colab": {
          "base_uri": "https://localhost:8080/"
        },
        "id": "-nMGn0zRc4F8",
        "outputId": "178b1bff-7e4e-46f4-9bcb-a1dbcdd7b952"
      },
      "execution_count": 105,
      "outputs": [
        {
          "output_type": "execute_result",
          "data": {
            "text/plain": [
              "['adaBoost.joblib']"
            ]
          },
          "metadata": {},
          "execution_count": 105
        }
      ]
    },
    {
      "cell_type": "code",
      "source": [
        "for actual, predicted in zip(np.array(y_test)[:100], y_pred_adaboost[:100]):\n",
        "    print(f'Actual: {actual}, Predicted: {predicted:.2f}')"
      ],
      "metadata": {
        "colab": {
          "base_uri": "https://localhost:8080/"
        },
        "id": "pjw83lmmc9VE",
        "outputId": "14c1b1e6-0fdf-48dd-e3d0-2f1258fc4422"
      },
      "execution_count": 107,
      "outputs": [
        {
          "output_type": "stream",
          "name": "stdout",
          "text": [
            "Actual: 35.5, Predicted: 26.00\n",
            "Actual: 35.5, Predicted: 24.36\n",
            "Actual: 35.5, Predicted: 23.33\n",
            "Actual: 35.5, Predicted: 21.75\n",
            "Actual: 35.5, Predicted: 26.00\n",
            "Actual: 35.5, Predicted: 21.75\n",
            "Actual: 35.5, Predicted: 21.75\n",
            "Actual: 35.5, Predicted: 26.00\n",
            "Actual: 35.5, Predicted: 19.00\n",
            "Actual: 35.5, Predicted: 26.00\n",
            "Actual: 35.5, Predicted: 26.00\n",
            "Actual: 35.5, Predicted: 26.00\n",
            "Actual: 35.5, Predicted: 26.00\n",
            "Actual: 35.5, Predicted: 26.00\n",
            "Actual: 35.5, Predicted: 25.00\n",
            "Actual: 35.5, Predicted: 24.80\n",
            "Actual: 35.5, Predicted: 26.00\n",
            "Actual: 35.5, Predicted: 26.00\n",
            "Actual: 35.5, Predicted: 21.75\n",
            "Actual: 35.5, Predicted: 26.00\n",
            "Actual: 11.0, Predicted: 18.00\n",
            "Actual: 11.0, Predicted: 18.00\n",
            "Actual: 11.0, Predicted: 24.80\n",
            "Actual: 11.0, Predicted: 18.60\n",
            "Actual: 11.0, Predicted: 27.12\n",
            "Actual: 11.0, Predicted: 22.06\n",
            "Actual: 11.0, Predicted: 15.50\n",
            "Actual: 11.0, Predicted: 16.00\n",
            "Actual: 11.0, Predicted: 15.50\n",
            "Actual: 11.0, Predicted: 15.50\n",
            "Actual: 11.0, Predicted: 18.00\n",
            "Actual: 11.0, Predicted: 21.75\n",
            "Actual: 11.0, Predicted: 21.50\n",
            "Actual: 11.0, Predicted: 22.28\n",
            "Actual: 11.0, Predicted: 20.67\n",
            "Actual: 11.0, Predicted: 22.14\n",
            "Actual: 11.0, Predicted: 18.60\n",
            "Actual: 11.0, Predicted: 22.73\n",
            "Actual: 11.0, Predicted: 26.23\n",
            "Actual: 11.0, Predicted: 21.75\n",
            "Actual: 24.0, Predicted: 21.60\n",
            "Actual: 24.0, Predicted: 17.00\n",
            "Actual: 24.0, Predicted: 19.00\n",
            "Actual: 24.0, Predicted: 19.50\n",
            "Actual: 24.0, Predicted: 17.50\n",
            "Actual: 24.0, Predicted: 17.50\n",
            "Actual: 24.0, Predicted: 24.00\n",
            "Actual: 24.0, Predicted: 21.60\n",
            "Actual: 24.0, Predicted: 17.00\n",
            "Actual: 24.0, Predicted: 18.00\n",
            "Actual: 24.0, Predicted: 18.00\n",
            "Actual: 24.0, Predicted: 17.00\n",
            "Actual: 24.0, Predicted: 17.00\n",
            "Actual: 24.0, Predicted: 23.50\n",
            "Actual: 24.0, Predicted: 18.00\n",
            "Actual: 24.0, Predicted: 18.00\n",
            "Actual: 24.0, Predicted: 24.40\n",
            "Actual: 24.0, Predicted: 17.00\n",
            "Actual: 24.0, Predicted: 18.00\n",
            "Actual: 24.0, Predicted: 18.00\n",
            "Actual: 19.0, Predicted: 20.43\n",
            "Actual: 19.0, Predicted: 26.00\n",
            "Actual: 19.0, Predicted: 20.43\n",
            "Actual: 19.0, Predicted: 29.00\n",
            "Actual: 19.0, Predicted: 29.00\n",
            "Actual: 19.0, Predicted: 26.00\n",
            "Actual: 19.0, Predicted: 29.00\n",
            "Actual: 19.0, Predicted: 21.31\n",
            "Actual: 19.0, Predicted: 29.00\n",
            "Actual: 19.0, Predicted: 29.00\n",
            "Actual: 19.0, Predicted: 29.00\n",
            "Actual: 19.0, Predicted: 25.00\n",
            "Actual: 19.0, Predicted: 21.31\n",
            "Actual: 19.0, Predicted: 26.00\n",
            "Actual: 19.0, Predicted: 26.00\n",
            "Actual: 19.0, Predicted: 26.00\n",
            "Actual: 19.0, Predicted: 29.00\n",
            "Actual: 19.0, Predicted: 29.00\n",
            "Actual: 19.0, Predicted: 26.00\n",
            "Actual: 19.0, Predicted: 26.00\n",
            "Actual: 37.0, Predicted: 30.00\n",
            "Actual: 37.0, Predicted: 27.50\n",
            "Actual: 37.0, Predicted: 30.00\n",
            "Actual: 37.0, Predicted: 27.50\n",
            "Actual: 37.0, Predicted: 27.50\n",
            "Actual: 37.0, Predicted: 30.00\n",
            "Actual: 37.0, Predicted: 30.00\n",
            "Actual: 37.0, Predicted: 27.50\n",
            "Actual: 37.0, Predicted: 27.50\n",
            "Actual: 37.0, Predicted: 27.50\n",
            "Actual: 37.0, Predicted: 27.50\n",
            "Actual: 37.0, Predicted: 27.50\n",
            "Actual: 37.0, Predicted: 27.50\n",
            "Actual: 37.0, Predicted: 27.50\n",
            "Actual: 37.0, Predicted: 27.50\n",
            "Actual: 37.0, Predicted: 29.00\n",
            "Actual: 37.0, Predicted: 30.00\n",
            "Actual: 37.0, Predicted: 42.00\n",
            "Actual: 37.0, Predicted: 27.50\n",
            "Actual: 37.0, Predicted: 41.00\n"
          ]
        }
      ]
    },
    {
      "cell_type": "markdown",
      "source": [
        "##Recurrent Neural Networks (RNN)\n",
        "* Mean Squared Error: 106.02346795871703\n",
        "* RMSE: 10.296769782738519\n",
        "* R-squared: -0.01899101812842252"
      ],
      "metadata": {
        "id": "GkLmcZczdVd3"
      }
    },
    {
      "cell_type": "code",
      "source": [
        "from tensorflow.keras.layers import SimpleRNN"
      ],
      "metadata": {
        "id": "Y5gG0GvRdT1G"
      },
      "execution_count": 108,
      "outputs": []
    },
    {
      "cell_type": "code",
      "source": [
        "rnn_model = Sequential([\n",
        "    SimpleRNN(50, input_shape=(X_train_reshaped.shape[1], X_train_reshaped.shape[2]), activation='relu'),\n",
        "    Dense(1)\n",
        "])"
      ],
      "metadata": {
        "id": "Kq0eF58hdpAj"
      },
      "execution_count": 114,
      "outputs": []
    },
    {
      "cell_type": "code",
      "source": [
        "rnn_model.compile(optimizer=Adam(learning_rate=0.001), loss='mean_squared_error')\n"
      ],
      "metadata": {
        "id": "8Hy1L8UsdrX0"
      },
      "execution_count": 115,
      "outputs": []
    },
    {
      "cell_type": "code",
      "source": [
        "rnn_model.fit(X_train_reshaped, y_train, epochs=100, batch_size=32, validation_split=0.2, verbose=1)\n"
      ],
      "metadata": {
        "colab": {
          "base_uri": "https://localhost:8080/"
        },
        "id": "Bq37z1CMdsYa",
        "outputId": "2a3edc4a-5e07-46ab-da10-d2c58c41690a"
      },
      "execution_count": 116,
      "outputs": [
        {
          "output_type": "stream",
          "name": "stdout",
          "text": [
            "Epoch 1/100\n",
            "39/39 [==============================] - 2s 11ms/step - loss: 440.0395 - val_loss: 876.3811\n",
            "Epoch 2/100\n",
            "39/39 [==============================] - 0s 4ms/step - loss: 295.5131 - val_loss: 340.1958\n",
            "Epoch 3/100\n",
            "39/39 [==============================] - 0s 5ms/step - loss: 78.6423 - val_loss: 124.8910\n",
            "Epoch 4/100\n",
            "39/39 [==============================] - 0s 5ms/step - loss: 53.4635 - val_loss: 124.7990\n",
            "Epoch 5/100\n",
            "39/39 [==============================] - 0s 4ms/step - loss: 42.3466 - val_loss: 105.6662\n",
            "Epoch 6/100\n",
            "39/39 [==============================] - 0s 4ms/step - loss: 37.3163 - val_loss: 101.2412\n",
            "Epoch 7/100\n",
            "39/39 [==============================] - 0s 4ms/step - loss: 34.5791 - val_loss: 113.6825\n",
            "Epoch 8/100\n",
            "39/39 [==============================] - 0s 4ms/step - loss: 33.1544 - val_loss: 110.3489\n",
            "Epoch 9/100\n",
            "39/39 [==============================] - 0s 4ms/step - loss: 32.4662 - val_loss: 121.4870\n",
            "Epoch 10/100\n",
            "39/39 [==============================] - 0s 4ms/step - loss: 32.1428 - val_loss: 123.3823\n",
            "Epoch 11/100\n",
            "39/39 [==============================] - 0s 5ms/step - loss: 31.6822 - val_loss: 123.9099\n",
            "Epoch 12/100\n",
            "39/39 [==============================] - 0s 4ms/step - loss: 31.7485 - val_loss: 103.3635\n",
            "Epoch 13/100\n",
            "39/39 [==============================] - 0s 4ms/step - loss: 31.3852 - val_loss: 102.7098\n",
            "Epoch 14/100\n",
            "39/39 [==============================] - 0s 4ms/step - loss: 31.1661 - val_loss: 104.4207\n",
            "Epoch 15/100\n",
            "39/39 [==============================] - 0s 6ms/step - loss: 30.5726 - val_loss: 129.3719\n",
            "Epoch 16/100\n",
            "39/39 [==============================] - 0s 10ms/step - loss: 30.7498 - val_loss: 109.6431\n",
            "Epoch 17/100\n",
            "39/39 [==============================] - 0s 8ms/step - loss: 30.2694 - val_loss: 115.7951\n",
            "Epoch 18/100\n",
            "39/39 [==============================] - 0s 10ms/step - loss: 30.0538 - val_loss: 111.3125\n",
            "Epoch 19/100\n",
            "39/39 [==============================] - 0s 8ms/step - loss: 30.3908 - val_loss: 132.6115\n",
            "Epoch 20/100\n",
            "39/39 [==============================] - 0s 11ms/step - loss: 29.8132 - val_loss: 122.3445\n",
            "Epoch 21/100\n",
            "39/39 [==============================] - 0s 8ms/step - loss: 29.6012 - val_loss: 120.3588\n",
            "Epoch 22/100\n",
            "39/39 [==============================] - 0s 12ms/step - loss: 29.1981 - val_loss: 122.2048\n",
            "Epoch 23/100\n",
            "39/39 [==============================] - 0s 12ms/step - loss: 29.3761 - val_loss: 118.6835\n",
            "Epoch 24/100\n",
            "39/39 [==============================] - 1s 15ms/step - loss: 29.0455 - val_loss: 120.8621\n",
            "Epoch 25/100\n",
            "39/39 [==============================] - 0s 9ms/step - loss: 28.9320 - val_loss: 125.1909\n",
            "Epoch 26/100\n",
            "39/39 [==============================] - 0s 11ms/step - loss: 28.6753 - val_loss: 128.1917\n",
            "Epoch 27/100\n",
            "39/39 [==============================] - 1s 18ms/step - loss: 28.7806 - val_loss: 137.6673\n",
            "Epoch 28/100\n",
            "39/39 [==============================] - 0s 10ms/step - loss: 28.5846 - val_loss: 133.3802\n",
            "Epoch 29/100\n",
            "39/39 [==============================] - 0s 8ms/step - loss: 28.8948 - val_loss: 138.7194\n",
            "Epoch 30/100\n",
            "39/39 [==============================] - 0s 9ms/step - loss: 28.4151 - val_loss: 108.2002\n",
            "Epoch 31/100\n",
            "39/39 [==============================] - 0s 9ms/step - loss: 28.5246 - val_loss: 126.9953\n",
            "Epoch 32/100\n",
            "39/39 [==============================] - 0s 8ms/step - loss: 28.3529 - val_loss: 136.9893\n",
            "Epoch 33/100\n",
            "39/39 [==============================] - 0s 9ms/step - loss: 27.9792 - val_loss: 144.2894\n",
            "Epoch 34/100\n",
            "39/39 [==============================] - 0s 8ms/step - loss: 27.8937 - val_loss: 151.0762\n",
            "Epoch 35/100\n",
            "39/39 [==============================] - 0s 9ms/step - loss: 27.7872 - val_loss: 125.9311\n",
            "Epoch 36/100\n",
            "39/39 [==============================] - 0s 9ms/step - loss: 28.0215 - val_loss: 142.2501\n",
            "Epoch 37/100\n",
            "39/39 [==============================] - 0s 4ms/step - loss: 27.5193 - val_loss: 129.5921\n",
            "Epoch 38/100\n",
            "39/39 [==============================] - 0s 8ms/step - loss: 27.4109 - val_loss: 125.2649\n",
            "Epoch 39/100\n",
            "39/39 [==============================] - 0s 10ms/step - loss: 27.5779 - val_loss: 131.5602\n",
            "Epoch 40/100\n",
            "39/39 [==============================] - 0s 7ms/step - loss: 27.5450 - val_loss: 122.2566\n",
            "Epoch 41/100\n",
            "39/39 [==============================] - 0s 8ms/step - loss: 27.2887 - val_loss: 126.0595\n",
            "Epoch 42/100\n",
            "39/39 [==============================] - 0s 9ms/step - loss: 27.4128 - val_loss: 138.3909\n",
            "Epoch 43/100\n",
            "39/39 [==============================] - 0s 9ms/step - loss: 27.1710 - val_loss: 145.5624\n",
            "Epoch 44/100\n",
            "39/39 [==============================] - 0s 8ms/step - loss: 27.3115 - val_loss: 125.1021\n",
            "Epoch 45/100\n",
            "39/39 [==============================] - 0s 8ms/step - loss: 27.5864 - val_loss: 144.7970\n",
            "Epoch 46/100\n",
            "39/39 [==============================] - 0s 8ms/step - loss: 27.6970 - val_loss: 151.2508\n",
            "Epoch 47/100\n",
            "39/39 [==============================] - 0s 7ms/step - loss: 27.1616 - val_loss: 146.1359\n",
            "Epoch 48/100\n",
            "39/39 [==============================] - 0s 8ms/step - loss: 26.9368 - val_loss: 133.8121\n",
            "Epoch 49/100\n",
            "39/39 [==============================] - 0s 8ms/step - loss: 26.9821 - val_loss: 113.5207\n",
            "Epoch 50/100\n",
            "39/39 [==============================] - 0s 10ms/step - loss: 26.9693 - val_loss: 155.3389\n",
            "Epoch 51/100\n",
            "39/39 [==============================] - 0s 9ms/step - loss: 26.9641 - val_loss: 125.4459\n",
            "Epoch 52/100\n",
            "39/39 [==============================] - 0s 10ms/step - loss: 27.1694 - val_loss: 137.9497\n",
            "Epoch 53/100\n",
            "39/39 [==============================] - 0s 11ms/step - loss: 28.1089 - val_loss: 156.1873\n",
            "Epoch 54/100\n",
            "39/39 [==============================] - 0s 5ms/step - loss: 27.1365 - val_loss: 129.0521\n",
            "Epoch 55/100\n",
            "39/39 [==============================] - 0s 9ms/step - loss: 26.7480 - val_loss: 146.5575\n",
            "Epoch 56/100\n",
            "39/39 [==============================] - 0s 9ms/step - loss: 26.6212 - val_loss: 137.1165\n",
            "Epoch 57/100\n",
            "39/39 [==============================] - 0s 10ms/step - loss: 26.8265 - val_loss: 129.8542\n",
            "Epoch 58/100\n",
            "39/39 [==============================] - 1s 13ms/step - loss: 26.5881 - val_loss: 123.5981\n",
            "Epoch 59/100\n",
            "39/39 [==============================] - 0s 10ms/step - loss: 27.3214 - val_loss: 138.1105\n",
            "Epoch 60/100\n",
            "39/39 [==============================] - 0s 10ms/step - loss: 26.5769 - val_loss: 136.0460\n",
            "Epoch 61/100\n",
            "39/39 [==============================] - 1s 13ms/step - loss: 26.5413 - val_loss: 154.9507\n",
            "Epoch 62/100\n",
            "39/39 [==============================] - 0s 11ms/step - loss: 26.7547 - val_loss: 125.3884\n",
            "Epoch 63/100\n",
            "39/39 [==============================] - 1s 18ms/step - loss: 26.8682 - val_loss: 132.2436\n",
            "Epoch 64/100\n",
            "39/39 [==============================] - 0s 8ms/step - loss: 26.6958 - val_loss: 137.1253\n",
            "Epoch 65/100\n",
            "39/39 [==============================] - 0s 7ms/step - loss: 26.8918 - val_loss: 141.2370\n",
            "Epoch 66/100\n",
            "39/39 [==============================] - 0s 8ms/step - loss: 26.5272 - val_loss: 138.8555\n",
            "Epoch 67/100\n",
            "39/39 [==============================] - 0s 9ms/step - loss: 26.3485 - val_loss: 139.8462\n",
            "Epoch 68/100\n",
            "39/39 [==============================] - 0s 8ms/step - loss: 26.4098 - val_loss: 145.5420\n",
            "Epoch 69/100\n",
            "39/39 [==============================] - 0s 8ms/step - loss: 26.2639 - val_loss: 132.8363\n",
            "Epoch 70/100\n",
            "39/39 [==============================] - 0s 8ms/step - loss: 26.2854 - val_loss: 128.3181\n",
            "Epoch 71/100\n",
            "39/39 [==============================] - 0s 6ms/step - loss: 26.2044 - val_loss: 150.0777\n",
            "Epoch 72/100\n",
            "39/39 [==============================] - 0s 5ms/step - loss: 26.2547 - val_loss: 136.4615\n",
            "Epoch 73/100\n",
            "39/39 [==============================] - 0s 4ms/step - loss: 26.0269 - val_loss: 142.6120\n",
            "Epoch 74/100\n",
            "39/39 [==============================] - 0s 4ms/step - loss: 26.1496 - val_loss: 130.2492\n",
            "Epoch 75/100\n",
            "39/39 [==============================] - 0s 5ms/step - loss: 26.3084 - val_loss: 142.8827\n",
            "Epoch 76/100\n",
            "39/39 [==============================] - 0s 4ms/step - loss: 26.1369 - val_loss: 152.5713\n",
            "Epoch 77/100\n",
            "39/39 [==============================] - 0s 4ms/step - loss: 26.2202 - val_loss: 144.0172\n",
            "Epoch 78/100\n",
            "39/39 [==============================] - 0s 5ms/step - loss: 26.1292 - val_loss: 132.4940\n",
            "Epoch 79/100\n",
            "39/39 [==============================] - 0s 4ms/step - loss: 26.2530 - val_loss: 128.0196\n",
            "Epoch 80/100\n",
            "39/39 [==============================] - 0s 6ms/step - loss: 26.0252 - val_loss: 137.1506\n",
            "Epoch 81/100\n",
            "39/39 [==============================] - 0s 4ms/step - loss: 25.8239 - val_loss: 153.9455\n",
            "Epoch 82/100\n",
            "39/39 [==============================] - 0s 4ms/step - loss: 26.1594 - val_loss: 147.8319\n",
            "Epoch 83/100\n",
            "39/39 [==============================] - 0s 4ms/step - loss: 25.6389 - val_loss: 134.3765\n",
            "Epoch 84/100\n",
            "39/39 [==============================] - 0s 4ms/step - loss: 25.6347 - val_loss: 137.1955\n",
            "Epoch 85/100\n",
            "39/39 [==============================] - 0s 5ms/step - loss: 25.6614 - val_loss: 145.1878\n",
            "Epoch 86/100\n",
            "39/39 [==============================] - 0s 5ms/step - loss: 26.0904 - val_loss: 152.2105\n",
            "Epoch 87/100\n",
            "39/39 [==============================] - 0s 5ms/step - loss: 25.7747 - val_loss: 148.5994\n",
            "Epoch 88/100\n",
            "39/39 [==============================] - 0s 5ms/step - loss: 25.5685 - val_loss: 150.9651\n",
            "Epoch 89/100\n",
            "39/39 [==============================] - 0s 5ms/step - loss: 25.9217 - val_loss: 124.5071\n",
            "Epoch 90/100\n",
            "39/39 [==============================] - 0s 5ms/step - loss: 26.5931 - val_loss: 117.4423\n",
            "Epoch 91/100\n",
            "39/39 [==============================] - 0s 6ms/step - loss: 25.3944 - val_loss: 134.8273\n",
            "Epoch 92/100\n",
            "39/39 [==============================] - 0s 4ms/step - loss: 25.3197 - val_loss: 135.4157\n",
            "Epoch 93/100\n",
            "39/39 [==============================] - 0s 5ms/step - loss: 25.4296 - val_loss: 139.6769\n",
            "Epoch 94/100\n",
            "39/39 [==============================] - 0s 5ms/step - loss: 25.2916 - val_loss: 150.4346\n",
            "Epoch 95/100\n",
            "39/39 [==============================] - 0s 4ms/step - loss: 25.2138 - val_loss: 145.1853\n",
            "Epoch 96/100\n",
            "39/39 [==============================] - 0s 4ms/step - loss: 25.3898 - val_loss: 145.9789\n",
            "Epoch 97/100\n",
            "39/39 [==============================] - 0s 5ms/step - loss: 25.3408 - val_loss: 134.6103\n",
            "Epoch 98/100\n",
            "39/39 [==============================] - 0s 8ms/step - loss: 25.3696 - val_loss: 161.6369\n",
            "Epoch 99/100\n",
            "39/39 [==============================] - 0s 7ms/step - loss: 25.2514 - val_loss: 133.3256\n",
            "Epoch 100/100\n",
            "39/39 [==============================] - 0s 9ms/step - loss: 24.9386 - val_loss: 152.2018\n"
          ]
        },
        {
          "output_type": "execute_result",
          "data": {
            "text/plain": [
              "<keras.src.callbacks.History at 0x7f351eebd360>"
            ]
          },
          "metadata": {},
          "execution_count": 116
        }
      ]
    },
    {
      "cell_type": "code",
      "source": [
        "y_pred_rnn = rnn_model.predict(X_test_reshaped)\n"
      ],
      "metadata": {
        "colab": {
          "base_uri": "https://localhost:8080/"
        },
        "id": "6-VeN8J6dtX-",
        "outputId": "546ff29b-80f9-417d-a293-5149c4ef9233"
      },
      "execution_count": 117,
      "outputs": [
        {
          "output_type": "stream",
          "name": "stdout",
          "text": [
            "13/13 [==============================] - 0s 4ms/step\n"
          ]
        }
      ]
    },
    {
      "cell_type": "code",
      "source": [
        "mse_rnn = mean_squared_error(y_test, y_pred_rnn)\n",
        "rmse_rnn = np.sqrt(mse_rnn)\n",
        "r2_rnn = r2_score(y_test, y_pred_rnn)\n",
        "\n",
        "print(\"Mean Squared Error:\", mse_rnn)\n",
        "print(\"RMSE:\", rmse_rnn)\n",
        "print(\"R-squared:\", r2_rnn)"
      ],
      "metadata": {
        "colab": {
          "base_uri": "https://localhost:8080/"
        },
        "id": "_Il-tuVteH2g",
        "outputId": "4dab200a-2091-43ed-86bd-0e9591130abf"
      },
      "execution_count": 118,
      "outputs": [
        {
          "output_type": "stream",
          "name": "stdout",
          "text": [
            "Mean Squared Error: 106.02346795871703\n",
            "RMSE: 10.296769782738519\n",
            "R-squared: -0.01899101812842252\n"
          ]
        }
      ]
    },
    {
      "cell_type": "code",
      "source": [
        "joblib.dump(rnn_model, 'RNN.joblib')"
      ],
      "metadata": {
        "colab": {
          "base_uri": "https://localhost:8080/"
        },
        "id": "w0a7dkDZeNCK",
        "outputId": "4d1fe873-22dc-4a8a-859a-e8c7d7ea1bdb"
      },
      "execution_count": 119,
      "outputs": [
        {
          "output_type": "execute_result",
          "data": {
            "text/plain": [
              "['RNN.joblib']"
            ]
          },
          "metadata": {},
          "execution_count": 119
        }
      ]
    },
    {
      "cell_type": "code",
      "source": [
        "for actual, predicted in zip(np.array(y_test)[:100], y_pred_rnn[:100]):\n",
        "    print(f'Actual: {actual}, Predicted: {predicted:}')"
      ],
      "metadata": {
        "colab": {
          "base_uri": "https://localhost:8080/"
        },
        "id": "VOiNIbIGeXvR",
        "outputId": "debdb45b-c26a-41d0-ff2f-d40b5d290086"
      },
      "execution_count": 121,
      "outputs": [
        {
          "output_type": "stream",
          "name": "stdout",
          "text": [
            "Actual: 35.5, Predicted: [18.8952]\n",
            "Actual: 35.5, Predicted: [19.897255]\n",
            "Actual: 35.5, Predicted: [19.93308]\n",
            "Actual: 35.5, Predicted: [19.129663]\n",
            "Actual: 35.5, Predicted: [18.782364]\n",
            "Actual: 35.5, Predicted: [19.129663]\n",
            "Actual: 35.5, Predicted: [19.454214]\n",
            "Actual: 35.5, Predicted: [19.150885]\n",
            "Actual: 35.5, Predicted: [18.841894]\n",
            "Actual: 35.5, Predicted: [18.8952]\n",
            "Actual: 35.5, Predicted: [18.637547]\n",
            "Actual: 35.5, Predicted: [18.675203]\n",
            "Actual: 35.5, Predicted: [19.064157]\n",
            "Actual: 35.5, Predicted: [19.37007]\n",
            "Actual: 35.5, Predicted: [18.970425]\n",
            "Actual: 35.5, Predicted: [19.328001]\n",
            "Actual: 35.5, Predicted: [19.412142]\n",
            "Actual: 35.5, Predicted: [18.819975]\n",
            "Actual: 35.5, Predicted: [19.129663]\n",
            "Actual: 35.5, Predicted: [19.097383]\n",
            "Actual: 11.0, Predicted: [18.739815]\n",
            "Actual: 11.0, Predicted: [17.957506]\n",
            "Actual: 11.0, Predicted: [19.196207]\n",
            "Actual: 11.0, Predicted: [17.825077]\n",
            "Actual: 11.0, Predicted: [19.361614]\n",
            "Actual: 11.0, Predicted: [18.53857]\n",
            "Actual: 11.0, Predicted: [16.40412]\n",
            "Actual: 11.0, Predicted: [17.002697]\n",
            "Actual: 11.0, Predicted: [16.713144]\n",
            "Actual: 11.0, Predicted: [16.913586]\n",
            "Actual: 11.0, Predicted: [17.879705]\n",
            "Actual: 11.0, Predicted: [18.398724]\n",
            "Actual: 11.0, Predicted: [18.388117]\n",
            "Actual: 11.0, Predicted: [17.987392]\n",
            "Actual: 11.0, Predicted: [18.21025]\n",
            "Actual: 11.0, Predicted: [17.708872]\n",
            "Actual: 11.0, Predicted: [17.540642]\n",
            "Actual: 11.0, Predicted: [17.819136]\n",
            "Actual: 11.0, Predicted: [19.301508]\n",
            "Actual: 11.0, Predicted: [18.398724]\n",
            "Actual: 24.0, Predicted: [22.001028]\n",
            "Actual: 24.0, Predicted: [20.691088]\n",
            "Actual: 24.0, Predicted: [21.813034]\n",
            "Actual: 24.0, Predicted: [22.278503]\n",
            "Actual: 24.0, Predicted: [21.248667]\n",
            "Actual: 24.0, Predicted: [21.063938]\n",
            "Actual: 24.0, Predicted: [23.683756]\n",
            "Actual: 24.0, Predicted: [22.374004]\n",
            "Actual: 24.0, Predicted: [21.156303]\n",
            "Actual: 24.0, Predicted: [21.532547]\n",
            "Actual: 24.0, Predicted: [21.440117]\n",
            "Actual: 24.0, Predicted: [20.50411]\n",
            "Actual: 24.0, Predicted: [20.691088]\n",
            "Actual: 24.0, Predicted: [23.495949]\n",
            "Actual: 24.0, Predicted: [21.532547]\n",
            "Actual: 24.0, Predicted: [21.717403]\n",
            "Actual: 24.0, Predicted: [23.77644]\n",
            "Actual: 24.0, Predicted: [20.78342]\n",
            "Actual: 24.0, Predicted: [21.25206]\n",
            "Actual: 24.0, Predicted: [21.532547]\n",
            "Actual: 19.0, Predicted: [22.422953]\n",
            "Actual: 19.0, Predicted: [23.647104]\n",
            "Actual: 19.0, Predicted: [22.307215]\n",
            "Actual: 19.0, Predicted: [24.789145]\n",
            "Actual: 19.0, Predicted: [25.0897]\n",
            "Actual: 19.0, Predicted: [23.129614]\n",
            "Actual: 19.0, Predicted: [24.952496]\n",
            "Actual: 19.0, Predicted: [22.278236]\n",
            "Actual: 19.0, Predicted: [22.870644]\n",
            "Actual: 19.0, Predicted: [23.329678]\n",
            "Actual: 19.0, Predicted: [24.710516]\n",
            "Actual: 19.0, Predicted: [22.991222]\n",
            "Actual: 19.0, Predicted: [22.170465]\n",
            "Actual: 19.0, Predicted: [24.700624]\n",
            "Actual: 19.0, Predicted: [23.129614]\n",
            "Actual: 19.0, Predicted: [22.71763]\n",
            "Actual: 19.0, Predicted: [25.75145]\n",
            "Actual: 19.0, Predicted: [22.879642]\n",
            "Actual: 19.0, Predicted: [23.833366]\n",
            "Actual: 19.0, Predicted: [23.307215]\n",
            "Actual: 37.0, Predicted: [20.94378]\n",
            "Actual: 37.0, Predicted: [21.36673]\n",
            "Actual: 37.0, Predicted: [20.805498]\n",
            "Actual: 37.0, Predicted: [22.111546]\n",
            "Actual: 37.0, Predicted: [21.274412]\n",
            "Actual: 37.0, Predicted: [21.976944]\n",
            "Actual: 37.0, Predicted: [20.934807]\n",
            "Actual: 37.0, Predicted: [21.723036]\n",
            "Actual: 37.0, Predicted: [21.196012]\n",
            "Actual: 37.0, Predicted: [21.92453]\n",
            "Actual: 37.0, Predicted: [21.92453]\n",
            "Actual: 37.0, Predicted: [21.833313]\n",
            "Actual: 37.0, Predicted: [21.45941]\n",
            "Actual: 37.0, Predicted: [22.018803]\n",
            "Actual: 37.0, Predicted: [21.926058]\n",
            "Actual: 37.0, Predicted: [21.737455]\n",
            "Actual: 37.0, Predicted: [20.898087]\n",
            "Actual: 37.0, Predicted: [22.076725]\n",
            "Actual: 37.0, Predicted: [21.55368]\n",
            "Actual: 37.0, Predicted: [22.220985]\n"
          ]
        }
      ]
    },
    {
      "cell_type": "markdown",
      "source": [
        "##Autoencoders for Dimensionality Reduction\n",
        "* Mean Squared Error: 86.5313412438766\n",
        "* RMSE: 9.302222381983597\n",
        "* R-squared: 0.1683477138434214"
      ],
      "metadata": {
        "id": "b76I7MYce49z"
      }
    },
    {
      "cell_type": "code",
      "source": [
        "from tensorflow.keras.layers import Dense, Input\n",
        "from tensorflow.keras.models import Sequential, Model"
      ],
      "metadata": {
        "id": "o1pCZOKkeaHd"
      },
      "execution_count": 127,
      "outputs": []
    },
    {
      "cell_type": "code",
      "source": [
        "# Define the autoencoder architecture\n",
        "input_dim = X_train_scaled.shape[1]\n",
        "encoding_dim = 2  # Dimension of encoder output, adjust based on your needs"
      ],
      "metadata": {
        "id": "2A3o1PnQfYh9"
      },
      "execution_count": 128,
      "outputs": []
    },
    {
      "cell_type": "code",
      "source": [
        "input_layer = Input(shape=(input_dim,))\n",
        "encoder_layer = Dense(encoding_dim, activation='relu')(input_layer)\n",
        "decoder_layer = Dense(input_dim, activation='sigmoid')(encoder_layer)"
      ],
      "metadata": {
        "id": "kpW1bF_sfhow"
      },
      "execution_count": 129,
      "outputs": []
    },
    {
      "cell_type": "code",
      "source": [
        "# Full autoencoder model\n",
        "autoencoder = Model(input_layer, decoder_layer)\n",
        "\n",
        "# Encoder model\n",
        "encoder = Model(input_layer, encoder_layer)\n",
        "\n",
        "# Compile the autoencoder\n",
        "autoencoder.compile(optimizer='adam', loss='mean_squared_error')"
      ],
      "metadata": {
        "id": "SZ4WvVnAfizI"
      },
      "execution_count": 130,
      "outputs": []
    },
    {
      "cell_type": "code",
      "source": [
        "# Train the autoencoder\n",
        "autoencoder.fit(X_train_scaled, X_train_scaled, epochs=50, batch_size=32, shuffle=True, validation_split=0.2, verbose=0)\n"
      ],
      "metadata": {
        "colab": {
          "base_uri": "https://localhost:8080/"
        },
        "id": "2pPAtcAlfkbY",
        "outputId": "d220d6e8-8607-4b47-8dcc-a3fd64b14a0f"
      },
      "execution_count": 131,
      "outputs": [
        {
          "output_type": "execute_result",
          "data": {
            "text/plain": [
              "<keras.src.callbacks.History at 0x7f351eb5a230>"
            ]
          },
          "metadata": {},
          "execution_count": 131
        }
      ]
    },
    {
      "cell_type": "code",
      "source": [
        "# Use encoder to reduce dimensionality\n",
        "X_train_encoded = encoder.predict(X_train_scaled)\n",
        "X_test_encoded = encoder.predict(X_test_scaled)"
      ],
      "metadata": {
        "colab": {
          "base_uri": "https://localhost:8080/"
        },
        "id": "f4JgA05bfpzJ",
        "outputId": "5dd8cc0f-faab-4af8-c5af-0539b0b835ab"
      },
      "execution_count": 132,
      "outputs": [
        {
          "output_type": "stream",
          "name": "stdout",
          "text": [
            "49/49 [==============================] - 0s 3ms/step\n",
            "13/13 [==============================] - 0s 2ms/step\n"
          ]
        }
      ]
    },
    {
      "cell_type": "code",
      "source": [
        "# Now, use the encoded features to train a regression model\n",
        "regressor = LinearRegression()\n",
        "regressor.fit(X_train_encoded, y_train)"
      ],
      "metadata": {
        "colab": {
          "base_uri": "https://localhost:8080/",
          "height": 74
        },
        "id": "skv9DlLQftcP",
        "outputId": "b960fa95-a00f-4d0f-dcf1-5b741eba999a"
      },
      "execution_count": 133,
      "outputs": [
        {
          "output_type": "execute_result",
          "data": {
            "text/plain": [
              "LinearRegression()"
            ],
            "text/html": [
              "<style>#sk-container-id-14 {color: black;background-color: white;}#sk-container-id-14 pre{padding: 0;}#sk-container-id-14 div.sk-toggleable {background-color: white;}#sk-container-id-14 label.sk-toggleable__label {cursor: pointer;display: block;width: 100%;margin-bottom: 0;padding: 0.3em;box-sizing: border-box;text-align: center;}#sk-container-id-14 label.sk-toggleable__label-arrow:before {content: \"▸\";float: left;margin-right: 0.25em;color: #696969;}#sk-container-id-14 label.sk-toggleable__label-arrow:hover:before {color: black;}#sk-container-id-14 div.sk-estimator:hover label.sk-toggleable__label-arrow:before {color: black;}#sk-container-id-14 div.sk-toggleable__content {max-height: 0;max-width: 0;overflow: hidden;text-align: left;background-color: #f0f8ff;}#sk-container-id-14 div.sk-toggleable__content pre {margin: 0.2em;color: black;border-radius: 0.25em;background-color: #f0f8ff;}#sk-container-id-14 input.sk-toggleable__control:checked~div.sk-toggleable__content {max-height: 200px;max-width: 100%;overflow: auto;}#sk-container-id-14 input.sk-toggleable__control:checked~label.sk-toggleable__label-arrow:before {content: \"▾\";}#sk-container-id-14 div.sk-estimator input.sk-toggleable__control:checked~label.sk-toggleable__label {background-color: #d4ebff;}#sk-container-id-14 div.sk-label input.sk-toggleable__control:checked~label.sk-toggleable__label {background-color: #d4ebff;}#sk-container-id-14 input.sk-hidden--visually {border: 0;clip: rect(1px 1px 1px 1px);clip: rect(1px, 1px, 1px, 1px);height: 1px;margin: -1px;overflow: hidden;padding: 0;position: absolute;width: 1px;}#sk-container-id-14 div.sk-estimator {font-family: monospace;background-color: #f0f8ff;border: 1px dotted black;border-radius: 0.25em;box-sizing: border-box;margin-bottom: 0.5em;}#sk-container-id-14 div.sk-estimator:hover {background-color: #d4ebff;}#sk-container-id-14 div.sk-parallel-item::after {content: \"\";width: 100%;border-bottom: 1px solid gray;flex-grow: 1;}#sk-container-id-14 div.sk-label:hover label.sk-toggleable__label {background-color: #d4ebff;}#sk-container-id-14 div.sk-serial::before {content: \"\";position: absolute;border-left: 1px solid gray;box-sizing: border-box;top: 0;bottom: 0;left: 50%;z-index: 0;}#sk-container-id-14 div.sk-serial {display: flex;flex-direction: column;align-items: center;background-color: white;padding-right: 0.2em;padding-left: 0.2em;position: relative;}#sk-container-id-14 div.sk-item {position: relative;z-index: 1;}#sk-container-id-14 div.sk-parallel {display: flex;align-items: stretch;justify-content: center;background-color: white;position: relative;}#sk-container-id-14 div.sk-item::before, #sk-container-id-14 div.sk-parallel-item::before {content: \"\";position: absolute;border-left: 1px solid gray;box-sizing: border-box;top: 0;bottom: 0;left: 50%;z-index: -1;}#sk-container-id-14 div.sk-parallel-item {display: flex;flex-direction: column;z-index: 1;position: relative;background-color: white;}#sk-container-id-14 div.sk-parallel-item:first-child::after {align-self: flex-end;width: 50%;}#sk-container-id-14 div.sk-parallel-item:last-child::after {align-self: flex-start;width: 50%;}#sk-container-id-14 div.sk-parallel-item:only-child::after {width: 0;}#sk-container-id-14 div.sk-dashed-wrapped {border: 1px dashed gray;margin: 0 0.4em 0.5em 0.4em;box-sizing: border-box;padding-bottom: 0.4em;background-color: white;}#sk-container-id-14 div.sk-label label {font-family: monospace;font-weight: bold;display: inline-block;line-height: 1.2em;}#sk-container-id-14 div.sk-label-container {text-align: center;}#sk-container-id-14 div.sk-container {/* jupyter's `normalize.less` sets `[hidden] { display: none; }` but bootstrap.min.css set `[hidden] { display: none !important; }` so we also need the `!important` here to be able to override the default hidden behavior on the sphinx rendered scikit-learn.org. See: https://github.com/scikit-learn/scikit-learn/issues/21755 */display: inline-block !important;position: relative;}#sk-container-id-14 div.sk-text-repr-fallback {display: none;}</style><div id=\"sk-container-id-14\" class=\"sk-top-container\"><div class=\"sk-text-repr-fallback\"><pre>LinearRegression()</pre><b>In a Jupyter environment, please rerun this cell to show the HTML representation or trust the notebook. <br />On GitHub, the HTML representation is unable to render, please try loading this page with nbviewer.org.</b></div><div class=\"sk-container\" hidden><div class=\"sk-item\"><div class=\"sk-estimator sk-toggleable\"><input class=\"sk-toggleable__control sk-hidden--visually\" id=\"sk-estimator-id-18\" type=\"checkbox\" checked><label for=\"sk-estimator-id-18\" class=\"sk-toggleable__label sk-toggleable__label-arrow\">LinearRegression</label><div class=\"sk-toggleable__content\"><pre>LinearRegression()</pre></div></div></div></div></div>"
            ]
          },
          "metadata": {},
          "execution_count": 133
        }
      ]
    },
    {
      "cell_type": "code",
      "source": [
        "# Predict on the test set\n",
        "y_pred = regressor.predict(X_test_encoded)"
      ],
      "metadata": {
        "id": "Tyzx8WQGfvah"
      },
      "execution_count": 141,
      "outputs": []
    },
    {
      "cell_type": "code",
      "source": [
        "# Calculate the metrics\n",
        "mse = mean_squared_error(y_test, y_pred)\n",
        "rmse = np.sqrt(mse)\n",
        "r2 = r2_score(y_test, y_pred)\n",
        "\n",
        "print(\"Mean Squared Error:\", mse)\n",
        "print(\"RMSE:\", rmse)\n",
        "print(\"R-squared:\", r2)"
      ],
      "metadata": {
        "colab": {
          "base_uri": "https://localhost:8080/"
        },
        "id": "CnNE3UWAfymb",
        "outputId": "2cbc2056-cd59-4a99-aa87-3c17267f23f1"
      },
      "execution_count": 142,
      "outputs": [
        {
          "output_type": "stream",
          "name": "stdout",
          "text": [
            "Mean Squared Error: 86.5313412438766\n",
            "RMSE: 9.302222381983597\n",
            "R-squared: 0.1683477138434214\n"
          ]
        }
      ]
    },
    {
      "cell_type": "code",
      "source": [
        "joblib.dump(regressor, 'regressor.joblib')"
      ],
      "metadata": {
        "colab": {
          "base_uri": "https://localhost:8080/"
        },
        "id": "vpq76QEgf3x6",
        "outputId": "2dbd42fc-7146-4e59-ad61-e102004144b1"
      },
      "execution_count": 143,
      "outputs": [
        {
          "output_type": "execute_result",
          "data": {
            "text/plain": [
              "['regressor.joblib']"
            ]
          },
          "metadata": {},
          "execution_count": 143
        }
      ]
    },
    {
      "cell_type": "markdown",
      "source": [
        "##Generalized Additive Models (GAMs)\n",
        "* Mean Squared Error: 105.68976599727142\n",
        "* RMSE: 10.280552806015415\n",
        "* R-squared: -0.01578381025273501"
      ],
      "metadata": {
        "id": "DzITbvlSgiPe"
      }
    },
    {
      "cell_type": "code",
      "source": [
        "pip install pygam"
      ],
      "metadata": {
        "colab": {
          "base_uri": "https://localhost:8080/"
        },
        "id": "wALhd4v1g9tW",
        "outputId": "e59bbaed-400c-4282-e9d9-82344864f4cc"
      },
      "execution_count": 146,
      "outputs": [
        {
          "output_type": "stream",
          "name": "stdout",
          "text": [
            "Collecting pygam\n",
            "  Downloading pygam-0.9.1-py3-none-any.whl (522 kB)\n",
            "\u001b[2K     \u001b[90m━━━━━━━━━━━━━━━━━━━━━━━━━━━━━━━━━━━━━━━━\u001b[0m \u001b[32m522.0/522.0 kB\u001b[0m \u001b[31m4.8 MB/s\u001b[0m eta \u001b[36m0:00:00\u001b[0m\n",
            "\u001b[?25hRequirement already satisfied: numpy>=1.25 in /usr/local/lib/python3.10/dist-packages (from pygam) (1.25.2)\n",
            "Requirement already satisfied: progressbar2<5.0.0,>=4.2.0 in /usr/local/lib/python3.10/dist-packages (from pygam) (4.2.0)\n",
            "Requirement already satisfied: scipy<1.12,>=1.11.1 in /usr/local/lib/python3.10/dist-packages (from pygam) (1.11.4)\n",
            "Requirement already satisfied: python-utils>=3.0.0 in /usr/local/lib/python3.10/dist-packages (from progressbar2<5.0.0,>=4.2.0->pygam) (3.8.2)\n",
            "Requirement already satisfied: typing-extensions>3.10.0.2 in /usr/local/lib/python3.10/dist-packages (from python-utils>=3.0.0->progressbar2<5.0.0,>=4.2.0->pygam) (4.10.0)\n",
            "Installing collected packages: pygam\n",
            "Successfully installed pygam-0.9.1\n"
          ]
        }
      ]
    },
    {
      "cell_type": "code",
      "source": [
        "from pygam import LinearGAM, s"
      ],
      "metadata": {
        "id": "vtTRLkwhgnpw"
      },
      "execution_count": 147,
      "outputs": []
    },
    {
      "cell_type": "code",
      "source": [
        "gam = LinearGAM(s(0) + s(1) + s(2)).fit(X_train, y_train)"
      ],
      "metadata": {
        "id": "2eHxqw3Dg2Vb"
      },
      "execution_count": 148,
      "outputs": []
    },
    {
      "cell_type": "code",
      "source": [
        "y_pred_gam = gam.predict(X_test)"
      ],
      "metadata": {
        "id": "bVRuTbvRhPX3"
      },
      "execution_count": 149,
      "outputs": []
    },
    {
      "cell_type": "code",
      "source": [
        "mse_gam = mean_squared_error(y_test, y_pred_gam)\n",
        "rmse_gam = np.sqrt(mse_gam)\n",
        "r2_gam = r2_score(y_test, y_pred_gam)\n",
        "\n",
        "print(\"Mean Squared Error:\", mse_gam)\n",
        "print(\"RMSE:\", rmse_gam)\n",
        "print(\"R-squared:\", r2_gam)"
      ],
      "metadata": {
        "colab": {
          "base_uri": "https://localhost:8080/"
        },
        "id": "BhYJColbhQLf",
        "outputId": "d461e6be-3829-46f4-8e61-15757cadee91"
      },
      "execution_count": 150,
      "outputs": [
        {
          "output_type": "stream",
          "name": "stdout",
          "text": [
            "Mean Squared Error: 105.68976599727142\n",
            "RMSE: 10.280552806015415\n",
            "R-squared: -0.01578381025273501\n"
          ]
        }
      ]
    },
    {
      "cell_type": "code",
      "source": [
        "for actual, predicted in zip(np.array(y_test)[:100], y_pred_gam[:100]):\n",
        "    print(f'Actual: {actual}, Predicted: {predicted:.2f}')"
      ],
      "metadata": {
        "colab": {
          "base_uri": "https://localhost:8080/"
        },
        "id": "-NUPbxK1hVAN",
        "outputId": "278287d9-83c7-42c5-c034-ac1ebf78914f"
      },
      "execution_count": 151,
      "outputs": [
        {
          "output_type": "stream",
          "name": "stdout",
          "text": [
            "Actual: 35.5, Predicted: 19.72\n",
            "Actual: 35.5, Predicted: 20.35\n",
            "Actual: 35.5, Predicted: 20.27\n",
            "Actual: 35.5, Predicted: 20.96\n",
            "Actual: 35.5, Predicted: 20.20\n",
            "Actual: 35.5, Predicted: 20.96\n",
            "Actual: 35.5, Predicted: 21.47\n",
            "Actual: 35.5, Predicted: 19.97\n",
            "Actual: 35.5, Predicted: 20.67\n",
            "Actual: 35.5, Predicted: 19.72\n",
            "Actual: 35.5, Predicted: 19.55\n",
            "Actual: 35.5, Predicted: 19.43\n",
            "Actual: 35.5, Predicted: 20.47\n",
            "Actual: 35.5, Predicted: 20.93\n",
            "Actual: 35.5, Predicted: 19.62\n",
            "Actual: 35.5, Predicted: 20.69\n",
            "Actual: 35.5, Predicted: 21.19\n",
            "Actual: 35.5, Predicted: 20.01\n",
            "Actual: 35.5, Predicted: 20.96\n",
            "Actual: 35.5, Predicted: 20.71\n",
            "Actual: 11.0, Predicted: 19.51\n",
            "Actual: 11.0, Predicted: 17.33\n",
            "Actual: 11.0, Predicted: 22.33\n",
            "Actual: 11.0, Predicted: 17.66\n",
            "Actual: 11.0, Predicted: 22.64\n",
            "Actual: 11.0, Predicted: 22.09\n",
            "Actual: 11.0, Predicted: 17.98\n",
            "Actual: 11.0, Predicted: 17.50\n",
            "Actual: 11.0, Predicted: 19.73\n",
            "Actual: 11.0, Predicted: 17.20\n",
            "Actual: 11.0, Predicted: 17.27\n",
            "Actual: 11.0, Predicted: 18.27\n",
            "Actual: 11.0, Predicted: 18.27\n",
            "Actual: 11.0, Predicted: 19.25\n",
            "Actual: 11.0, Predicted: 17.96\n",
            "Actual: 11.0, Predicted: 19.28\n",
            "Actual: 11.0, Predicted: 19.86\n",
            "Actual: 11.0, Predicted: 19.84\n",
            "Actual: 11.0, Predicted: 22.77\n",
            "Actual: 11.0, Predicted: 18.27\n",
            "Actual: 24.0, Predicted: 20.53\n",
            "Actual: 24.0, Predicted: 19.29\n",
            "Actual: 24.0, Predicted: 20.23\n",
            "Actual: 24.0, Predicted: 21.10\n",
            "Actual: 24.0, Predicted: 20.11\n",
            "Actual: 24.0, Predicted: 19.61\n",
            "Actual: 24.0, Predicted: 24.52\n",
            "Actual: 24.0, Predicted: 21.23\n",
            "Actual: 24.0, Predicted: 19.85\n",
            "Actual: 24.0, Predicted: 19.86\n",
            "Actual: 24.0, Predicted: 19.69\n",
            "Actual: 24.0, Predicted: 19.47\n",
            "Actual: 24.0, Predicted: 19.29\n",
            "Actual: 24.0, Predicted: 23.93\n",
            "Actual: 24.0, Predicted: 19.86\n",
            "Actual: 24.0, Predicted: 20.29\n",
            "Actual: 24.0, Predicted: 24.67\n",
            "Actual: 24.0, Predicted: 19.51\n",
            "Actual: 24.0, Predicted: 19.59\n",
            "Actual: 24.0, Predicted: 19.86\n",
            "Actual: 19.0, Predicted: 18.79\n",
            "Actual: 19.0, Predicted: 23.84\n",
            "Actual: 19.0, Predicted: 18.40\n",
            "Actual: 19.0, Predicted: 27.21\n",
            "Actual: 19.0, Predicted: 28.02\n",
            "Actual: 19.0, Predicted: 21.07\n",
            "Actual: 19.0, Predicted: 27.66\n",
            "Actual: 19.0, Predicted: 18.01\n",
            "Actual: 19.0, Predicted: 20.74\n",
            "Actual: 19.0, Predicted: 22.71\n",
            "Actual: 19.0, Predicted: 27.95\n",
            "Actual: 19.0, Predicted: 20.69\n",
            "Actual: 19.0, Predicted: 17.70\n",
            "Actual: 19.0, Predicted: 27.35\n",
            "Actual: 19.0, Predicted: 21.07\n",
            "Actual: 19.0, Predicted: 20.16\n",
            "Actual: 19.0, Predicted: 28.81\n",
            "Actual: 19.0, Predicted: 21.07\n",
            "Actual: 19.0, Predicted: 24.29\n",
            "Actual: 19.0, Predicted: 21.80\n",
            "Actual: 37.0, Predicted: 28.47\n",
            "Actual: 37.0, Predicted: 29.14\n",
            "Actual: 37.0, Predicted: 27.59\n",
            "Actual: 37.0, Predicted: 30.74\n",
            "Actual: 37.0, Predicted: 29.00\n",
            "Actual: 37.0, Predicted: 31.82\n",
            "Actual: 37.0, Predicted: 27.99\n",
            "Actual: 37.0, Predicted: 30.76\n",
            "Actual: 37.0, Predicted: 28.84\n",
            "Actual: 37.0, Predicted: 29.95\n",
            "Actual: 37.0, Predicted: 29.95\n",
            "Actual: 37.0, Predicted: 30.79\n",
            "Actual: 37.0, Predicted: 29.24\n",
            "Actual: 37.0, Predicted: 30.78\n",
            "Actual: 37.0, Predicted: 30.80\n",
            "Actual: 37.0, Predicted: 29.22\n",
            "Actual: 37.0, Predicted: 27.59\n",
            "Actual: 37.0, Predicted: 37.38\n",
            "Actual: 37.0, Predicted: 29.86\n",
            "Actual: 37.0, Predicted: 38.29\n"
          ]
        }
      ]
    },
    {
      "cell_type": "markdown",
      "source": [
        "##Bayesian Regression Technique"
      ],
      "metadata": {
        "id": "6HwCahXwh-f9"
      }
    },
    {
      "cell_type": "code",
      "source": [
        "from sklearn.linear_model import BayesianRidge"
      ],
      "metadata": {
        "id": "i5IfsfE7hcnl"
      },
      "execution_count": 152,
      "outputs": []
    },
    {
      "cell_type": "code",
      "source": [
        "bayesian_model = BayesianRidge()"
      ],
      "metadata": {
        "id": "Wy7PBH4viPQd"
      },
      "execution_count": 153,
      "outputs": []
    },
    {
      "cell_type": "code",
      "source": [
        "bayesian_model.fit(X_train, y_train)"
      ],
      "metadata": {
        "colab": {
          "base_uri": "https://localhost:8080/",
          "height": 74
        },
        "id": "BNL8tKaQiV5o",
        "outputId": "d1b6219a-7a97-46f5-ec1a-17c5eeae6a0d"
      },
      "execution_count": 154,
      "outputs": [
        {
          "output_type": "execute_result",
          "data": {
            "text/plain": [
              "BayesianRidge()"
            ],
            "text/html": [
              "<style>#sk-container-id-15 {color: black;background-color: white;}#sk-container-id-15 pre{padding: 0;}#sk-container-id-15 div.sk-toggleable {background-color: white;}#sk-container-id-15 label.sk-toggleable__label {cursor: pointer;display: block;width: 100%;margin-bottom: 0;padding: 0.3em;box-sizing: border-box;text-align: center;}#sk-container-id-15 label.sk-toggleable__label-arrow:before {content: \"▸\";float: left;margin-right: 0.25em;color: #696969;}#sk-container-id-15 label.sk-toggleable__label-arrow:hover:before {color: black;}#sk-container-id-15 div.sk-estimator:hover label.sk-toggleable__label-arrow:before {color: black;}#sk-container-id-15 div.sk-toggleable__content {max-height: 0;max-width: 0;overflow: hidden;text-align: left;background-color: #f0f8ff;}#sk-container-id-15 div.sk-toggleable__content pre {margin: 0.2em;color: black;border-radius: 0.25em;background-color: #f0f8ff;}#sk-container-id-15 input.sk-toggleable__control:checked~div.sk-toggleable__content {max-height: 200px;max-width: 100%;overflow: auto;}#sk-container-id-15 input.sk-toggleable__control:checked~label.sk-toggleable__label-arrow:before {content: \"▾\";}#sk-container-id-15 div.sk-estimator input.sk-toggleable__control:checked~label.sk-toggleable__label {background-color: #d4ebff;}#sk-container-id-15 div.sk-label input.sk-toggleable__control:checked~label.sk-toggleable__label {background-color: #d4ebff;}#sk-container-id-15 input.sk-hidden--visually {border: 0;clip: rect(1px 1px 1px 1px);clip: rect(1px, 1px, 1px, 1px);height: 1px;margin: -1px;overflow: hidden;padding: 0;position: absolute;width: 1px;}#sk-container-id-15 div.sk-estimator {font-family: monospace;background-color: #f0f8ff;border: 1px dotted black;border-radius: 0.25em;box-sizing: border-box;margin-bottom: 0.5em;}#sk-container-id-15 div.sk-estimator:hover {background-color: #d4ebff;}#sk-container-id-15 div.sk-parallel-item::after {content: \"\";width: 100%;border-bottom: 1px solid gray;flex-grow: 1;}#sk-container-id-15 div.sk-label:hover label.sk-toggleable__label {background-color: #d4ebff;}#sk-container-id-15 div.sk-serial::before {content: \"\";position: absolute;border-left: 1px solid gray;box-sizing: border-box;top: 0;bottom: 0;left: 50%;z-index: 0;}#sk-container-id-15 div.sk-serial {display: flex;flex-direction: column;align-items: center;background-color: white;padding-right: 0.2em;padding-left: 0.2em;position: relative;}#sk-container-id-15 div.sk-item {position: relative;z-index: 1;}#sk-container-id-15 div.sk-parallel {display: flex;align-items: stretch;justify-content: center;background-color: white;position: relative;}#sk-container-id-15 div.sk-item::before, #sk-container-id-15 div.sk-parallel-item::before {content: \"\";position: absolute;border-left: 1px solid gray;box-sizing: border-box;top: 0;bottom: 0;left: 50%;z-index: -1;}#sk-container-id-15 div.sk-parallel-item {display: flex;flex-direction: column;z-index: 1;position: relative;background-color: white;}#sk-container-id-15 div.sk-parallel-item:first-child::after {align-self: flex-end;width: 50%;}#sk-container-id-15 div.sk-parallel-item:last-child::after {align-self: flex-start;width: 50%;}#sk-container-id-15 div.sk-parallel-item:only-child::after {width: 0;}#sk-container-id-15 div.sk-dashed-wrapped {border: 1px dashed gray;margin: 0 0.4em 0.5em 0.4em;box-sizing: border-box;padding-bottom: 0.4em;background-color: white;}#sk-container-id-15 div.sk-label label {font-family: monospace;font-weight: bold;display: inline-block;line-height: 1.2em;}#sk-container-id-15 div.sk-label-container {text-align: center;}#sk-container-id-15 div.sk-container {/* jupyter's `normalize.less` sets `[hidden] { display: none; }` but bootstrap.min.css set `[hidden] { display: none !important; }` so we also need the `!important` here to be able to override the default hidden behavior on the sphinx rendered scikit-learn.org. See: https://github.com/scikit-learn/scikit-learn/issues/21755 */display: inline-block !important;position: relative;}#sk-container-id-15 div.sk-text-repr-fallback {display: none;}</style><div id=\"sk-container-id-15\" class=\"sk-top-container\"><div class=\"sk-text-repr-fallback\"><pre>BayesianRidge()</pre><b>In a Jupyter environment, please rerun this cell to show the HTML representation or trust the notebook. <br />On GitHub, the HTML representation is unable to render, please try loading this page with nbviewer.org.</b></div><div class=\"sk-container\" hidden><div class=\"sk-item\"><div class=\"sk-estimator sk-toggleable\"><input class=\"sk-toggleable__control sk-hidden--visually\" id=\"sk-estimator-id-19\" type=\"checkbox\" checked><label for=\"sk-estimator-id-19\" class=\"sk-toggleable__label sk-toggleable__label-arrow\">BayesianRidge</label><div class=\"sk-toggleable__content\"><pre>BayesianRidge()</pre></div></div></div></div></div>"
            ]
          },
          "metadata": {},
          "execution_count": 154
        }
      ]
    },
    {
      "cell_type": "code",
      "source": [
        "y_pred_bayesian = bayesian_model.predict(X_test)"
      ],
      "metadata": {
        "id": "45urWTA5iZKg"
      },
      "execution_count": 155,
      "outputs": []
    },
    {
      "cell_type": "code",
      "source": [
        "mse_bayesian = mean_squared_error(y_test, y_pred_bayesian)\n",
        "rmse_bayesian = np.sqrt(mse_bayesian)\n",
        "r2_bayesian = r2_score(y_test, y_pred_bayesian)\n",
        "\n",
        "print(\"Mean Squared Error:\", mse_bayesian)\n",
        "print(\"RMSE:\", rmse_bayesian)\n",
        "print(\"R-squared:\", r2_bayesian)"
      ],
      "metadata": {
        "colab": {
          "base_uri": "https://localhost:8080/"
        },
        "id": "Mp9a6Gc6ibvI",
        "outputId": "f6920298-13c4-4c45-dff7-abf3779d18b4"
      },
      "execution_count": 156,
      "outputs": [
        {
          "output_type": "stream",
          "name": "stdout",
          "text": [
            "Mean Squared Error: 81.77804002117753\n",
            "RMSE: 9.043121143785344\n",
            "R-squared: 0.21403166802491602\n"
          ]
        }
      ]
    },
    {
      "cell_type": "code",
      "source": [
        "joblib.dump(bayesian_model, 'bayesianRegression.joblib')"
      ],
      "metadata": {
        "colab": {
          "base_uri": "https://localhost:8080/"
        },
        "id": "X9Y08ANhilhe",
        "outputId": "e764277c-c984-4c6a-8c09-495819fb8b11"
      },
      "execution_count": 157,
      "outputs": [
        {
          "output_type": "execute_result",
          "data": {
            "text/plain": [
              "['bayesianRegression.joblib']"
            ]
          },
          "metadata": {},
          "execution_count": 157
        }
      ]
    },
    {
      "cell_type": "code",
      "source": [
        "for actual, predicted in zip(np.array(y_test)[:100], y_pred_bayesian[:100]):\n",
        "    print(f'Actual: {actual}, Predicted: {predicted:.2f}')"
      ],
      "metadata": {
        "colab": {
          "base_uri": "https://localhost:8080/"
        },
        "id": "z6HLPSM9ixvp",
        "outputId": "c1e3cc2f-a185-4bb6-9173-07a8b7178376"
      },
      "execution_count": 158,
      "outputs": [
        {
          "output_type": "stream",
          "name": "stdout",
          "text": [
            "Actual: 35.5, Predicted: 21.89\n",
            "Actual: 35.5, Predicted: 22.63\n",
            "Actual: 35.5, Predicted: 22.66\n",
            "Actual: 35.5, Predicted: 21.95\n",
            "Actual: 35.5, Predicted: 21.82\n",
            "Actual: 35.5, Predicted: 21.95\n",
            "Actual: 35.5, Predicted: 22.10\n",
            "Actual: 35.5, Predicted: 22.08\n",
            "Actual: 35.5, Predicted: 21.77\n",
            "Actual: 35.5, Predicted: 21.89\n",
            "Actual: 35.5, Predicted: 21.68\n",
            "Actual: 35.5, Predicted: 21.71\n",
            "Actual: 35.5, Predicted: 22.00\n",
            "Actual: 35.5, Predicted: 22.16\n",
            "Actual: 35.5, Predicted: 21.94\n",
            "Actual: 35.5, Predicted: 22.18\n",
            "Actual: 35.5, Predicted: 22.13\n",
            "Actual: 35.5, Predicted: 21.84\n",
            "Actual: 35.5, Predicted: 21.95\n",
            "Actual: 35.5, Predicted: 21.97\n",
            "Actual: 11.0, Predicted: 20.42\n",
            "Actual: 11.0, Predicted: 19.91\n",
            "Actual: 11.0, Predicted: 19.94\n",
            "Actual: 11.0, Predicted: 19.57\n",
            "Actual: 11.0, Predicted: 20.15\n",
            "Actual: 11.0, Predicted: 19.54\n",
            "Actual: 11.0, Predicted: 18.48\n",
            "Actual: 11.0, Predicted: 19.01\n",
            "Actual: 11.0, Predicted: 18.53\n",
            "Actual: 11.0, Predicted: 19.00\n",
            "Actual: 11.0, Predicted: 19.72\n",
            "Actual: 11.0, Predicted: 20.17\n",
            "Actual: 11.0, Predicted: 19.98\n",
            "Actual: 11.0, Predicted: 19.45\n",
            "Actual: 11.0, Predicted: 19.78\n",
            "Actual: 11.0, Predicted: 19.27\n",
            "Actual: 11.0, Predicted: 19.09\n",
            "Actual: 11.0, Predicted: 19.28\n",
            "Actual: 11.0, Predicted: 19.96\n",
            "Actual: 11.0, Predicted: 20.17\n",
            "Actual: 24.0, Predicted: 26.01\n",
            "Actual: 24.0, Predicted: 25.07\n",
            "Actual: 24.0, Predicted: 25.79\n",
            "Actual: 24.0, Predicted: 25.90\n",
            "Actual: 24.0, Predicted: 25.14\n",
            "Actual: 24.0, Predicted: 25.21\n",
            "Actual: 24.0, Predicted: 27.11\n",
            "Actual: 24.0, Predicted: 26.16\n",
            "Actual: 24.0, Predicted: 25.18\n",
            "Actual: 24.0, Predicted: 25.61\n",
            "Actual: 24.0, Predicted: 25.65\n",
            "Actual: 24.0, Predicted: 24.85\n",
            "Actual: 24.0, Predicted: 25.07\n",
            "Actual: 24.0, Predicted: 26.88\n",
            "Actual: 24.0, Predicted: 25.61\n",
            "Actual: 24.0, Predicted: 25.54\n",
            "Actual: 24.0, Predicted: 27.06\n",
            "Actual: 24.0, Predicted: 25.03\n",
            "Actual: 24.0, Predicted: 25.43\n",
            "Actual: 24.0, Predicted: 25.61\n",
            "Actual: 19.0, Predicted: 22.32\n",
            "Actual: 19.0, Predicted: 22.50\n",
            "Actual: 19.0, Predicted: 22.29\n",
            "Actual: 19.0, Predicted: 22.21\n",
            "Actual: 19.0, Predicted: 22.26\n",
            "Actual: 19.0, Predicted: 22.01\n",
            "Actual: 19.0, Predicted: 22.24\n",
            "Actual: 19.0, Predicted: 22.09\n",
            "Actual: 19.0, Predicted: 22.60\n",
            "Actual: 19.0, Predicted: 22.67\n",
            "Actual: 19.0, Predicted: 22.67\n",
            "Actual: 19.0, Predicted: 22.20\n",
            "Actual: 19.0, Predicted: 22.07\n",
            "Actual: 19.0, Predicted: 22.43\n",
            "Actual: 19.0, Predicted: 22.01\n",
            "Actual: 19.0, Predicted: 22.57\n",
            "Actual: 19.0, Predicted: 22.37\n",
            "Actual: 19.0, Predicted: 22.81\n",
            "Actual: 19.0, Predicted: 22.32\n",
            "Actual: 19.0, Predicted: 22.04\n",
            "Actual: 37.0, Predicted: 28.29\n",
            "Actual: 37.0, Predicted: 28.13\n",
            "Actual: 37.0, Predicted: 27.42\n",
            "Actual: 37.0, Predicted: 28.44\n",
            "Actual: 37.0, Predicted: 28.17\n",
            "Actual: 37.0, Predicted: 28.80\n",
            "Actual: 37.0, Predicted: 28.01\n",
            "Actual: 37.0, Predicted: 28.60\n",
            "Actual: 37.0, Predicted: 28.21\n",
            "Actual: 37.0, Predicted: 28.20\n",
            "Actual: 37.0, Predicted: 28.20\n",
            "Actual: 37.0, Predicted: 28.56\n",
            "Actual: 37.0, Predicted: 28.09\n",
            "Actual: 37.0, Predicted: 28.48\n",
            "Actual: 37.0, Predicted: 28.52\n",
            "Actual: 37.0, Predicted: 27.96\n",
            "Actual: 37.0, Predicted: 27.38\n",
            "Actual: 37.0, Predicted: 30.10\n",
            "Actual: 37.0, Predicted: 28.36\n",
            "Actual: 37.0, Predicted: 31.14\n"
          ]
        }
      ]
    }
  ]
}